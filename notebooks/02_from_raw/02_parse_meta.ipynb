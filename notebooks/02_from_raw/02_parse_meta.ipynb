{
 "cells": [
  {
   "cell_type": "markdown",
   "metadata": {},
   "source": [
    "# 02 :: Parse meta information\n",
    "\n",
    "**Objectives:**\n",
    "\n",
    "* Read the meta data into a dataframe, save to parquet\n",
    "* Properly turn columns into "
   ]
  },
  {
   "cell_type": "code",
   "execution_count": 28,
   "metadata": {},
   "outputs": [],
   "source": [
    "import pandas as pd\n",
    "import numpy as np\n",
    "import os\n",
    "\n",
    "import matplotlib as mpl\n",
    "import matplotlib.pyplot as plt\n",
    "import seaborn as sns\n",
    "\n",
    "sns.set(style=\"whitegrid\")"
   ]
  },
  {
   "cell_type": "code",
   "execution_count": 130,
   "metadata": {},
   "outputs": [],
   "source": [
    "raw_RData_path = '/media/tmo/data/work/datasets/02_ST/raw/raw_filtered.RData'\n",
    "raw_parquet    = '/media/tmo/data/work/datasets/02_ST/raw/raw.parquet'\n",
    "lcpm_parquet   = '/media/tmo/data/work/datasets/02_ST/lcpm/lcpm.parquet'\n",
    "meta_parquet   = '/media/tmo/data/work/datasets/02_ST/meta/meta.parquet'"
   ]
  },
  {
   "cell_type": "code",
   "execution_count": 42,
   "metadata": {},
   "outputs": [],
   "source": [
    "wd = '/media/tmo/data/work/datasets/02_ST/ST_structure/'\n",
    "slides_meta_file = wd + 'spatial_transcriptomics_slide.tsv'"
   ]
  },
  {
   "cell_type": "code",
   "execution_count": 121,
   "metadata": {},
   "outputs": [],
   "source": [
    "slide_IDs = [\n",
    "    'B02_D1', 'B02_E1', 'B03_C2', 'B03_D2', 'B04_D1',\n",
    "    'B04_E1', 'B05_D2', 'B05_E2', 'B06_E1', 'B07_C2',\n",
    "    'N02_C1', 'N02_D1', 'N03_C2', 'N03_D2', 'N04_D1',\n",
    "    'N04_E1', 'N05_C2', 'N05_D2', 'N06_D2', 'N07_C1']\n",
    "\n",
    "def add_slide_ID(df):\n",
    "    df['slide_ID'] = df['spot_UID'].apply(lambda x: str(x).split('__')[0])\n",
    "    \n",
    "    return df\n",
    "\n",
    "def to_slide(slide_or_idx):\n",
    "    if isinstance(slide_or_idx, int):\n",
    "        return slide_IDs[slide_or_idx]\n",
    "    else:\n",
    "        return slide_or_idx\n",
    "\n",
    "def read_slide_meta(slide_or_idx, wd=wd):\n",
    "    \"\"\"\n",
    "    Read the metadata of 1 slide, specified by slide name or index.\n",
    "    \"\"\"\n",
    "    \n",
    "    file = '{0}{1}/metadata/{1}.meta.tsv'.format(wd, to_slide(slide_or_idx))\n",
    "    \n",
    "    df = pd.read_csv(file, sep='\\t', index_col=0)\n",
    "    df.index.name='spot_UID'\n",
    "    \n",
    "    print(df.shape)\n",
    "    \n",
    "    df = df.reset_index()\n",
    "    \n",
    "    # Add slide ID\n",
    "    df = add_slide_ID(df)\n",
    "    \n",
    "    # Region categorical\n",
    "    df['region'] = df['Region_predict'].astype('category')\n",
    "    df.drop('Region_predict', axis=1)\n",
    "    \n",
    "    return df\n",
    "\n",
    "def read_slides_meta(file=slides_meta_file):\n",
    "    \"\"\"\n",
    "    Read the .csv file with meta data about the slides.\n",
    "    \"\"\"\n",
    "    \n",
    "    COLUMNS = ['Sample id', 'GenotypeShort', 'Age (day)', 'Age (month)']\n",
    "    \n",
    "    df = pd.read_csv(file, sep='\\t')[COLUMNS]\n",
    "    df.columns = ['sampleID', 'GT', 'age_days', 'age_months']\n",
    "    \n",
    "    # Add age column (young, old)\n",
    "    df['age'] = np.where(df['age_months'] < 10, 'young', 'old')\n",
    "    df['age'] = df['age'].astype('category')\n",
    "    \n",
    "    # Add combined column age_GT.\n",
    "    df['age_gt'] = df[['age', 'GT']].apply(lambda x: '_'.join(x), axis=1)\n",
    "    df['age_gt'] = df['age_gt'].astype('category')\n",
    "    \n",
    "    df['slide_ID'] = df['sampleID']\n",
    "    df.drop('sampleID', axis=1)\n",
    "            \n",
    "    return pd.DataFrame(slide_IDs, columns=['slide_ID']).merge(df, how='inner', on='slide_ID')            "
   ]
  },
  {
   "cell_type": "markdown",
   "metadata": {},
   "source": [
    "## Parse all meta data, combine and write to Parquet"
   ]
  },
  {
   "cell_type": "code",
   "execution_count": 92,
   "metadata": {},
   "outputs": [],
   "source": [
    "slides_meta_df = read_slides_meta()"
   ]
  },
  {
   "cell_type": "code",
   "execution_count": 116,
   "metadata": {},
   "outputs": [],
   "source": [
    "acc = []\n",
    "for idx in range(0, 20):    \n",
    "    acc.append(read_slide_meta(idx))\n",
    "\n",
    "meta_df = pd.concat(acc)"
   ]
  },
  {
   "cell_type": "code",
   "execution_count": 127,
   "metadata": {},
   "outputs": [],
   "source": [
    "all_meta_df = meta_df.merge(slides_meta_df, on=['slide_ID'])"
   ]
  },
  {
   "cell_type": "code",
   "execution_count": 129,
   "metadata": {},
   "outputs": [
    {
     "name": "stdout",
     "output_type": "stream",
     "text": [
      "<class 'pandas.core.frame.DataFrame'>\n",
      "Int64Index: 23100 entries, 0 to 23099\n",
      "Columns: 307 entries, spot_UID to age_gt\n",
      "dtypes: category(2), float64(234), int64(65), object(6)\n",
      "memory usage: 54.0+ MB\n"
     ]
    }
   ],
   "source": [
    "all_meta_df.info()"
   ]
  },
  {
   "cell_type": "code",
   "execution_count": 132,
   "metadata": {},
   "outputs": [
    {
     "name": "stdout",
     "output_type": "stream",
     "text": [
      "CPU times: user 0 ns, sys: 3 µs, total: 3 µs\n",
      "Wall time: 6.2 µs\n"
     ]
    }
   ],
   "source": [
    "%%time\n",
    "# all_meta_df.to_parquet(meta_parquet, engine='pyarrow', compression='snappy')"
   ]
  },
  {
   "cell_type": "code",
   "execution_count": null,
   "metadata": {},
   "outputs": [],
   "source": []
  }
 ],
 "metadata": {
  "kernelspec": {
   "display_name": "Python [default]",
   "language": "python",
   "name": "python3"
  },
  "language_info": {
   "codemirror_mode": {
    "name": "ipython",
    "version": 3
   },
   "file_extension": ".py",
   "mimetype": "text/x-python",
   "name": "python",
   "nbconvert_exporter": "python",
   "pygments_lexer": "ipython3",
   "version": "3.5.5"
  }
 },
 "nbformat": 4,
 "nbformat_minor": 2
}
