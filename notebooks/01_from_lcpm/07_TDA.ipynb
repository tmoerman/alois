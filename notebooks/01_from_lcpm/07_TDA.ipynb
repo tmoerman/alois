{
 "cells": [
  {
   "cell_type": "markdown",
   "metadata": {},
   "source": [
    "# 06 TDA \n",
    "\n",
    "**Objective:**\n",
    "* test out KeplerMapper on Spatial Transcriptomics data with different lenses"
   ]
  },
  {
   "cell_type": "code",
   "execution_count": 1,
   "metadata": {},
   "outputs": [],
   "source": [
    "# %load common.py\n",
    "import pandas as pd\n",
    "import numpy as np\n",
    "import os\n",
    "\n",
    "import matplotlib as mpl\n",
    "import matplotlib.pyplot as plt\n",
    "import seaborn as sns\n",
    "\n",
    "sns.set(style=\"whitegrid\")\n",
    "\n",
    "# Commonly used constants.\n",
    "\n",
    "slides = [\n",
    "    'B02_D1', 'B02_E1', 'B03_C2', 'B03_D2', 'B04_D1',\n",
    "    'B04_E1', 'B05_D2', 'B05_E2', 'B06_E1', 'B07_C2',\n",
    "    'N02_C1', 'N02_D1', 'N03_C2', 'N03_D2', 'N04_D1',\n",
    "    'N04_E1', 'N05_C2', 'N05_D2', 'N06_D2', 'N07_C1']\n",
    "\n",
    "GT = 'GT'\n",
    "YEN = 'AB1_StdDev_Yen'\n",
    "REGION = 'Region_predict'\n",
    "ASTROCYTE = 'astrocyte'\n",
    "NEURON = 'neuron'\n",
    "INTERNEURON = 'interneuron'\n",
    "AGE = 'age'\n",
    "DAYS = 'age_days'\n",
    "MONTHS = 'age_months'\n",
    "AGE_GT ='age_GT'\n",
    "SAMPLE_ID = 'sampleID'\n",
    "SPOT_UID = 'spot_UID'\n",
    "SLIDE_ID = 'slide_ID'\n",
    "\n",
    "# The merged data file in Parquet format.\n",
    "\n",
    "parquet = '/media/tmo/data/work/datasets/02_ST/parquet/'\n",
    "st_full = parquet + 'st_full'\n",
    "\n",
    "def read_full(path=st_full):\n",
    "    return pd.read_parquet(st_full)\n",
    "\n",
    "def enrich(full):\n",
    "    # Add age column (young, old)\n",
    "    full[AGE] = np.where(full[MONTHS] < 10, 'young', 'old')\n",
    "    \n",
    "    # Add combined column age_GT.\n",
    "    full[AGE_GT] = full[[AGE, GT]].apply(lambda x: '_'.join(x), axis=1)\n",
    "    \n",
    "    # parse slide ID\n",
    "    full['slide_ID'] = full[SPOT_UID].apply(lambda x: str(x).split('__')[0])\n",
    "    \n",
    "    return full\n",
    "\n",
    "def read_enriched(path=st_full):\n",
    "    return enrich(read_full(path))\n",
    "    \n",
    "# TODO\n",
    "# * add 'coarse_region' that joins regions with <500 entries in them into one region OTHER"
   ]
  },
  {
   "cell_type": "code",
   "execution_count": 2,
   "metadata": {},
   "outputs": [],
   "source": [
    "full = read_enriched()"
   ]
  },
  {
   "cell_type": "code",
   "execution_count": 3,
   "metadata": {},
   "outputs": [],
   "source": [
    "n_genes = 46454"
   ]
  },
  {
   "cell_type": "code",
   "execution_count": 4,
   "metadata": {},
   "outputs": [],
   "source": [
    "gene_cols = full.columns[1:n_genes+1]"
   ]
  },
  {
   "cell_type": "code",
   "execution_count": 5,
   "metadata": {},
   "outputs": [],
   "source": [
    "ex_matrix = full[gene_cols].as_matrix()"
   ]
  },
  {
   "cell_type": "code",
   "execution_count": 6,
   "metadata": {},
   "outputs": [
    {
     "data": {
      "text/plain": [
       "(10327, 46454)"
      ]
     },
     "execution_count": 6,
     "metadata": {},
     "output_type": "execute_result"
    }
   ],
   "source": [
    "ex_matrix.shape"
   ]
  },
  {
   "cell_type": "code",
   "execution_count": 40,
   "metadata": {},
   "outputs": [],
   "source": [
    "ex_matrix_AB1 = full[full['AB1_StdDev_Yen'] > 0][gene_cols].as_matrix()"
   ]
  },
  {
   "cell_type": "code",
   "execution_count": 41,
   "metadata": {},
   "outputs": [
    {
     "data": {
      "text/plain": [
       "(5009, 46454)"
      ]
     },
     "execution_count": 41,
     "metadata": {},
     "output_type": "execute_result"
    }
   ],
   "source": [
    "ex_matrix_AB1.shape"
   ]
  },
  {
   "cell_type": "markdown",
   "metadata": {},
   "source": [
    "---"
   ]
  },
  {
   "cell_type": "code",
   "execution_count": 42,
   "metadata": {},
   "outputs": [],
   "source": [
    "import kmapper as km\n",
    "from kmapper.cover import Cover\n",
    "from sklearn.cluster import DBSCAN"
   ]
  },
  {
   "cell_type": "code",
   "execution_count": 43,
   "metadata": {},
   "outputs": [],
   "source": [
    "mapper = km.KeplerMapper(verbose=1)"
   ]
  },
  {
   "cell_type": "code",
   "execution_count": 44,
   "metadata": {},
   "outputs": [],
   "source": [
    "yen_lens = full[full['AB1_StdDev_Yen'] > 0]['AB1_StdDev_Yen'].values"
   ]
  },
  {
   "cell_type": "code",
   "execution_count": 45,
   "metadata": {},
   "outputs": [
    {
     "data": {
      "image/png": "[encoded data removed]",
      "text/plain": [
       "<matplotlib.figure.Figure at 0x7f4dea905a20>"
      ]
     },
     "metadata": {},
     "output_type": "display_data"
    }
   ],
   "source": [
    "full[full['AB1_StdDev_Yen'] > 0][['AB1_StdDev_Yen']].sort_values(by='AB1_StdDev_Yen', ascending=False).plot(use_index=False)\n",
    "plt.show()"
   ]
  },
  {
   "cell_type": "code",
   "execution_count": 47,
   "metadata": {},
   "outputs": [
    {
     "name": "stdout",
     "output_type": "stream",
     "text": [
      "Mapping on data shaped (5009, 46454) using lens shaped (5009,)\n",
      "\n",
      "Creating 50 hypercubes.\n",
      "\n",
      "Created 0 edges and 0 nodes in 0:07:51.347290.\n",
      "CPU times: user 2min 6s, sys: 5min 29s, total: 7min 35s\n",
      "Wall time: 7min 51s\n"
     ]
    }
   ],
   "source": [
    "%%time\n",
    "graph = mapper.map(yen_lens,\n",
    "                   ex_matrix_AB1,\n",
    "                   clusterer=DBSCAN(n_jobs=-1, eps=0.01),\n",
    "                   coverer=Cover(nr_cubes=50, overlap_perc=0.33))"
   ]
  },
  {
   "cell_type": "code",
   "execution_count": 48,
   "metadata": {},
   "outputs": [
    {
     "ename": "ValueError",
     "evalue": "zero-size array to reduction operation maximum which has no identity",
     "output_type": "error",
     "traceback": [
      "\u001b[0;31m---------------------------------------------------------------------------\u001b[0m",
      "\u001b[0;31mAttributeError\u001b[0m                            Traceback (most recent call last)",
      "\u001b[0;32m~/work/batiskav/installs/anaconda3/lib/python3.5/site-packages/numpy/core/fromnumeric.py\u001b[0m in \u001b[0;36mamax\u001b[0;34m(a, axis, out, keepdims)\u001b[0m\n\u001b[1;32m   2289\u001b[0m         \u001b[0;32mtry\u001b[0m\u001b[0;34m:\u001b[0m\u001b[0;34m\u001b[0m\u001b[0m\n\u001b[0;32m-> 2290\u001b[0;31m             \u001b[0mamax\u001b[0m \u001b[0;34m=\u001b[0m \u001b[0ma\u001b[0m\u001b[0;34m.\u001b[0m\u001b[0mmax\u001b[0m\u001b[0;34m\u001b[0m\u001b[0m\n\u001b[0m\u001b[1;32m   2291\u001b[0m         \u001b[0;32mexcept\u001b[0m \u001b[0mAttributeError\u001b[0m\u001b[0;34m:\u001b[0m\u001b[0;34m\u001b[0m\u001b[0m\n",
      "\u001b[0;31mAttributeError\u001b[0m: 'list' object has no attribute 'max'",
      "\nDuring handling of the above exception, another exception occurred:\n",
      "\u001b[0;31mValueError\u001b[0m                                Traceback (most recent call last)",
      "\u001b[0;32m<ipython-input-48-488b99c40af5>\u001b[0m in \u001b[0;36m<module>\u001b[0;34m()\u001b[0m\n\u001b[0;32m----> 1\u001b[0;31m \u001b[0mmapper\u001b[0m\u001b[0;34m.\u001b[0m\u001b[0mvisualize\u001b[0m\u001b[0;34m(\u001b[0m\u001b[0mgraph\u001b[0m\u001b[0;34m)\u001b[0m\u001b[0;34m\u001b[0m\u001b[0m\n\u001b[0m",
      "\u001b[0;32m~/work/batiskav/installs/anaconda3/lib/python3.5/site-packages/kmapper/kmapper.py\u001b[0m in \u001b[0;36mvisualize\u001b[0;34m(self, graph, color_function, custom_tooltips, custom_meta, path_html, title, save_file, inverse_X, inverse_X_names, projected_X, projected_X_names)\u001b[0m\n\u001b[1;32m    364\u001b[0m         \"\"\"\n\u001b[1;32m    365\u001b[0m \u001b[0;34m\u001b[0m\u001b[0m\n\u001b[0;32m--> 366\u001b[0;31m         \u001b[0mcolor_function\u001b[0m \u001b[0;34m=\u001b[0m \u001b[0minit_color_function\u001b[0m\u001b[0;34m(\u001b[0m\u001b[0mgraph\u001b[0m\u001b[0;34m,\u001b[0m \u001b[0mcolor_function\u001b[0m\u001b[0;34m)\u001b[0m\u001b[0;34m\u001b[0m\u001b[0m\n\u001b[0m\u001b[1;32m    367\u001b[0m         json_graph = dict_to_json(\n\u001b[1;32m    368\u001b[0m             graph, color_function, inverse_X, inverse_X_names, projected_X, projected_X_names, custom_tooltips)\n",
      "\u001b[0;32m~/work/batiskav/installs/anaconda3/lib/python3.5/site-packages/kmapper/visuals.py\u001b[0m in \u001b[0;36minit_color_function\u001b[0;34m(graph, color_function)\u001b[0m\n\u001b[1;32m      9\u001b[0m     \u001b[0;31m# If no color_function provided we color by row order in data set\u001b[0m\u001b[0;34m\u001b[0m\u001b[0;34m\u001b[0m\u001b[0m\n\u001b[1;32m     10\u001b[0m     \u001b[0;31m# Reshaping to 2-D array is required for sklearn 0.19\u001b[0m\u001b[0;34m\u001b[0m\u001b[0;34m\u001b[0m\u001b[0m\n\u001b[0;32m---> 11\u001b[0;31m     \u001b[0mn_samples\u001b[0m \u001b[0;34m=\u001b[0m \u001b[0mnp\u001b[0m\u001b[0;34m.\u001b[0m\u001b[0mmax\u001b[0m\u001b[0;34m(\u001b[0m\u001b[0;34m[\u001b[0m\u001b[0mi\u001b[0m \u001b[0;32mfor\u001b[0m \u001b[0ms\u001b[0m \u001b[0;32min\u001b[0m \u001b[0mgraph\u001b[0m\u001b[0;34m[\u001b[0m\u001b[0;34m\"nodes\"\u001b[0m\u001b[0;34m]\u001b[0m\u001b[0;34m.\u001b[0m\u001b[0mvalues\u001b[0m\u001b[0;34m(\u001b[0m\u001b[0;34m)\u001b[0m \u001b[0;32mfor\u001b[0m \u001b[0mi\u001b[0m \u001b[0;32min\u001b[0m \u001b[0ms\u001b[0m\u001b[0;34m]\u001b[0m\u001b[0;34m)\u001b[0m \u001b[0;34m+\u001b[0m \u001b[0;36m1\u001b[0m\u001b[0;34m\u001b[0m\u001b[0m\n\u001b[0m\u001b[1;32m     12\u001b[0m     \u001b[0;32mif\u001b[0m \u001b[0mcolor_function\u001b[0m \u001b[0;32mis\u001b[0m \u001b[0;32mNone\u001b[0m\u001b[0;34m:\u001b[0m\u001b[0;34m\u001b[0m\u001b[0m\n\u001b[1;32m     13\u001b[0m         \u001b[0mcolor_function\u001b[0m \u001b[0;34m=\u001b[0m \u001b[0mnp\u001b[0m\u001b[0;34m.\u001b[0m\u001b[0marange\u001b[0m\u001b[0;34m(\u001b[0m\u001b[0mn_samples\u001b[0m\u001b[0;34m)\u001b[0m\u001b[0;34m.\u001b[0m\u001b[0mreshape\u001b[0m\u001b[0;34m(\u001b[0m\u001b[0;34m-\u001b[0m\u001b[0;36m1\u001b[0m\u001b[0;34m,\u001b[0m \u001b[0;36m1\u001b[0m\u001b[0;34m)\u001b[0m\u001b[0;34m\u001b[0m\u001b[0m\n",
      "\u001b[0;32m~/work/batiskav/installs/anaconda3/lib/python3.5/site-packages/numpy/core/fromnumeric.py\u001b[0m in \u001b[0;36mamax\u001b[0;34m(a, axis, out, keepdims)\u001b[0m\n\u001b[1;32m   2291\u001b[0m         \u001b[0;32mexcept\u001b[0m \u001b[0mAttributeError\u001b[0m\u001b[0;34m:\u001b[0m\u001b[0;34m\u001b[0m\u001b[0m\n\u001b[1;32m   2292\u001b[0m             return _methods._amax(a, axis=axis,\n\u001b[0;32m-> 2293\u001b[0;31m                                 out=out, **kwargs)\n\u001b[0m\u001b[1;32m   2294\u001b[0m         \u001b[0;32mreturn\u001b[0m \u001b[0mamax\u001b[0m\u001b[0;34m(\u001b[0m\u001b[0maxis\u001b[0m\u001b[0;34m=\u001b[0m\u001b[0maxis\u001b[0m\u001b[0;34m,\u001b[0m \u001b[0mout\u001b[0m\u001b[0;34m=\u001b[0m\u001b[0mout\u001b[0m\u001b[0;34m,\u001b[0m \u001b[0;34m**\u001b[0m\u001b[0mkwargs\u001b[0m\u001b[0;34m)\u001b[0m\u001b[0;34m\u001b[0m\u001b[0m\n\u001b[1;32m   2295\u001b[0m     \u001b[0;32melse\u001b[0m\u001b[0;34m:\u001b[0m\u001b[0;34m\u001b[0m\u001b[0m\n",
      "\u001b[0;32m~/work/batiskav/installs/anaconda3/lib/python3.5/site-packages/numpy/core/_methods.py\u001b[0m in \u001b[0;36m_amax\u001b[0;34m(a, axis, out, keepdims)\u001b[0m\n\u001b[1;32m     24\u001b[0m \u001b[0;31m# small reductions\u001b[0m\u001b[0;34m\u001b[0m\u001b[0;34m\u001b[0m\u001b[0m\n\u001b[1;32m     25\u001b[0m \u001b[0;32mdef\u001b[0m \u001b[0m_amax\u001b[0m\u001b[0;34m(\u001b[0m\u001b[0ma\u001b[0m\u001b[0;34m,\u001b[0m \u001b[0maxis\u001b[0m\u001b[0;34m=\u001b[0m\u001b[0;32mNone\u001b[0m\u001b[0;34m,\u001b[0m \u001b[0mout\u001b[0m\u001b[0;34m=\u001b[0m\u001b[0;32mNone\u001b[0m\u001b[0;34m,\u001b[0m \u001b[0mkeepdims\u001b[0m\u001b[0;34m=\u001b[0m\u001b[0;32mFalse\u001b[0m\u001b[0;34m)\u001b[0m\u001b[0;34m:\u001b[0m\u001b[0;34m\u001b[0m\u001b[0m\n\u001b[0;32m---> 26\u001b[0;31m     \u001b[0;32mreturn\u001b[0m \u001b[0mumr_maximum\u001b[0m\u001b[0;34m(\u001b[0m\u001b[0ma\u001b[0m\u001b[0;34m,\u001b[0m \u001b[0maxis\u001b[0m\u001b[0;34m,\u001b[0m \u001b[0;32mNone\u001b[0m\u001b[0;34m,\u001b[0m \u001b[0mout\u001b[0m\u001b[0;34m,\u001b[0m \u001b[0mkeepdims\u001b[0m\u001b[0;34m)\u001b[0m\u001b[0;34m\u001b[0m\u001b[0m\n\u001b[0m\u001b[1;32m     27\u001b[0m \u001b[0;34m\u001b[0m\u001b[0m\n\u001b[1;32m     28\u001b[0m \u001b[0;32mdef\u001b[0m \u001b[0m_amin\u001b[0m\u001b[0;34m(\u001b[0m\u001b[0ma\u001b[0m\u001b[0;34m,\u001b[0m \u001b[0maxis\u001b[0m\u001b[0;34m=\u001b[0m\u001b[0;32mNone\u001b[0m\u001b[0;34m,\u001b[0m \u001b[0mout\u001b[0m\u001b[0;34m=\u001b[0m\u001b[0;32mNone\u001b[0m\u001b[0;34m,\u001b[0m \u001b[0mkeepdims\u001b[0m\u001b[0;34m=\u001b[0m\u001b[0;32mFalse\u001b[0m\u001b[0;34m)\u001b[0m\u001b[0;34m:\u001b[0m\u001b[0;34m\u001b[0m\u001b[0m\n",
      "\u001b[0;31mValueError\u001b[0m: zero-size array to reduction operation maximum which has no identity"
     ]
    }
   ],
   "source": [
    "mapper.visualize(graph)"
   ]
  },
  {
   "cell_type": "code",
   "execution_count": 49,
   "metadata": {},
   "outputs": [],
   "source": [
    "from sklearn.manifold import t_sne"
   ]
  },
  {
   "cell_type": "code",
   "execution_count": 51,
   "metadata": {},
   "outputs": [
    {
     "data": {
      "text/plain": [
       "\u001b[0;31mInit signature:\u001b[0m \u001b[0mt_sne\u001b[0m\u001b[0;34m.\u001b[0m\u001b[0mTSNE\u001b[0m\u001b[0;34m(\u001b[0m\u001b[0mn_components\u001b[0m\u001b[0;34m=\u001b[0m\u001b[0;36m2\u001b[0m\u001b[0;34m,\u001b[0m \u001b[0mperplexity\u001b[0m\u001b[0;34m=\u001b[0m\u001b[0;36m30.0\u001b[0m\u001b[0;34m,\u001b[0m \u001b[0mearly_exaggeration\u001b[0m\u001b[0;34m=\u001b[0m\u001b[0;36m4.0\u001b[0m\u001b[0;34m,\u001b[0m \u001b[0mlearning_rate\u001b[0m\u001b[0;34m=\u001b[0m\u001b[0;36m1000.0\u001b[0m\u001b[0;34m,\u001b[0m \u001b[0mn_iter\u001b[0m\u001b[0;34m=\u001b[0m\u001b[0;36m1000\u001b[0m\u001b[0;34m,\u001b[0m \u001b[0mn_iter_without_progress\u001b[0m\u001b[0;34m=\u001b[0m\u001b[0;36m30\u001b[0m\u001b[0;34m,\u001b[0m \u001b[0mmin_grad_norm\u001b[0m\u001b[0;34m=\u001b[0m\u001b[0;36m1e-07\u001b[0m\u001b[0;34m,\u001b[0m \u001b[0mmetric\u001b[0m\u001b[0;34m=\u001b[0m\u001b[0;34m'euclidean'\u001b[0m\u001b[0;34m,\u001b[0m \u001b[0minit\u001b[0m\u001b[0;34m=\u001b[0m\u001b[0;34m'random'\u001b[0m\u001b[0;34m,\u001b[0m \u001b[0mverbose\u001b[0m\u001b[0;34m=\u001b[0m\u001b[0;36m0\u001b[0m\u001b[0;34m,\u001b[0m \u001b[0mrandom_state\u001b[0m\u001b[0;34m=\u001b[0m\u001b[0;32mNone\u001b[0m\u001b[0;34m,\u001b[0m \u001b[0mmethod\u001b[0m\u001b[0;34m=\u001b[0m\u001b[0;34m'barnes_hut'\u001b[0m\u001b[0;34m,\u001b[0m \u001b[0mangle\u001b[0m\u001b[0;34m=\u001b[0m\u001b[0;36m0.5\u001b[0m\u001b[0;34m)\u001b[0m\u001b[0;34m\u001b[0m\u001b[0m\n",
       "\u001b[0;31mDocstring:\u001b[0m     \n",
       "t-distributed Stochastic Neighbor Embedding.\n",
       "\n",
       "t-SNE [1] is a tool to visualize high-dimensional data. It converts\n",
       "similarities between data points to joint probabilities and tries\n",
       "to minimize the Kullback-Leibler divergence between the joint\n",
       "probabilities of the low-dimensional embedding and the\n",
       "high-dimensional data. t-SNE has a cost function that is not convex,\n",
       "i.e. with different initializations we can get different results.\n",
       "\n",
       "It is highly recommended to use another dimensionality reduction\n",
       "method (e.g. PCA for dense data or TruncatedSVD for sparse data)\n",
       "to reduce the number of dimensions to a reasonable amount (e.g. 50)\n",
       "if the number of features is very high. This will suppress some\n",
       "noise and speed up the computation of pairwise distances between\n",
       "samples. For more tips see Laurens van der Maaten's FAQ [2].\n",
       "\n",
       "Read more in the :ref:`User Guide <t_sne>`.\n",
       "\n",
       "Parameters\n",
       "----------\n",
       "n_components : int, optional (default: 2)\n",
       "    Dimension of the embedded space.\n",
       "\n",
       "perplexity : float, optional (default: 30)\n",
       "    The perplexity is related to the number of nearest neighbors that\n",
       "    is used in other manifold learning algorithms. Larger datasets\n",
       "    usually require a larger perplexity. Consider selecting a value\n",
       "    between 5 and 50. The choice is not extremely critical since t-SNE\n",
       "    is quite insensitive to this parameter.\n",
       "\n",
       "early_exaggeration : float, optional (default: 4.0)\n",
       "    Controls how tight natural clusters in the original space are in\n",
       "    the embedded space and how much space will be between them. For\n",
       "    larger values, the space between natural clusters will be larger\n",
       "    in the embedded space. Again, the choice of this parameter is not\n",
       "    very critical. If the cost function increases during initial\n",
       "    optimization, the early exaggeration factor or the learning rate\n",
       "    might be too high.\n",
       "\n",
       "learning_rate : float, optional (default: 1000)\n",
       "    The learning rate can be a critical parameter. It should be\n",
       "    between 100 and 1000. If the cost function increases during initial\n",
       "    optimization, the early exaggeration factor or the learning rate\n",
       "    might be too high. If the cost function gets stuck in a bad local\n",
       "    minimum increasing the learning rate helps sometimes.\n",
       "\n",
       "n_iter : int, optional (default: 1000)\n",
       "    Maximum number of iterations for the optimization. Should be at\n",
       "    least 200.\n",
       "\n",
       "n_iter_without_progress : int, optional (default: 30)\n",
       "    Only used if method='exact'\n",
       "    Maximum number of iterations without progress before we abort the\n",
       "    optimization. If method='barnes_hut' this parameter is fixed to\n",
       "    a value of 30 and cannot be changed.\n",
       "\n",
       "    .. versionadded:: 0.17\n",
       "       parameter *n_iter_without_progress* to control stopping criteria.\n",
       "\n",
       "min_grad_norm : float, optional (default: 1e-7)\n",
       "    Only used if method='exact'\n",
       "    If the gradient norm is below this threshold, the optimization will\n",
       "    be aborted. If method='barnes_hut' this parameter is fixed to a value\n",
       "    of 1e-3 and cannot be changed.\n",
       "\n",
       "metric : string or callable, optional\n",
       "    The metric to use when calculating distance between instances in a\n",
       "    feature array. If metric is a string, it must be one of the options\n",
       "    allowed by scipy.spatial.distance.pdist for its metric parameter, or\n",
       "    a metric listed in pairwise.PAIRWISE_DISTANCE_FUNCTIONS.\n",
       "    If metric is \"precomputed\", X is assumed to be a distance matrix.\n",
       "    Alternatively, if metric is a callable function, it is called on each\n",
       "    pair of instances (rows) and the resulting value recorded. The callable\n",
       "    should take two arrays from X as input and return a value indicating\n",
       "    the distance between them. The default is \"euclidean\" which is\n",
       "    interpreted as squared euclidean distance.\n",
       "\n",
       "init : string or numpy array, optional (default: \"random\")\n",
       "    Initialization of embedding. Possible options are 'random', 'pca',\n",
       "    and a numpy array of shape (n_samples, n_components).\n",
       "    PCA initialization cannot be used with precomputed distances and is\n",
       "    usually more globally stable than random initialization.\n",
       "\n",
       "verbose : int, optional (default: 0)\n",
       "    Verbosity level.\n",
       "\n",
       "random_state : int or RandomState instance or None (default)\n",
       "    Pseudo Random Number generator seed control. If None, use the\n",
       "    numpy.random singleton. Note that different initializations\n",
       "    might result in different local minima of the cost function.\n",
       "\n",
       "method : string (default: 'barnes_hut')\n",
       "    By default the gradient calculation algorithm uses Barnes-Hut\n",
       "    approximation running in O(NlogN) time. method='exact'\n",
       "    will run on the slower, but exact, algorithm in O(N^2) time. The\n",
       "    exact algorithm should be used when nearest-neighbor errors need\n",
       "    to be better than 3%. However, the exact method cannot scale to\n",
       "    millions of examples.\n",
       "\n",
       "    .. versionadded:: 0.17\n",
       "       Approximate optimization *method* via the Barnes-Hut.\n",
       "\n",
       "angle : float (default: 0.5)\n",
       "    Only used if method='barnes_hut'\n",
       "    This is the trade-off between speed and accuracy for Barnes-Hut T-SNE.\n",
       "    'angle' is the angular size (referred to as theta in [3]) of a distant\n",
       "    node as measured from a point. If this size is below 'angle' then it is\n",
       "    used as a summary node of all points contained within it.\n",
       "    This method is not very sensitive to changes in this parameter\n",
       "    in the range of 0.2 - 0.8. Angle less than 0.2 has quickly increasing\n",
       "    computation time and angle greater 0.8 has quickly increasing error.\n",
       "\n",
       "\n",
       "Attributes\n",
       "----------\n",
       "embedding_ : array-like, shape (n_samples, n_components)\n",
       "    Stores the embedding vectors.\n",
       "\n",
       "kl_divergence_ : float\n",
       "    Kullback-Leibler divergence after optimization.\n",
       "\n",
       "Examples\n",
       "--------\n",
       "\n",
       ">>> import numpy as np\n",
       ">>> from sklearn.manifold import TSNE\n",
       ">>> X = np.array([[0, 0, 0], [0, 1, 1], [1, 0, 1], [1, 1, 1]])\n",
       ">>> model = TSNE(n_components=2, random_state=0)\n",
       ">>> np.set_printoptions(suppress=True)\n",
       ">>> model.fit_transform(X) # doctest: +ELLIPSIS, +NORMALIZE_WHITESPACE\n",
       "array([[ 0.00017599,  0.00003993],\n",
       "       [ 0.00009891,  0.00021913],\n",
       "       [ 0.00018554, -0.00009357],\n",
       "       [ 0.00009528, -0.00001407]])\n",
       "\n",
       "References\n",
       "----------\n",
       "\n",
       "[1] van der Maaten, L.J.P.; Hinton, G.E. Visualizing High-Dimensional Data\n",
       "    Using t-SNE. Journal of Machine Learning Research 9:2579-2605, 2008.\n",
       "\n",
       "[2] van der Maaten, L.J.P. t-Distributed Stochastic Neighbor Embedding\n",
       "    http://homepage.tudelft.nl/19j49/t-SNE.html\n",
       "\n",
       "[3] L.J.P. van der Maaten. Accelerating t-SNE using Tree-Based Algorithms.\n",
       "    Journal of Machine Learning Research 15(Oct):3221-3245, 2014.\n",
       "    http://lvdmaaten.github.io/publications/papers/JMLR_2014.pdf\n",
       "\u001b[0;31mFile:\u001b[0m           ~/work/batiskav/installs/anaconda3/lib/python3.5/site-packages/sklearn/manifold/t_sne.py\n",
       "\u001b[0;31mType:\u001b[0m           type\n"
      ]
     },
     "metadata": {},
     "output_type": "display_data"
    }
   ],
   "source": [
    "t_sne.TSNE?"
   ]
  },
  {
   "cell_type": "code",
   "execution_count": null,
   "metadata": {},
   "outputs": [],
   "source": []
  }
 ],
 "metadata": {
  "kernelspec": {
   "display_name": "Python [default]",
   "language": "python",
   "name": "python3"
  },
  "language_info": {
   "codemirror_mode": {
    "name": "ipython",
    "version": 3
   },
   "file_extension": ".py",
   "mimetype": "text/x-python",
   "name": "python",
   "nbconvert_exporter": "python",
   "pygments_lexer": "ipython3",
   "version": "3.5.5"
  }
 },
 "nbformat": 4,
 "nbformat_minor": 2
}
