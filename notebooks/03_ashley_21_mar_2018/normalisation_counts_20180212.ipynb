{
 "cells": [
  {
   "cell_type": "code",
   "execution_count": 1,
   "metadata": {},
   "outputs": [
    {
     "name": "stderr",
     "output_type": "stream",
     "text": [
      "Loading required package: limma\n"
     ]
    }
   ],
   "source": [
    "library(\"edgeR\")\n",
    "library(\"limma\")\n",
    "library(ggplot2)\n"
   ]
  },
  {
   "cell_type": "markdown",
   "metadata": {},
   "source": [
    "## unzip the file"
   ]
  },
  {
   "cell_type": "code",
   "execution_count": 2,
   "metadata": {
    "collapsed": true,
    "scrolled": true
   },
   "outputs": [],
   "source": [
    "raw=load(\"../001.merged/counts/raw_filtered.RData\")"
   ]
  },
  {
   "cell_type": "code",
   "execution_count": 3,
   "metadata": {},
   "outputs": [
    {
     "data": {
      "text/html": [
       "FALSE"
      ],
      "text/latex": [
       "FALSE"
      ],
      "text/markdown": [
       "FALSE"
      ],
      "text/plain": [
       "[1] FALSE"
      ]
     },
     "metadata": {},
     "output_type": "display_data"
    }
   ],
   "source": [
    "any(is.na(dat))\n",
    "dat[is.na(dat)] <- 0"
   ]
  },
  {
   "cell_type": "code",
   "execution_count": 4,
   "metadata": {},
   "outputs": [
    {
     "data": {
      "text/html": [
       "<table>\n",
       "<thead><tr><th></th><th scope=col>-343C11.2</th><th scope=col>00R_AC107638.2</th><th scope=col>0610005C13Rik</th><th scope=col>0610006L08Rik</th><th scope=col>0610007P14Rik</th><th scope=col>0610009B22Rik</th><th scope=col>0610009E02Rik</th><th scope=col>0610009L18Rik</th><th scope=col>0610009O20Rik</th><th scope=col>0610010F05Rik</th><th scope=col>⋯</th><th scope=col>n-R5s90</th><th scope=col>n-R5s92</th><th scope=col>n-R5s93</th><th scope=col>n-R5s94</th><th scope=col>n-R5s95</th><th scope=col>n-R5s96</th><th scope=col>n-R5s97</th><th scope=col>n-R5s98</th><th scope=col>n-TSaga9</th><th scope=col>n-TStga1</th></tr></thead>\n",
       "<tbody>\n",
       "\t<tr><th scope=row>N05_C2__20_6</th><td>0</td><td>0</td><td>0</td><td>0</td><td>0</td><td>0</td><td>1</td><td>0</td><td>0</td><td>0</td><td>⋯</td><td>0</td><td>0</td><td>0</td><td>0</td><td>0</td><td>0</td><td>0</td><td>0</td><td>0</td><td>0</td></tr>\n",
       "\t<tr><th scope=row>N05_C2__17_6</th><td>0</td><td>0</td><td>0</td><td>0</td><td>2</td><td>1</td><td>0</td><td>0</td><td>0</td><td>0</td><td>⋯</td><td>0</td><td>0</td><td>0</td><td>0</td><td>0</td><td>0</td><td>0</td><td>0</td><td>0</td><td>0</td></tr>\n",
       "\t<tr><th scope=row>N05_C2__16_6</th><td>0</td><td>0</td><td>0</td><td>0</td><td>0</td><td>1</td><td>0</td><td>0</td><td>1</td><td>0</td><td>⋯</td><td>0</td><td>0</td><td>0</td><td>0</td><td>0</td><td>0</td><td>0</td><td>0</td><td>0</td><td>0</td></tr>\n",
       "\t<tr><th scope=row>N05_C2__19_6</th><td>0</td><td>0</td><td>0</td><td>0</td><td>7</td><td>0</td><td>0</td><td>0</td><td>1</td><td>1</td><td>⋯</td><td>0</td><td>0</td><td>0</td><td>0</td><td>0</td><td>0</td><td>0</td><td>0</td><td>0</td><td>0</td></tr>\n",
       "\t<tr><th scope=row>N05_C2__18_6</th><td>0</td><td>0</td><td>0</td><td>0</td><td>3</td><td>3</td><td>0</td><td>0</td><td>0</td><td>5</td><td>⋯</td><td>0</td><td>0</td><td>0</td><td>0</td><td>0</td><td>0</td><td>0</td><td>0</td><td>0</td><td>0</td></tr>\n",
       "\t<tr><th scope=row>N05_C2__15_6</th><td>0</td><td>0</td><td>0</td><td>0</td><td>2</td><td>0</td><td>0</td><td>0</td><td>1</td><td>0</td><td>⋯</td><td>0</td><td>0</td><td>0</td><td>0</td><td>0</td><td>0</td><td>0</td><td>0</td><td>0</td><td>0</td></tr>\n",
       "</tbody>\n",
       "</table>\n"
      ],
      "text/markdown": [
       "\n",
       "| <!--/--> | -343C11.2 | 00R_AC107638.2 | 0610005C13Rik | 0610006L08Rik | 0610007P14Rik | 0610009B22Rik | 0610009E02Rik | 0610009L18Rik | 0610009O20Rik | 0610010F05Rik | ⋯ | n-R5s90 | n-R5s92 | n-R5s93 | n-R5s94 | n-R5s95 | n-R5s96 | n-R5s97 | n-R5s98 | n-TSaga9 | n-TStga1 | \n",
       "|---|---|---|---|---|---|\n",
       "| N05_C2__20_6 | 0 | 0 | 0 | 0 | 0 | 0 | 1 | 0 | 0 | 0 | ⋯ | 0 | 0 | 0 | 0 | 0 | 0 | 0 | 0 | 0 | 0 | \n",
       "| N05_C2__17_6 | 0 | 0 | 0 | 0 | 2 | 1 | 0 | 0 | 0 | 0 | ⋯ | 0 | 0 | 0 | 0 | 0 | 0 | 0 | 0 | 0 | 0 | \n",
       "| N05_C2__16_6 | 0 | 0 | 0 | 0 | 0 | 1 | 0 | 0 | 1 | 0 | ⋯ | 0 | 0 | 0 | 0 | 0 | 0 | 0 | 0 | 0 | 0 | \n",
       "| N05_C2__19_6 | 0 | 0 | 0 | 0 | 7 | 0 | 0 | 0 | 1 | 1 | ⋯ | 0 | 0 | 0 | 0 | 0 | 0 | 0 | 0 | 0 | 0 | \n",
       "| N05_C2__18_6 | 0 | 0 | 0 | 0 | 3 | 3 | 0 | 0 | 0 | 5 | ⋯ | 0 | 0 | 0 | 0 | 0 | 0 | 0 | 0 | 0 | 0 | \n",
       "| N05_C2__15_6 | 0 | 0 | 0 | 0 | 2 | 0 | 0 | 0 | 1 | 0 | ⋯ | 0 | 0 | 0 | 0 | 0 | 0 | 0 | 0 | 0 | 0 | \n",
       "\n",
       "\n"
      ],
      "text/plain": [
       "             -343C11.2 00R_AC107638.2 0610005C13Rik 0610006L08Rik 0610007P14Rik\n",
       "N05_C2__20_6 0         0              0             0             0            \n",
       "N05_C2__17_6 0         0              0             0             2            \n",
       "N05_C2__16_6 0         0              0             0             0            \n",
       "N05_C2__19_6 0         0              0             0             7            \n",
       "N05_C2__18_6 0         0              0             0             3            \n",
       "N05_C2__15_6 0         0              0             0             2            \n",
       "             0610009B22Rik 0610009E02Rik 0610009L18Rik 0610009O20Rik\n",
       "N05_C2__20_6 0             1             0             0            \n",
       "N05_C2__17_6 1             0             0             0            \n",
       "N05_C2__16_6 1             0             0             1            \n",
       "N05_C2__19_6 0             0             0             1            \n",
       "N05_C2__18_6 3             0             0             0            \n",
       "N05_C2__15_6 0             0             0             1            \n",
       "             0610010F05Rik ⋯ n-R5s90 n-R5s92 n-R5s93 n-R5s94 n-R5s95 n-R5s96\n",
       "N05_C2__20_6 0             ⋯ 0       0       0       0       0       0      \n",
       "N05_C2__17_6 0             ⋯ 0       0       0       0       0       0      \n",
       "N05_C2__16_6 0             ⋯ 0       0       0       0       0       0      \n",
       "N05_C2__19_6 1             ⋯ 0       0       0       0       0       0      \n",
       "N05_C2__18_6 5             ⋯ 0       0       0       0       0       0      \n",
       "N05_C2__15_6 0             ⋯ 0       0       0       0       0       0      \n",
       "             n-R5s97 n-R5s98 n-TSaga9 n-TStga1\n",
       "N05_C2__20_6 0       0       0        0       \n",
       "N05_C2__17_6 0       0       0        0       \n",
       "N05_C2__16_6 0       0       0        0       \n",
       "N05_C2__19_6 0       0       0        0       \n",
       "N05_C2__18_6 0       0       0        0       \n",
       "N05_C2__15_6 0       0       0        0       "
      ]
     },
     "metadata": {},
     "output_type": "display_data"
    }
   ],
   "source": [
    "head(dat)"
   ]
  },
  {
   "cell_type": "markdown",
   "metadata": {},
   "source": [
    "## load filtered raw data into a gene expression data matrrix and get normalised factor\n"
   ]
  },
  {
   "cell_type": "code",
   "execution_count": 11,
   "metadata": {
    "collapsed": true
   },
   "outputs": [],
   "source": [
    "\n",
    "dge <- DGEList(counts=(t(dat)))\n",
    "## without size normalisation\n",
    "#dge <- calcNormFactors(dge)\n"
   ]
  },
  {
   "cell_type": "code",
   "execution_count": 12,
   "metadata": {},
   "outputs": [
    {
     "data": {
      "text/html": [
       "<table>\n",
       "<thead><tr><th></th><th scope=col>N05_C2__20_6</th><th scope=col>N05_C2__17_6</th><th scope=col>N05_C2__16_6</th><th scope=col>N05_C2__19_6</th><th scope=col>N05_C2__18_6</th><th scope=col>N05_C2__15_6</th><th scope=col>N05_C2__3_6</th><th scope=col>N05_C2__13_7</th><th scope=col>N05_C2__14_7</th><th scope=col>N05_C2__21_7</th><th scope=col>⋯</th><th scope=col>B05_E2__6_29</th><th scope=col>B05_E2__10_29</th><th scope=col>B05_E2__12_29</th><th scope=col>B05_E2__13_29</th><th scope=col>B05_E2__9_29</th><th scope=col>B05_E2__8_29</th><th scope=col>B05_E2__11_29</th><th scope=col>B05_E2__15_29</th><th scope=col>B05_E2__14_29</th><th scope=col>B05_E2__7_29</th></tr></thead>\n",
       "<tbody>\n",
       "\t<tr><th scope=row>-343C11.2</th><td>0</td><td>0</td><td>0</td><td>0</td><td>0</td><td>0</td><td>0</td><td>0</td><td>0</td><td>0</td><td>⋯</td><td>0</td><td>0</td><td>0</td><td>0</td><td>0</td><td>0</td><td>0</td><td>0</td><td>0</td><td>0</td></tr>\n",
       "\t<tr><th scope=row>00R_AC107638.2</th><td>0</td><td>0</td><td>0</td><td>0</td><td>0</td><td>0</td><td>0</td><td>0</td><td>0</td><td>0</td><td>⋯</td><td>0</td><td>0</td><td>0</td><td>0</td><td>0</td><td>0</td><td>0</td><td>0</td><td>0</td><td>0</td></tr>\n",
       "\t<tr><th scope=row>0610005C13Rik</th><td>0</td><td>0</td><td>0</td><td>0</td><td>0</td><td>0</td><td>0</td><td>0</td><td>0</td><td>0</td><td>⋯</td><td>0</td><td>0</td><td>0</td><td>0</td><td>0</td><td>0</td><td>0</td><td>0</td><td>0</td><td>0</td></tr>\n",
       "\t<tr><th scope=row>0610006L08Rik</th><td>0</td><td>0</td><td>0</td><td>0</td><td>0</td><td>0</td><td>0</td><td>0</td><td>0</td><td>0</td><td>⋯</td><td>0</td><td>0</td><td>0</td><td>0</td><td>0</td><td>0</td><td>0</td><td>0</td><td>0</td><td>0</td></tr>\n",
       "\t<tr><th scope=row>0610007P14Rik</th><td>0</td><td>2</td><td>0</td><td>7</td><td>3</td><td>2</td><td>2</td><td>1</td><td>0</td><td>1</td><td>⋯</td><td>0</td><td>0</td><td>0</td><td>4</td><td>0</td><td>2</td><td>0</td><td>0</td><td>1</td><td>1</td></tr>\n",
       "\t<tr><th scope=row>0610009B22Rik</th><td>0</td><td>1</td><td>1</td><td>0</td><td>3</td><td>0</td><td>1</td><td>0</td><td>0</td><td>0</td><td>⋯</td><td>0</td><td>0</td><td>1</td><td>0</td><td>0</td><td>0</td><td>0</td><td>0</td><td>0</td><td>1</td></tr>\n",
       "</tbody>\n",
       "</table>\n"
      ],
      "text/markdown": [
       "\n",
       "| <!--/--> | N05_C2__20_6 | N05_C2__17_6 | N05_C2__16_6 | N05_C2__19_6 | N05_C2__18_6 | N05_C2__15_6 | N05_C2__3_6 | N05_C2__13_7 | N05_C2__14_7 | N05_C2__21_7 | ⋯ | B05_E2__6_29 | B05_E2__10_29 | B05_E2__12_29 | B05_E2__13_29 | B05_E2__9_29 | B05_E2__8_29 | B05_E2__11_29 | B05_E2__15_29 | B05_E2__14_29 | B05_E2__7_29 | \n",
       "|---|---|---|---|---|---|\n",
       "| -343C11.2 | 0 | 0 | 0 | 0 | 0 | 0 | 0 | 0 | 0 | 0 | ⋯ | 0 | 0 | 0 | 0 | 0 | 0 | 0 | 0 | 0 | 0 | \n",
       "| 00R_AC107638.2 | 0 | 0 | 0 | 0 | 0 | 0 | 0 | 0 | 0 | 0 | ⋯ | 0 | 0 | 0 | 0 | 0 | 0 | 0 | 0 | 0 | 0 | \n",
       "| 0610005C13Rik | 0 | 0 | 0 | 0 | 0 | 0 | 0 | 0 | 0 | 0 | ⋯ | 0 | 0 | 0 | 0 | 0 | 0 | 0 | 0 | 0 | 0 | \n",
       "| 0610006L08Rik | 0 | 0 | 0 | 0 | 0 | 0 | 0 | 0 | 0 | 0 | ⋯ | 0 | 0 | 0 | 0 | 0 | 0 | 0 | 0 | 0 | 0 | \n",
       "| 0610007P14Rik | 0 | 2 | 0 | 7 | 3 | 2 | 2 | 1 | 0 | 1 | ⋯ | 0 | 0 | 0 | 4 | 0 | 2 | 0 | 0 | 1 | 1 | \n",
       "| 0610009B22Rik | 0 | 1 | 1 | 0 | 3 | 0 | 1 | 0 | 0 | 0 | ⋯ | 0 | 0 | 1 | 0 | 0 | 0 | 0 | 0 | 0 | 1 | \n",
       "\n",
       "\n"
      ],
      "text/plain": [
       "               N05_C2__20_6 N05_C2__17_6 N05_C2__16_6 N05_C2__19_6 N05_C2__18_6\n",
       "-343C11.2      0            0            0            0            0           \n",
       "00R_AC107638.2 0            0            0            0            0           \n",
       "0610005C13Rik  0            0            0            0            0           \n",
       "0610006L08Rik  0            0            0            0            0           \n",
       "0610007P14Rik  0            2            0            7            3           \n",
       "0610009B22Rik  0            1            1            0            3           \n",
       "               N05_C2__15_6 N05_C2__3_6 N05_C2__13_7 N05_C2__14_7 N05_C2__21_7\n",
       "-343C11.2      0            0           0            0            0           \n",
       "00R_AC107638.2 0            0           0            0            0           \n",
       "0610005C13Rik  0            0           0            0            0           \n",
       "0610006L08Rik  0            0           0            0            0           \n",
       "0610007P14Rik  2            2           1            0            1           \n",
       "0610009B22Rik  0            1           0            0            0           \n",
       "               ⋯ B05_E2__6_29 B05_E2__10_29 B05_E2__12_29 B05_E2__13_29\n",
       "-343C11.2      ⋯ 0            0             0             0            \n",
       "00R_AC107638.2 ⋯ 0            0             0             0            \n",
       "0610005C13Rik  ⋯ 0            0             0             0            \n",
       "0610006L08Rik  ⋯ 0            0             0             0            \n",
       "0610007P14Rik  ⋯ 0            0             0             4            \n",
       "0610009B22Rik  ⋯ 0            0             1             0            \n",
       "               B05_E2__9_29 B05_E2__8_29 B05_E2__11_29 B05_E2__15_29\n",
       "-343C11.2      0            0            0             0            \n",
       "00R_AC107638.2 0            0            0             0            \n",
       "0610005C13Rik  0            0            0             0            \n",
       "0610006L08Rik  0            0            0             0            \n",
       "0610007P14Rik  0            2            0             0            \n",
       "0610009B22Rik  0            0            0             0            \n",
       "               B05_E2__14_29 B05_E2__7_29\n",
       "-343C11.2      0             0           \n",
       "00R_AC107638.2 0             0           \n",
       "0610005C13Rik  0             0           \n",
       "0610006L08Rik  0             0           \n",
       "0610007P14Rik  1             1           \n",
       "0610009B22Rik  0             1           "
      ]
     },
     "metadata": {},
     "output_type": "display_data"
    }
   ],
   "source": [
    "head(dge$counts)"
   ]
  },
  {
   "cell_type": "markdown",
   "metadata": {},
   "source": [
    "## get cpm"
   ]
  },
  {
   "cell_type": "code",
   "execution_count": 10,
   "metadata": {},
   "outputs": [],
   "source": [
    "#edgeR::cpm.default"
   ]
  },
  {
   "cell_type": "code",
   "execution_count": null,
   "metadata": {},
   "outputs": [],
   "source": []
  },
  {
   "cell_type": "code",
   "execution_count": 9,
   "metadata": {
    "collapsed": true
   },
   "outputs": [],
   "source": [
    "\n",
    "cpm_nm_log=cpm(dge,log=T)"
   ]
  },
  {
   "cell_type": "code",
   "execution_count": 13,
   "metadata": {
    "collapsed": true
   },
   "outputs": [],
   "source": [
    "cpm_nm_log=data.frame(cpm_nm_log)"
   ]
  },
  {
   "cell_type": "markdown",
   "metadata": {},
   "source": [
    "## output counts"
   ]
  },
  {
   "cell_type": "code",
   "execution_count": 14,
   "metadata": {},
   "outputs": [
    {
     "data": {
      "text/html": [
       "<table>\n",
       "<thead><tr><th></th><th scope=col>N05_C2__20_6</th><th scope=col>N05_C2__17_6</th><th scope=col>N05_C2__16_6</th><th scope=col>N05_C2__19_6</th><th scope=col>N05_C2__18_6</th><th scope=col>N05_C2__15_6</th><th scope=col>N05_C2__3_6</th><th scope=col>N05_C2__13_7</th><th scope=col>N05_C2__14_7</th><th scope=col>N05_C2__21_7</th><th scope=col>⋯</th><th scope=col>B05_E2__6_29</th><th scope=col>B05_E2__10_29</th><th scope=col>B05_E2__12_29</th><th scope=col>B05_E2__13_29</th><th scope=col>B05_E2__9_29</th><th scope=col>B05_E2__8_29</th><th scope=col>B05_E2__11_29</th><th scope=col>B05_E2__15_29</th><th scope=col>B05_E2__14_29</th><th scope=col>B05_E2__7_29</th></tr></thead>\n",
       "<tbody>\n",
       "\t<tr><th scope=row>-343C11.2</th><td>2.982974</td><td>2.982974</td><td>2.982974</td><td>2.982974</td><td>2.982974</td><td>2.982974</td><td>2.982974</td><td>2.982974</td><td>2.982974</td><td>2.982974</td><td>⋯       </td><td>2.982974</td><td>2.982974</td><td>2.982974</td><td>2.982974</td><td>2.982974</td><td>2.982974</td><td>2.982974</td><td>2.982974</td><td>2.982974</td><td>2.982974</td></tr>\n",
       "\t<tr><th scope=row>00R_AC107638.2</th><td>2.982974</td><td>2.982974</td><td>2.982974</td><td>2.982974</td><td>2.982974</td><td>2.982974</td><td>2.982974</td><td>2.982974</td><td>2.982974</td><td>2.982974</td><td>⋯       </td><td>2.982974</td><td>2.982974</td><td>2.982974</td><td>2.982974</td><td>2.982974</td><td>2.982974</td><td>2.982974</td><td>2.982974</td><td>2.982974</td><td>2.982974</td></tr>\n",
       "\t<tr><th scope=row>0610005C13Rik</th><td>2.982974</td><td>2.982974</td><td>2.982974</td><td>2.982974</td><td>2.982974</td><td>2.982974</td><td>2.982974</td><td>2.982974</td><td>2.982974</td><td>2.982974</td><td>⋯       </td><td>2.982974</td><td>2.982974</td><td>2.982974</td><td>2.982974</td><td>2.982974</td><td>2.982974</td><td>2.982974</td><td>2.982974</td><td>2.982974</td><td>2.982974</td></tr>\n",
       "\t<tr><th scope=row>0610006L08Rik</th><td>2.982974</td><td>2.982974</td><td>2.982974</td><td>2.982974</td><td>2.982974</td><td>2.982974</td><td>2.982974</td><td>2.982974</td><td>2.982974</td><td>2.982974</td><td>⋯       </td><td>2.982974</td><td>2.982974</td><td>2.982974</td><td>2.982974</td><td>2.982974</td><td>2.982974</td><td>2.982974</td><td>2.982974</td><td>2.982974</td><td>2.982974</td></tr>\n",
       "\t<tr><th scope=row>0610007P14Rik</th><td>2.982974</td><td>6.827059</td><td>2.982974</td><td>7.661385</td><td>6.738947</td><td>6.524093</td><td>6.881386</td><td>6.011763</td><td>2.982974</td><td>5.184282</td><td>⋯       </td><td>2.982974</td><td>2.982974</td><td>2.982974</td><td>7.095959</td><td>2.982974</td><td>5.920370</td><td>2.982974</td><td>2.982974</td><td>5.669215</td><td>5.086527</td></tr>\n",
       "\t<tr><th scope=row>0610009B22Rik</th><td>2.982974</td><td>5.924174</td><td>5.609164</td><td>2.982974</td><td>6.738947</td><td>2.982974</td><td>5.975027</td><td>2.982974</td><td>2.982974</td><td>2.982974</td><td>⋯       </td><td>2.982974</td><td>2.982974</td><td>5.348561</td><td>2.982974</td><td>2.982974</td><td>2.982974</td><td>2.982974</td><td>2.982974</td><td>2.982974</td><td>5.086527</td></tr>\n",
       "</tbody>\n",
       "</table>\n"
      ],
      "text/markdown": [
       "\n",
       "| <!--/--> | N05_C2__20_6 | N05_C2__17_6 | N05_C2__16_6 | N05_C2__19_6 | N05_C2__18_6 | N05_C2__15_6 | N05_C2__3_6 | N05_C2__13_7 | N05_C2__14_7 | N05_C2__21_7 | ⋯ | B05_E2__6_29 | B05_E2__10_29 | B05_E2__12_29 | B05_E2__13_29 | B05_E2__9_29 | B05_E2__8_29 | B05_E2__11_29 | B05_E2__15_29 | B05_E2__14_29 | B05_E2__7_29 | \n",
       "|---|---|---|---|---|---|\n",
       "| -343C11.2 | 2.982974 | 2.982974 | 2.982974 | 2.982974 | 2.982974 | 2.982974 | 2.982974 | 2.982974 | 2.982974 | 2.982974 | ⋯        | 2.982974 | 2.982974 | 2.982974 | 2.982974 | 2.982974 | 2.982974 | 2.982974 | 2.982974 | 2.982974 | 2.982974 | \n",
       "| 00R_AC107638.2 | 2.982974 | 2.982974 | 2.982974 | 2.982974 | 2.982974 | 2.982974 | 2.982974 | 2.982974 | 2.982974 | 2.982974 | ⋯        | 2.982974 | 2.982974 | 2.982974 | 2.982974 | 2.982974 | 2.982974 | 2.982974 | 2.982974 | 2.982974 | 2.982974 | \n",
       "| 0610005C13Rik | 2.982974 | 2.982974 | 2.982974 | 2.982974 | 2.982974 | 2.982974 | 2.982974 | 2.982974 | 2.982974 | 2.982974 | ⋯        | 2.982974 | 2.982974 | 2.982974 | 2.982974 | 2.982974 | 2.982974 | 2.982974 | 2.982974 | 2.982974 | 2.982974 | \n",
       "| 0610006L08Rik | 2.982974 | 2.982974 | 2.982974 | 2.982974 | 2.982974 | 2.982974 | 2.982974 | 2.982974 | 2.982974 | 2.982974 | ⋯        | 2.982974 | 2.982974 | 2.982974 | 2.982974 | 2.982974 | 2.982974 | 2.982974 | 2.982974 | 2.982974 | 2.982974 | \n",
       "| 0610007P14Rik | 2.982974 | 6.827059 | 2.982974 | 7.661385 | 6.738947 | 6.524093 | 6.881386 | 6.011763 | 2.982974 | 5.184282 | ⋯        | 2.982974 | 2.982974 | 2.982974 | 7.095959 | 2.982974 | 5.920370 | 2.982974 | 2.982974 | 5.669215 | 5.086527 | \n",
       "| 0610009B22Rik | 2.982974 | 5.924174 | 5.609164 | 2.982974 | 6.738947 | 2.982974 | 5.975027 | 2.982974 | 2.982974 | 2.982974 | ⋯        | 2.982974 | 2.982974 | 5.348561 | 2.982974 | 2.982974 | 2.982974 | 2.982974 | 2.982974 | 2.982974 | 5.086527 | \n",
       "\n",
       "\n"
      ],
      "text/plain": [
       "               N05_C2__20_6 N05_C2__17_6 N05_C2__16_6 N05_C2__19_6 N05_C2__18_6\n",
       "-343C11.2      2.982974     2.982974     2.982974     2.982974     2.982974    \n",
       "00R_AC107638.2 2.982974     2.982974     2.982974     2.982974     2.982974    \n",
       "0610005C13Rik  2.982974     2.982974     2.982974     2.982974     2.982974    \n",
       "0610006L08Rik  2.982974     2.982974     2.982974     2.982974     2.982974    \n",
       "0610007P14Rik  2.982974     6.827059     2.982974     7.661385     6.738947    \n",
       "0610009B22Rik  2.982974     5.924174     5.609164     2.982974     6.738947    \n",
       "               N05_C2__15_6 N05_C2__3_6 N05_C2__13_7 N05_C2__14_7 N05_C2__21_7\n",
       "-343C11.2      2.982974     2.982974    2.982974     2.982974     2.982974    \n",
       "00R_AC107638.2 2.982974     2.982974    2.982974     2.982974     2.982974    \n",
       "0610005C13Rik  2.982974     2.982974    2.982974     2.982974     2.982974    \n",
       "0610006L08Rik  2.982974     2.982974    2.982974     2.982974     2.982974    \n",
       "0610007P14Rik  6.524093     6.881386    6.011763     2.982974     5.184282    \n",
       "0610009B22Rik  2.982974     5.975027    2.982974     2.982974     2.982974    \n",
       "               ⋯ B05_E2__6_29 B05_E2__10_29 B05_E2__12_29 B05_E2__13_29\n",
       "-343C11.2      ⋯ 2.982974     2.982974      2.982974      2.982974     \n",
       "00R_AC107638.2 ⋯ 2.982974     2.982974      2.982974      2.982974     \n",
       "0610005C13Rik  ⋯ 2.982974     2.982974      2.982974      2.982974     \n",
       "0610006L08Rik  ⋯ 2.982974     2.982974      2.982974      2.982974     \n",
       "0610007P14Rik  ⋯ 2.982974     2.982974      2.982974      7.095959     \n",
       "0610009B22Rik  ⋯ 2.982974     2.982974      5.348561      2.982974     \n",
       "               B05_E2__9_29 B05_E2__8_29 B05_E2__11_29 B05_E2__15_29\n",
       "-343C11.2      2.982974     2.982974     2.982974      2.982974     \n",
       "00R_AC107638.2 2.982974     2.982974     2.982974      2.982974     \n",
       "0610005C13Rik  2.982974     2.982974     2.982974      2.982974     \n",
       "0610006L08Rik  2.982974     2.982974     2.982974      2.982974     \n",
       "0610007P14Rik  2.982974     5.920370     2.982974      2.982974     \n",
       "0610009B22Rik  2.982974     2.982974     2.982974      2.982974     \n",
       "               B05_E2__14_29 B05_E2__7_29\n",
       "-343C11.2      2.982974      2.982974    \n",
       "00R_AC107638.2 2.982974      2.982974    \n",
       "0610005C13Rik  2.982974      2.982974    \n",
       "0610006L08Rik  2.982974      2.982974    \n",
       "0610007P14Rik  5.669215      5.086527    \n",
       "0610009B22Rik  2.982974      5.086527    "
      ]
     },
     "metadata": {},
     "output_type": "display_data"
    }
   ],
   "source": [
    "head(cpm_nm_log)"
   ]
  },
  {
   "cell_type": "code",
   "execution_count": null,
   "metadata": {},
   "outputs": [],
   "source": []
  },
  {
   "cell_type": "code",
   "execution_count": 42,
   "metadata": {
    "collapsed": true
   },
   "outputs": [],
   "source": [
    "#write.table(t(cpm_nm_log),\"/user/leuven/310/vsc31066/scratch/ST_counts/cpm_counts.txt\",sep=\"\\t\",quote = F)"
   ]
  },
  {
   "cell_type": "code",
   "execution_count": 15,
   "metadata": {
    "collapsed": true
   },
   "outputs": [],
   "source": [
    "save(cpm_nm_log,file=\"../001.merged/counts/log_cpm_20180212.RData\")"
   ]
  },
  {
   "cell_type": "code",
   "execution_count": null,
   "metadata": {
    "collapsed": true
   },
   "outputs": [],
   "source": []
  }
 ],
 "metadata": {
  "kernelspec": {
   "display_name": "R",
   "language": "R",
   "name": "ir"
  },
  "language_info": {
   "codemirror_mode": "r",
   "file_extension": ".r",
   "mimetype": "text/x-r-source",
   "name": "R",
   "pygments_lexer": "r",
   "version": "3.3.2"
  }
 },
 "nbformat": 4,
 "nbformat_minor": 2
}
