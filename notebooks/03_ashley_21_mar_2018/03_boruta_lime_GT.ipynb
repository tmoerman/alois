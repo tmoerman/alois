{
 "cells": [
  {
   "cell_type": "markdown",
   "metadata": {},
   "source": [
    "# 03 Genotype classifier\n",
    "\n",
    "In this notebook we'll explore LIME and Anchors and figure out if we can learn something from black-box ML models.\n",
    "\n",
    "\n",
    "**Objectives:**\n",
    "* use Boruta to find the involved features\n",
    "* train a GBM classifier that predicts genotype\n",
    "    * CV\n",
    "    * optimization? \n",
    "* explain using LIME\n",
    "* explain using Anchors\n",
    "\n",
    "**Refs:**\n",
    "* https://kkulma.github.io/2017-11-07-automated_machine_learning_in_cancer_detection/"
   ]
  },
  {
   "cell_type": "code",
   "execution_count": 2,
   "metadata": {},
   "outputs": [],
   "source": [
    "import pandas as pd\n",
    "import numpy as np\n",
    "import os\n",
    "import pickle\n",
    "\n",
    "import matplotlib as mpl\n",
    "import matplotlib.pyplot as plt\n",
    "import seaborn as sns\n",
    "\n",
    "from boruta import BorutaPy\n",
    "\n",
    "from sklearn.ensemble import RandomForestClassifier, RandomForestRegressor, GradientBoostingRegressor, GradientBoostingClassifier\n",
    "from sklearn.model_selection import RandomizedSearchCV, cross_val_score, ShuffleSplit\n",
    "\n",
    "import lime \n",
    "import sklearn.datasets\n",
    "from lime.lime_tabular import LimeTabularExplainer\n",
    "\n",
    "import rpy2.robjects as robjects\n",
    "from rpy2.robjects import pandas2ri\n",
    "pandas2ri.activate()\n",
    "\n",
    "sns.set(style=\"whitegrid\")"
   ]
  },
  {
   "cell_type": "markdown",
   "metadata": {},
   "source": [
    "---\n",
    "\n",
    "## Load the data"
   ]
  },
  {
   "cell_type": "code",
   "execution_count": 3,
   "metadata": {},
   "outputs": [],
   "source": [
    "wd = '/media/tmo/data/work/datasets/02_ST'\n",
    "\n",
    "logcpm_path = wd + '/ashley_21.03.2018/logcpm_merge_20180212.pickle'\n",
    "meta_path = wd + '/meta/meta.parquet'"
   ]
  },
  {
   "cell_type": "code",
   "execution_count": 4,
   "metadata": {},
   "outputs": [
    {
     "name": "stdout",
     "output_type": "stream",
     "text": [
      "CPU times: user 121 ms, sys: 265 ms, total: 386 ms\n",
      "Wall time: 198 ms\n"
     ]
    }
   ],
   "source": [
    "%%time\n",
    "meta_df = pd.read_parquet(meta_path)"
   ]
  },
  {
   "cell_type": "code",
   "execution_count": 5,
   "metadata": {},
   "outputs": [
    {
     "name": "stdout",
     "output_type": "stream",
     "text": [
      "CPU times: user 16.3 s, sys: 8.24 s, total: 24.5 s\n",
      "Wall time: 24.5 s\n"
     ]
    }
   ],
   "source": [
    "%%time\n",
    "logcpm_df = pickle.load(open(logcpm_path, \"rb\"))\n",
    "\n",
    "logcpm_df.index.name = 'spot_UID'\n",
    "logcpm_df.reset_index(inplace=True)\n",
    "logcpm_df.rename(columns={'sampleID': 'slide_ID'}, inplace=True)"
   ]
  },
  {
   "cell_type": "code",
   "execution_count": 6,
   "metadata": {},
   "outputs": [],
   "source": [
    "st_df = logcpm_df.merge(meta_df, how='inner', on=['spot_UID', 'slide_ID'])"
   ]
  },
  {
   "cell_type": "code",
   "execution_count": 7,
   "metadata": {},
   "outputs": [],
   "source": [
    "st_df['slide_ID'] = st_df['slide_ID'].astype('category', copy=False)\n",
    "st_df['GT'] = st_df['GT'].astype('category', copy=False)\n",
    "st_df['age'] = st_df['age_GT'].astype('category', copy=False)\n",
    "st_df['age_GT'] = st_df['age_GT'].astype('category', copy=False)"
   ]
  },
  {
   "cell_type": "code",
   "execution_count": 8,
   "metadata": {},
   "outputs": [],
   "source": [
    "n_genes = 46454\n",
    "gene_columns = st_df.columns[1:n_genes+1]"
   ]
  },
  {
   "cell_type": "code",
   "execution_count": 9,
   "metadata": {},
   "outputs": [],
   "source": [
    "expression_df = st_df[gene_columns]"
   ]
  },
  {
   "cell_type": "code",
   "execution_count": 10,
   "metadata": {},
   "outputs": [],
   "source": [
    "assert expression_df.shape == (10327, 46454)"
   ]
  },
  {
   "cell_type": "code",
   "execution_count": 11,
   "metadata": {},
   "outputs": [],
   "source": [
    "genotype_df = st_df[['GT']]"
   ]
  },
  {
   "cell_type": "markdown",
   "metadata": {},
   "source": [
    "---\n",
    "\n",
    "## Extract *all-relevant* feature set\n",
    "\n",
    "* use Boruta to reduce the transcriptome feature space to only the genes that perform significantly better than their scrambled counterparts.\n",
    "\n",
    "**Observations:**\n",
    "* remarkably, boruta spits out way more relevant features than when regressing on `[AB1_StdDev_Yen]`."
   ]
  },
  {
   "cell_type": "code",
   "execution_count": 11,
   "metadata": {},
   "outputs": [],
   "source": [
    "# boruta_rf = RandomForestClassifier(n_jobs=-1, n_estimators=1000, max_features='sqrt', max_depth=5)\n",
    "\n",
    "# def train_feature_selector(X_df=expression_df,  # the transcriptome expression vectors\n",
    "#                            y_df=genotype_df,    # the Genotype meta data column\n",
    "#                            estimator=boruta_rf, verbose=2, seed=42):  # boruta parameters\n",
    "#     feature_selector = BorutaPy(estimator=estimator, verbose=verbose, random_state=seed, n_estimators='auto')    \n",
    "    \n",
    "#     X = X_df.as_matrix()\n",
    "#     y = y_df.values.ravel()\n",
    "#     feature_selector.fit(X, y)\n",
    "    \n",
    "#     return feature_selector"
   ]
  },
  {
   "cell_type": "code",
   "execution_count": 12,
   "metadata": {},
   "outputs": [],
   "source": [
    "# GT_feature_selector = train_feature_selector()"
   ]
  },
  {
   "cell_type": "code",
   "execution_count": 13,
   "metadata": {},
   "outputs": [],
   "source": [
    "# GT_features = list(gene_columns[GT_feature_selector.support_])"
   ]
  },
  {
   "cell_type": "code",
   "execution_count": 14,
   "metadata": {},
   "outputs": [],
   "source": [
    "# GT_features_BAK = GT_features"
   ]
  },
  {
   "cell_type": "code",
   "execution_count": 15,
   "metadata": {},
   "outputs": [],
   "source": [
    "# pd.DataFrame(GT_features_BAK).to_csv('03_GT_features.txt', index=None, header=None)"
   ]
  },
  {
   "cell_type": "code",
   "execution_count": 12,
   "metadata": {},
   "outputs": [],
   "source": [
    "GT_features = list(pd.read_csv('03_GT_features.txt', header=None).values.ravel())"
   ]
  },
  {
   "cell_type": "code",
   "execution_count": 13,
   "metadata": {},
   "outputs": [],
   "source": [
    "def keep(gene):\n",
    "    rik = gene.endswith('Rik')\n",
    "    Gm_ = re.search('^Gm[0-9]+', gene) is not None\n",
    "    \n",
    "    return not (rik or Gm_)\n",
    "\n",
    "# GT_features = list(filter(lambda gene: keep(gene), GT_features))"
   ]
  },
  {
   "cell_type": "code",
   "execution_count": 14,
   "metadata": {},
   "outputs": [
    {
     "data": {
      "text/plain": [
       "1515"
      ]
     },
     "execution_count": 14,
     "metadata": {},
     "output_type": "execute_result"
    }
   ],
   "source": [
    "len(GT_features)"
   ]
  },
  {
   "cell_type": "code",
   "execution_count": 15,
   "metadata": {},
   "outputs": [],
   "source": [
    "X = st_df[GT_features]\n",
    "y = st_df['GT']"
   ]
  },
  {
   "cell_type": "markdown",
   "metadata": {},
   "source": [
    "---\n",
    "\n",
    "# Train a GBM classifier\n",
    "\n",
    "* grid search\n",
    "* random search\n",
    "* CV evaluation of a model\n",
    "\n",
    "**Observations:**\n",
    "* we can train an almost perfect classifier with GBM\n",
    "* 5000 trees with default SGBM params and early stopping monitor\n",
    "* probably overfits, try with less trees"
   ]
  },
  {
   "cell_type": "code",
   "execution_count": 21,
   "metadata": {},
   "outputs": [],
   "source": [
    "EARLY_STOP_WINDOW_LENGTH = 25\n",
    "\n",
    "DEFAULT_SGBM_KWARGS = {\n",
    "    'learning_rate': 0.01,\n",
    "    'n_estimators': 10000,  # can be arbitrarily large\n",
    "    'max_features': 0.1,\n",
    "    'subsample': 0.9\n",
    "}\n",
    "\n",
    "class EarlyStopMonitor:\n",
    "\n",
    "    def __init__(self, window_length=EARLY_STOP_WINDOW_LENGTH, threshold=0):        \n",
    "        self.window_length = window_length\n",
    "        self.threshold = threshold\n",
    "\n",
    "    def window_boundaries(self, current_round):        \n",
    "        lo = max(0, current_round - self.window_length + 1)\n",
    "        hi = current_round + 1\n",
    "\n",
    "        return lo, hi\n",
    "\n",
    "    def __call__(self, current_round, estimator, _):        \n",
    "        if current_round >= self.window_length - 1:\n",
    "            lo, hi = self.window_boundaries(current_round)\n",
    "            \n",
    "            do_stop = np.mean(estimator.oob_improvement_[lo: hi]) < self.threshold\n",
    "            \n",
    "            if do_stop:\n",
    "                print('stopped after rounds: {}'.format(current_round))\n",
    "            \n",
    "            return do_stop\n",
    "        else:\n",
    "            return False"
   ]
  },
  {
   "cell_type": "code",
   "execution_count": 22,
   "metadata": {},
   "outputs": [],
   "source": [
    "# %%time\n",
    "# n_folds = 10\n",
    "# test_size = 0.2\n",
    "# cv = ShuffleSplit(n_splits=n_folds, test_size=test_size, random_state=42)\n",
    "\n",
    "# sgbm = GradientBoostingClassifier(random_state=42, **DEFAULT_SGBM_KWARGS)\n",
    "# scores = cross_val_score(sgbm, X, y, cv=cv, n_jobs=-1, fit_params={'monitor': EarlyStopMonitor()}, groups=st_df[['GT', 'age']])\n",
    "\n",
    "# scores"
   ]
  },
  {
   "cell_type": "markdown",
   "metadata": {},
   "source": [
    "* check out performance with 1000 trees\n",
    "* guess: still quite good inference"
   ]
  },
  {
   "cell_type": "code",
   "execution_count": 23,
   "metadata": {},
   "outputs": [],
   "source": [
    "# %%time\n",
    "# n_folds = 10\n",
    "# test_size = 0.2\n",
    "# cv = ShuffleSplit(n_splits=n_folds, test_size=test_size, random_state=42)\n",
    "\n",
    "# SGBM_KWARGS = {\n",
    "#     'learning_rate': 0.01,\n",
    "#     'n_estimators': 1000,\n",
    "#     'max_features': 0.1,\n",
    "#     'subsample': 0.9\n",
    "# }\n",
    "\n",
    "# sgbm = GradientBoostingClassifier(random_state=42, **SGBM_KWARGS)\n",
    "# scores = cross_val_score(sgbm, X, y, cv=cv, n_jobs=-1, \n",
    "#                          # fit_params={'monitor': EarlyStopMonitor()},  no need for early stopping\n",
    "#                          groups=st_df[['GT', 'age']])"
   ]
  },
  {
   "cell_type": "code",
   "execution_count": 24,
   "metadata": {},
   "outputs": [],
   "source": [
    "# %%time\n",
    "# n_folds = 10\n",
    "# test_size = 0.2\n",
    "# cv = ShuffleSplit(n_splits=n_folds, test_size=test_size, random_state=42)\n",
    "\n",
    "# SGBM_KWARGS = {\n",
    "#     'learning_rate': 0.01,\n",
    "#     'n_estimators': 10000,\n",
    "#     'max_features': 0.1,\n",
    "#     'subsample': 0.9\n",
    "# }\n",
    "\n",
    "# sgbm = GradientBoostingClassifier(random_state=42, **SGBM_KWARGS)\n",
    "# scores = cross_val_score(sgbm, X, y, cv=cv, n_jobs=-1, \n",
    "#                          fit_params={'monitor': EarlyStopMonitor(threshold=0.001)},\n",
    "#                          groups=st_df[['GT', 'age']])"
   ]
  },
  {
   "cell_type": "markdown",
   "metadata": {},
   "source": [
    "---"
   ]
  },
  {
   "cell_type": "markdown",
   "metadata": {},
   "source": [
    "# GBM variable importance for **GT** classification"
   ]
  },
  {
   "cell_type": "code",
   "execution_count": 168,
   "metadata": {},
   "outputs": [],
   "source": [
    "train_idx, test_idx = list(ShuffleSplit(n_splits=2, test_size=0.2, random_state=666).split(X, y))[0]"
   ]
  },
  {
   "cell_type": "code",
   "execution_count": 169,
   "metadata": {},
   "outputs": [],
   "source": [
    "X_train = X.loc[train_idx]\n",
    "X_test  = X.loc[test_idx]\n",
    "y_train = y.loc[train_idx]\n",
    "y_test  = y.loc[test_idx]"
   ]
  },
  {
   "cell_type": "code",
   "execution_count": 170,
   "metadata": {},
   "outputs": [],
   "source": [
    "sgbm = GradientBoostingClassifier(random_state=42, learning_rate=0.01, n_estimators=250, max_features=0.1)"
   ]
  },
  {
   "cell_type": "code",
   "execution_count": 171,
   "metadata": {},
   "outputs": [
    {
     "name": "stdout",
     "output_type": "stream",
     "text": [
      "CPU times: user 36.3 s, sys: 882 ms, total: 37.2 s\n",
      "Wall time: 37.2 s\n"
     ]
    },
    {
     "data": {
      "text/plain": [
       "GradientBoostingClassifier(criterion='friedman_mse', init=None,\n",
       "              learning_rate=0.01, loss='deviance', max_depth=3,\n",
       "              max_features=0.1, max_leaf_nodes=None,\n",
       "              min_impurity_decrease=0.0, min_impurity_split=None,\n",
       "              min_samples_leaf=1, min_samples_split=2,\n",
       "              min_weight_fraction_leaf=0.0, n_estimators=250,\n",
       "              presort='auto', random_state=42, subsample=1.0, verbose=0,\n",
       "              warm_start=False)"
      ]
     },
     "execution_count": 171,
     "metadata": {},
     "output_type": "execute_result"
    }
   ],
   "source": [
    "%%time\n",
    "sgbm.fit(X_train, y_train)"
   ]
  },
  {
   "cell_type": "code",
   "execution_count": 172,
   "metadata": {},
   "outputs": [
    {
     "data": {
      "text/plain": [
       "1515"
      ]
     },
     "execution_count": 172,
     "metadata": {},
     "output_type": "execute_result"
    }
   ],
   "source": [
    "len(list(sgbm.feature_importances_))"
   ]
  },
  {
   "cell_type": "code",
   "execution_count": 173,
   "metadata": {},
   "outputs": [],
   "source": [
    "genes_by_importances = pd.DataFrame({'gene': GT_features, 'importance': sgbm.feature_importances_})"
   ]
  },
  {
   "cell_type": "code",
   "execution_count": 174,
   "metadata": {},
   "outputs": [
    {
     "data": {
      "image/png": "[encoded data removed]",
      "text/plain": [
       "<Figure size 432x288 with 1 Axes>"
      ]
     },
     "metadata": {},
     "output_type": "display_data"
    }
   ],
   "source": [
    "genes_by_importances.sort_values(by='importance', ascending=False).plot(use_index=False)\n",
    "plt.show()"
   ]
  },
  {
   "cell_type": "code",
   "execution_count": 175,
   "metadata": {},
   "outputs": [
    {
     "data": {
      "text/html": [
       "<div>\n",
       "<style scoped>\n",
       "    .dataframe tbody tr th:only-of-type {\n",
       "        vertical-align: middle;\n",
       "    }\n",
       "\n",
       "    .dataframe tbody tr th {\n",
       "        vertical-align: top;\n",
       "    }\n",
       "\n",
       "    .dataframe thead th {\n",
       "        text-align: right;\n",
       "    }\n",
       "</style>\n",
       "<table border=\"1\" class=\"dataframe\">\n",
       "  <thead>\n",
       "    <tr style=\"text-align: right;\">\n",
       "      <th></th>\n",
       "      <th>gene</th>\n",
       "      <th>importance</th>\n",
       "    </tr>\n",
       "  </thead>\n",
       "  <tbody>\n",
       "    <tr>\n",
       "      <th>1258</th>\n",
       "      <td>Sez6</td>\n",
       "      <td>0.108143</td>\n",
       "    </tr>\n",
       "    <tr>\n",
       "      <th>247</th>\n",
       "      <td>Cst7</td>\n",
       "      <td>0.068542</td>\n",
       "    </tr>\n",
       "    <tr>\n",
       "      <th>253</th>\n",
       "      <td>Ctsd</td>\n",
       "      <td>0.047972</td>\n",
       "    </tr>\n",
       "    <tr>\n",
       "      <th>1357</th>\n",
       "      <td>Tbx1</td>\n",
       "      <td>0.037048</td>\n",
       "    </tr>\n",
       "    <tr>\n",
       "      <th>161</th>\n",
       "      <td>Ccl21c.1</td>\n",
       "      <td>0.033485</td>\n",
       "    </tr>\n",
       "  </tbody>\n",
       "</table>\n",
       "</div>"
      ],
      "text/plain": [
       "          gene  importance\n",
       "1258      Sez6    0.108143\n",
       "247       Cst7    0.068542\n",
       "253       Ctsd    0.047972\n",
       "1357      Tbx1    0.037048\n",
       "161   Ccl21c.1    0.033485"
      ]
     },
     "execution_count": 175,
     "metadata": {},
     "output_type": "execute_result"
    }
   ],
   "source": [
    "genes_by_importances.sort_values(by='importance', ascending=False).head()"
   ]
  },
  {
   "cell_type": "code",
   "execution_count": 176,
   "metadata": {},
   "outputs": [],
   "source": [
    "predicted_labels = sgbm.predict(X_test)\n",
    "predicted_probs = sgbm.predict_proba(X_test)\n",
    "\n",
    "predicted_df = pd.DataFrame({'predicted': predicted_labels, \n",
    "                             'actual': y_test,\n",
    "                             'KI_prob': predicted_probs[:, 0],\n",
    "                             'WT_prob': predicted_probs[:, 1]})"
   ]
  },
  {
   "cell_type": "code",
   "execution_count": 177,
   "metadata": {},
   "outputs": [],
   "source": [
    "predicted_correct = predicted_df[predicted_df['actual'] == predicted_df['predicted']]\n",
    "predicted_wrong = predicted_df[predicted_df['actual'] != predicted_df['predicted']]"
   ]
  },
  {
   "cell_type": "markdown",
   "metadata": {},
   "source": [
    "* KI is more often misclassifies as WT, which is expected"
   ]
  },
  {
   "cell_type": "code",
   "execution_count": 178,
   "metadata": {},
   "outputs": [
    {
     "data": {
      "text/html": [
       "<div>\n",
       "<style scoped>\n",
       "    .dataframe tbody tr th:only-of-type {\n",
       "        vertical-align: middle;\n",
       "    }\n",
       "\n",
       "    .dataframe tbody tr th {\n",
       "        vertical-align: top;\n",
       "    }\n",
       "\n",
       "    .dataframe thead th {\n",
       "        text-align: right;\n",
       "    }\n",
       "</style>\n",
       "<table border=\"1\" class=\"dataframe\">\n",
       "  <thead>\n",
       "    <tr style=\"text-align: right;\">\n",
       "      <th></th>\n",
       "      <th>KI_prob</th>\n",
       "      <th>WT_prob</th>\n",
       "      <th>actual</th>\n",
       "      <th>predicted</th>\n",
       "    </tr>\n",
       "  </thead>\n",
       "  <tbody>\n",
       "    <tr>\n",
       "      <th>9129</th>\n",
       "      <td>0.430153</td>\n",
       "      <td>0.569847</td>\n",
       "      <td>KI</td>\n",
       "      <td>WT</td>\n",
       "    </tr>\n",
       "    <tr>\n",
       "      <th>9002</th>\n",
       "      <td>0.483784</td>\n",
       "      <td>0.516216</td>\n",
       "      <td>KI</td>\n",
       "      <td>WT</td>\n",
       "    </tr>\n",
       "    <tr>\n",
       "      <th>301</th>\n",
       "      <td>0.311311</td>\n",
       "      <td>0.688689</td>\n",
       "      <td>KI</td>\n",
       "      <td>WT</td>\n",
       "    </tr>\n",
       "    <tr>\n",
       "      <th>9170</th>\n",
       "      <td>0.365698</td>\n",
       "      <td>0.634302</td>\n",
       "      <td>KI</td>\n",
       "      <td>WT</td>\n",
       "    </tr>\n",
       "    <tr>\n",
       "      <th>4257</th>\n",
       "      <td>0.519320</td>\n",
       "      <td>0.480680</td>\n",
       "      <td>WT</td>\n",
       "      <td>KI</td>\n",
       "    </tr>\n",
       "    <tr>\n",
       "      <th>7850</th>\n",
       "      <td>0.598055</td>\n",
       "      <td>0.401945</td>\n",
       "      <td>WT</td>\n",
       "      <td>KI</td>\n",
       "    </tr>\n",
       "    <tr>\n",
       "      <th>68</th>\n",
       "      <td>0.457272</td>\n",
       "      <td>0.542728</td>\n",
       "      <td>KI</td>\n",
       "      <td>WT</td>\n",
       "    </tr>\n",
       "    <tr>\n",
       "      <th>9526</th>\n",
       "      <td>0.460020</td>\n",
       "      <td>0.539980</td>\n",
       "      <td>KI</td>\n",
       "      <td>WT</td>\n",
       "    </tr>\n",
       "    <tr>\n",
       "      <th>8325</th>\n",
       "      <td>0.555136</td>\n",
       "      <td>0.444864</td>\n",
       "      <td>WT</td>\n",
       "      <td>KI</td>\n",
       "    </tr>\n",
       "    <tr>\n",
       "      <th>5251</th>\n",
       "      <td>0.494164</td>\n",
       "      <td>0.505836</td>\n",
       "      <td>KI</td>\n",
       "      <td>WT</td>\n",
       "    </tr>\n",
       "    <tr>\n",
       "      <th>6515</th>\n",
       "      <td>0.458007</td>\n",
       "      <td>0.541993</td>\n",
       "      <td>KI</td>\n",
       "      <td>WT</td>\n",
       "    </tr>\n",
       "    <tr>\n",
       "      <th>9169</th>\n",
       "      <td>0.474062</td>\n",
       "      <td>0.525938</td>\n",
       "      <td>KI</td>\n",
       "      <td>WT</td>\n",
       "    </tr>\n",
       "    <tr>\n",
       "      <th>9131</th>\n",
       "      <td>0.289079</td>\n",
       "      <td>0.710921</td>\n",
       "      <td>KI</td>\n",
       "      <td>WT</td>\n",
       "    </tr>\n",
       "    <tr>\n",
       "      <th>9433</th>\n",
       "      <td>0.448176</td>\n",
       "      <td>0.551824</td>\n",
       "      <td>KI</td>\n",
       "      <td>WT</td>\n",
       "    </tr>\n",
       "    <tr>\n",
       "      <th>5548</th>\n",
       "      <td>0.464505</td>\n",
       "      <td>0.535495</td>\n",
       "      <td>KI</td>\n",
       "      <td>WT</td>\n",
       "    </tr>\n",
       "    <tr>\n",
       "      <th>9335</th>\n",
       "      <td>0.480358</td>\n",
       "      <td>0.519642</td>\n",
       "      <td>KI</td>\n",
       "      <td>WT</td>\n",
       "    </tr>\n",
       "    <tr>\n",
       "      <th>9755</th>\n",
       "      <td>0.294915</td>\n",
       "      <td>0.705085</td>\n",
       "      <td>KI</td>\n",
       "      <td>WT</td>\n",
       "    </tr>\n",
       "    <tr>\n",
       "      <th>5186</th>\n",
       "      <td>0.427113</td>\n",
       "      <td>0.572887</td>\n",
       "      <td>KI</td>\n",
       "      <td>WT</td>\n",
       "    </tr>\n",
       "    <tr>\n",
       "      <th>427</th>\n",
       "      <td>0.484665</td>\n",
       "      <td>0.515335</td>\n",
       "      <td>KI</td>\n",
       "      <td>WT</td>\n",
       "    </tr>\n",
       "    <tr>\n",
       "      <th>242</th>\n",
       "      <td>0.319671</td>\n",
       "      <td>0.680329</td>\n",
       "      <td>KI</td>\n",
       "      <td>WT</td>\n",
       "    </tr>\n",
       "    <tr>\n",
       "      <th>71</th>\n",
       "      <td>0.420257</td>\n",
       "      <td>0.579743</td>\n",
       "      <td>KI</td>\n",
       "      <td>WT</td>\n",
       "    </tr>\n",
       "    <tr>\n",
       "      <th>4238</th>\n",
       "      <td>0.505143</td>\n",
       "      <td>0.494857</td>\n",
       "      <td>WT</td>\n",
       "      <td>KI</td>\n",
       "    </tr>\n",
       "    <tr>\n",
       "      <th>309</th>\n",
       "      <td>0.408952</td>\n",
       "      <td>0.591048</td>\n",
       "      <td>KI</td>\n",
       "      <td>WT</td>\n",
       "    </tr>\n",
       "    <tr>\n",
       "      <th>9786</th>\n",
       "      <td>0.496033</td>\n",
       "      <td>0.503967</td>\n",
       "      <td>KI</td>\n",
       "      <td>WT</td>\n",
       "    </tr>\n",
       "    <tr>\n",
       "      <th>10124</th>\n",
       "      <td>0.569195</td>\n",
       "      <td>0.430805</td>\n",
       "      <td>WT</td>\n",
       "      <td>KI</td>\n",
       "    </tr>\n",
       "    <tr>\n",
       "      <th>9665</th>\n",
       "      <td>0.437333</td>\n",
       "      <td>0.562667</td>\n",
       "      <td>KI</td>\n",
       "      <td>WT</td>\n",
       "    </tr>\n",
       "  </tbody>\n",
       "</table>\n",
       "</div>"
      ],
      "text/plain": [
       "        KI_prob   WT_prob actual predicted\n",
       "9129   0.430153  0.569847     KI        WT\n",
       "9002   0.483784  0.516216     KI        WT\n",
       "301    0.311311  0.688689     KI        WT\n",
       "9170   0.365698  0.634302     KI        WT\n",
       "4257   0.519320  0.480680     WT        KI\n",
       "7850   0.598055  0.401945     WT        KI\n",
       "68     0.457272  0.542728     KI        WT\n",
       "9526   0.460020  0.539980     KI        WT\n",
       "8325   0.555136  0.444864     WT        KI\n",
       "5251   0.494164  0.505836     KI        WT\n",
       "6515   0.458007  0.541993     KI        WT\n",
       "9169   0.474062  0.525938     KI        WT\n",
       "9131   0.289079  0.710921     KI        WT\n",
       "9433   0.448176  0.551824     KI        WT\n",
       "5548   0.464505  0.535495     KI        WT\n",
       "9335   0.480358  0.519642     KI        WT\n",
       "9755   0.294915  0.705085     KI        WT\n",
       "5186   0.427113  0.572887     KI        WT\n",
       "427    0.484665  0.515335     KI        WT\n",
       "242    0.319671  0.680329     KI        WT\n",
       "71     0.420257  0.579743     KI        WT\n",
       "4238   0.505143  0.494857     WT        KI\n",
       "309    0.408952  0.591048     KI        WT\n",
       "9786   0.496033  0.503967     KI        WT\n",
       "10124  0.569195  0.430805     WT        KI\n",
       "9665   0.437333  0.562667     KI        WT"
      ]
     },
     "execution_count": 178,
     "metadata": {},
     "output_type": "execute_result"
    }
   ],
   "source": [
    "predicted_wrong"
   ]
  },
  {
   "cell_type": "code",
   "execution_count": 179,
   "metadata": {},
   "outputs": [
    {
     "data": {
      "text/plain": [
       "0.012745098039215686"
      ]
     },
     "execution_count": 179,
     "metadata": {},
     "output_type": "execute_result"
    }
   ],
   "source": [
    "len(predicted_wrong) / len(predicted_correct)"
   ]
  },
  {
   "cell_type": "markdown",
   "metadata": {},
   "source": [
    "---\n",
    "\n",
    "# LIME explanations\n",
    "\n",
    "**References:**\n",
    "* https://marcotcr.github.io/lime/tutorials/Tutorial%20-%20continuous%20and%20categorical%20features.html\n",
    "* https://www.data-imaginist.com/2017/announcing-lime/\n",
    "* LIME tabular API https://lime-ml.readthedocs.io/en/latest/lime.html#module-lime.lime_tabular\n",
    "* Understanding LIME https://cran.r-project.org/web/packages/lime/vignettes/Understanding_lime.html\n",
    "* https://www.oreilly.com/learning/introduction-to-local-interpretable-model-agnostic-explanations-lime"
   ]
  },
  {
   "cell_type": "code",
   "execution_count": 180,
   "metadata": {},
   "outputs": [
    {
     "name": "stdout",
     "output_type": "stream",
     "text": [
      "CPU times: user 0 ns, sys: 12 µs, total: 12 µs\n",
      "Wall time: 24.3 µs\n"
     ]
    }
   ],
   "source": [
    "%time\n",
    "lime_explainer = LimeTabularExplainer(X_train, \n",
    "                                      feature_names=GT_features, \n",
    "                                      class_names=sgbm.classes_, \n",
    "                                      discretize_continuous=False,\n",
    "                                      random_state=42)"
   ]
  },
  {
   "cell_type": "code",
   "execution_count": 181,
   "metadata": {},
   "outputs": [],
   "source": [
    "kernel_width = np.sqrt(X_train.shape[1]) * 0.75"
   ]
  },
  {
   "cell_type": "code",
   "execution_count": 187,
   "metadata": {},
   "outputs": [
    {
     "data": {
      "text/plain": [
       "29.192250684042847"
      ]
     },
     "execution_count": 187,
     "metadata": {},
     "output_type": "execute_result"
    }
   ],
   "source": [
    "kernel_width"
   ]
  },
  {
   "cell_type": "code",
   "execution_count": 243,
   "metadata": {},
   "outputs": [
    {
     "name": "stdout",
     "output_type": "stream",
     "text": [
      "CPU times: user 25.4 s, sys: 15.4 s, total: 40.8 s\n",
      "Wall time: 2.61 s\n"
     ]
    }
   ],
   "source": [
    "%%time\n",
    "exp_68 = lime_explainer.explain_instance(X_test.loc[68], sgbm.predict_proba, num_samples=10000, num_features=20)"
   ]
  },
  {
   "cell_type": "code",
   "execution_count": 244,
   "metadata": {},
   "outputs": [
    {
     "data": {
      "image/png": "[encoded data removed]",
      "text/plain": [
       "<Figure size 432x288 with 1 Axes>"
      ]
     },
     "metadata": {},
     "output_type": "display_data"
    }
   ],
   "source": [
    "fig = exp_68.as_pyplot_figure()\n",
    "fig.text(1, 0.5, predicted_wrong.loc[68])\n",
    "\n",
    "# plt.savefig('lime_explanations_wrong_classification.png')\n",
    "plt.show()"
   ]
  },
  {
   "cell_type": "markdown",
   "metadata": {},
   "source": [
    "```feature_selection: \n",
    "how to select num_features. options are:\n",
    "\n",
    "'forward_selection': iteratively add features to the model.\n",
    "                    This is costly when num_features is high\n",
    "'highest_weights': selects the features that have the highest\n",
    "                    product of absolute weight * original data point when\n",
    "                    learning with all the features\n",
    "'lasso_path': chooses features based on the lasso\n",
    "                    regularization path\n",
    "'none': uses all features, ignores num_features\n",
    "'auto': uses forward_selection if num_features <= 6, and\n",
    "                    'highest_weights' otherwise.```                    "
   ]
  },
  {
   "cell_type": "code",
   "execution_count": 268,
   "metadata": {},
   "outputs": [
    {
     "name": "stdout",
     "output_type": "stream",
     "text": [
      "CPU times: user 41.5 s, sys: 3.07 s, total: 44.6 s\n",
      "Wall time: 2.37 s\n"
     ]
    }
   ],
   "source": [
    "%%time\n",
    "lime_explainer_2 = LimeTabularExplainer(X_train,\n",
    "                                        feature_names=GT_features,\n",
    "                                        class_names=sgbm.classes_,\n",
    "                                        discretize_continuous=False,\n",
    "                                        random_state=42,\n",
    "                                        feature_selection='lasso_path')\n",
    "\n",
    "exp_68_2 = lime_explainer_2.explain_instance(X_test.loc[68], sgbm.predict_proba, distance_metric='cosine', num_samples=5000, num_features=20)"
   ]
  },
  {
   "cell_type": "code",
   "execution_count": 269,
   "metadata": {},
   "outputs": [
    {
     "data": {
      "text/plain": [
       "[('Sez6', 0.069907950071211908),\n",
       " ('Cst7', -0.055889200418484532),\n",
       " ('Ccl21c.1', -0.035728534683780296),\n",
       " ('Gm11033', 0.023129877743093306),\n",
       " ('Ctsd', -0.02312045386321292),\n",
       " ('Lrrc17', 0.021055354721037353),\n",
       " ('Gm28437', -0.019466537527009744),\n",
       " ('Rpl12', -0.017851243550718886),\n",
       " ('Tyrobp', -0.017515531972023442),\n",
       " ('Gm26917', 0.013383309764719794),\n",
       " ('Olfr912', -0.012941062354309224),\n",
       " ('Lyz2', -0.010613451764997391),\n",
       " ('Gm20594', 0.010563654316737064),\n",
       " ('Ccl6', -0.0098881381883453856),\n",
       " ('mt-Rnr2', 0.0092841596052899555),\n",
       " ('Gfap', -0.0089290572548522806),\n",
       " ('Trem2', -0.0088101871495740378),\n",
       " ('2810433D01Rik', 0.008529426760354621),\n",
       " ('mt-Tm', -0.0077127960016672081),\n",
       " ('Kif15', 0.0074638732688789089)]"
      ]
     },
     "execution_count": 269,
     "metadata": {},
     "output_type": "execute_result"
    }
   ],
   "source": [
    "exp_68_2.as_list()"
   ]
  },
  {
   "cell_type": "code",
   "execution_count": 270,
   "metadata": {},
   "outputs": [
    {
     "data": {
      "image/png": "[encoded data removed]",
      "text/plain": [
       "<Figure size 432x288 with 1 Axes>"
      ]
     },
     "metadata": {},
     "output_type": "display_data"
    }
   ],
   "source": [
    "fig = exp_68_2.as_pyplot_figure()\n",
    "fig.text(1, 0.5, predicted_wrong.loc[68])\n",
    "\n",
    "# plt.savefig('lime_explanations_wrong_classification.png')\n",
    "plt.show()"
   ]
  },
  {
   "cell_type": "code",
   "execution_count": 239,
   "metadata": {},
   "outputs": [],
   "source": [
    "exp_2086 = lime_explainer.explain_instance(X_test.loc[2086], sgbm.predict_proba, num_features=20)\n",
    "exp_278 = lime_explainer.explain_instance(X_test.loc[278], sgbm.predict_proba, num_features=20)"
   ]
  },
  {
   "cell_type": "code",
   "execution_count": 240,
   "metadata": {},
   "outputs": [
    {
     "data": {
      "image/png": "[encoded data removed]",
      "text/plain": [
       "<Figure size 432x288 with 1 Axes>"
      ]
     },
     "metadata": {},
     "output_type": "display_data"
    },
    {
     "data": {
      "image/png": "[encoded data removed]",
      "text/plain": [
       "<Figure size 432x288 with 1 Axes>"
      ]
     },
     "metadata": {},
     "output_type": "display_data"
    }
   ],
   "source": [
    "fig = exp_2086.as_pyplot_figure()\n",
    "fig.text(1, 0.5, predicted_correct.loc[2086])\n",
    "\n",
    "fig = exp_278.as_pyplot_figure()\n",
    "fig.text(1, 0.5, predicted_correct.loc[278])\n",
    "\n",
    "plt.savefig('lime_explanations_correct_classification.png')\n",
    "plt.show()"
   ]
  },
  {
   "cell_type": "code",
   "execution_count": 241,
   "metadata": {},
   "outputs": [],
   "source": [
    "exp_2086 = lime_explainer_2.explain_instance(X_test.loc[2086], sgbm.predict_proba, num_features=20)\n",
    "exp_278 = lime_explainer_2.explain_instance(X_test.loc[278], sgbm.predict_proba, num_features=20)"
   ]
  },
  {
   "cell_type": "code",
   "execution_count": 242,
   "metadata": {},
   "outputs": [
    {
     "data": {
      "image/png": "[encoded data removed]",
      "text/plain": [
       "<Figure size 432x288 with 1 Axes>"
      ]
     },
     "metadata": {},
     "output_type": "display_data"
    },
    {
     "data": {
      "image/png": "[encoded data removed]",
      "text/plain": [
       "<Figure size 432x288 with 1 Axes>"
      ]
     },
     "metadata": {},
     "output_type": "display_data"
    }
   ],
   "source": [
    "fig = exp_2086.as_pyplot_figure()\n",
    "fig.text(1, 0.5, predicted_correct.loc[2086])\n",
    "\n",
    "fig = exp_278.as_pyplot_figure()\n",
    "fig.text(1, 0.5, predicted_correct.loc[278])\n",
    "\n",
    "plt.savefig('lime_explanations_correct_classification.png')\n",
    "plt.show()"
   ]
  },
  {
   "cell_type": "markdown",
   "metadata": {},
   "source": [
    "---\n",
    "\n",
    "# Anchor explanations\n",
    "\n",
    "### Meh... issues with discretize\n",
    "\n",
    "* See: https://github.com/marcotcr/anchor/blob/master/notebooks/Anchor%20on%20tabular%20data.ipynb"
   ]
  },
  {
   "cell_type": "code",
   "execution_count": 1,
   "metadata": {},
   "outputs": [],
   "source": [
    "from anchor import utils\n",
    "from anchor.anchor_tabular import AnchorTabularExplainer"
   ]
  },
  {
   "cell_type": "code",
   "execution_count": 51,
   "metadata": {},
   "outputs": [
    {
     "data": {
      "text/plain": [
       "\u001b[0;31mInit signature:\u001b[0m \u001b[0mAnchorTabularExplainer\u001b[0m\u001b[0;34m(\u001b[0m\u001b[0mclass_names\u001b[0m\u001b[0;34m,\u001b[0m \u001b[0mfeature_names\u001b[0m\u001b[0;34m,\u001b[0m \u001b[0mdata\u001b[0m\u001b[0;34m=\u001b[0m\u001b[0;32mNone\u001b[0m\u001b[0;34m,\u001b[0m \u001b[0mcategorical_names\u001b[0m\u001b[0;34m=\u001b[0m\u001b[0;32mNone\u001b[0m\u001b[0;34m,\u001b[0m \u001b[0mordinal_features\u001b[0m\u001b[0;34m=\u001b[0m\u001b[0;34m[\u001b[0m\u001b[0;34m]\u001b[0m\u001b[0;34m)\u001b[0m\u001b[0;34m\u001b[0m\u001b[0m\n",
       "\u001b[0;31mDocstring:\u001b[0m     \n",
       "Args:\n",
       "    class_names: list of strings\n",
       "    feature_names: list of strings\n",
       "    data: used to build one hot encoder\n",
       "    categorical_names: map from integer to list of strings, names for each\n",
       "        value of the categorical features. Every feature that is not in\n",
       "        this map will be considered as ordinal, and thus discretized.\n",
       "    ordinal_features: list of integers, features that were\n",
       "\u001b[0;31mFile:\u001b[0m           ~/work/batiskav/installs/anaconda3/lib/python3.5/site-packages/anchor/anchor_tabular.py\n",
       "\u001b[0;31mType:\u001b[0m           type\n"
      ]
     },
     "metadata": {},
     "output_type": "display_data"
    }
   ],
   "source": [
    "AnchorTabularExplainer?"
   ]
  },
  {
   "cell_type": "code",
   "execution_count": 55,
   "metadata": {},
   "outputs": [
    {
     "data": {
      "text/plain": [
       "['KI', 'WT']"
      ]
     },
     "execution_count": 55,
     "metadata": {},
     "output_type": "execute_result"
    }
   ],
   "source": [
    "list(sgbm.classes_)"
   ]
  },
  {
   "cell_type": "code",
   "execution_count": 48,
   "metadata": {},
   "outputs": [
    {
     "data": {
      "text/html": [
       "<div>\n",
       "<style scoped>\n",
       "    .dataframe tbody tr th:only-of-type {\n",
       "        vertical-align: middle;\n",
       "    }\n",
       "\n",
       "    .dataframe tbody tr th {\n",
       "        vertical-align: top;\n",
       "    }\n",
       "\n",
       "    .dataframe thead th {\n",
       "        text-align: right;\n",
       "    }\n",
       "</style>\n",
       "<table border=\"1\" class=\"dataframe\">\n",
       "  <thead>\n",
       "    <tr style=\"text-align: right;\">\n",
       "      <th></th>\n",
       "      <th>0610009B22Rik</th>\n",
       "      <th>1500015O10Rik</th>\n",
       "      <th>1600020E01Rik</th>\n",
       "      <th>1700023F06Rik</th>\n",
       "      <th>1700065D16Rik</th>\n",
       "      <th>2010107E04Rik</th>\n",
       "      <th>2410006H16Rik</th>\n",
       "      <th>2500004C02Rik</th>\n",
       "      <th>2610016A17Rik</th>\n",
       "      <th>2810433D01Rik</th>\n",
       "      <th>...</th>\n",
       "      <th>mt-Tm</th>\n",
       "      <th>mt-Tn</th>\n",
       "      <th>mt-Tp</th>\n",
       "      <th>mt-Tq</th>\n",
       "      <th>mt-Tr</th>\n",
       "      <th>mt-Ts2</th>\n",
       "      <th>mt-Tt</th>\n",
       "      <th>mt-Tv</th>\n",
       "      <th>mt-Tw</th>\n",
       "      <th>n-R5-8s1</th>\n",
       "    </tr>\n",
       "  </thead>\n",
       "  <tbody>\n",
       "    <tr>\n",
       "      <th>4581</th>\n",
       "      <td>2.982974</td>\n",
       "      <td>2.982974</td>\n",
       "      <td>2.982974</td>\n",
       "      <td>2.982974</td>\n",
       "      <td>2.982974</td>\n",
       "      <td>8.437688</td>\n",
       "      <td>2.982974</td>\n",
       "      <td>2.982974</td>\n",
       "      <td>2.982974</td>\n",
       "      <td>8.123960</td>\n",
       "      <td>...</td>\n",
       "      <td>10.761494</td>\n",
       "      <td>10.092964</td>\n",
       "      <td>8.572198</td>\n",
       "      <td>8.695229</td>\n",
       "      <td>7.937144</td>\n",
       "      <td>8.123960</td>\n",
       "      <td>7.470214</td>\n",
       "      <td>10.179813</td>\n",
       "      <td>8.437688</td>\n",
       "      <td>2.982974</td>\n",
       "    </tr>\n",
       "    <tr>\n",
       "      <th>5492</th>\n",
       "      <td>5.895421</td>\n",
       "      <td>2.982974</td>\n",
       "      <td>5.895421</td>\n",
       "      <td>2.982974</td>\n",
       "      <td>2.982974</td>\n",
       "      <td>9.169204</td>\n",
       "      <td>7.097537</td>\n",
       "      <td>5.075341</td>\n",
       "      <td>2.982974</td>\n",
       "      <td>7.097537</td>\n",
       "      <td>...</td>\n",
       "      <td>8.311152</td>\n",
       "      <td>5.075341</td>\n",
       "      <td>5.075341</td>\n",
       "      <td>6.796282</td>\n",
       "      <td>2.982974</td>\n",
       "      <td>5.075341</td>\n",
       "      <td>5.895421</td>\n",
       "      <td>7.346624</td>\n",
       "      <td>6.415053</td>\n",
       "      <td>6.796282</td>\n",
       "    </tr>\n",
       "    <tr>\n",
       "      <th>1584</th>\n",
       "      <td>4.575227</td>\n",
       "      <td>2.982974</td>\n",
       "      <td>2.982974</td>\n",
       "      <td>4.575227</td>\n",
       "      <td>2.982974</td>\n",
       "      <td>7.748381</td>\n",
       "      <td>4.575227</td>\n",
       "      <td>2.982974</td>\n",
       "      <td>2.982974</td>\n",
       "      <td>4.575227</td>\n",
       "      <td>...</td>\n",
       "      <td>11.432657</td>\n",
       "      <td>10.288448</td>\n",
       "      <td>8.971003</td>\n",
       "      <td>9.016096</td>\n",
       "      <td>7.947741</td>\n",
       "      <td>7.851502</td>\n",
       "      <td>8.548253</td>\n",
       "      <td>10.714944</td>\n",
       "      <td>8.971003</td>\n",
       "      <td>5.313646</td>\n",
       "    </tr>\n",
       "    <tr>\n",
       "      <th>1936</th>\n",
       "      <td>2.982974</td>\n",
       "      <td>2.982974</td>\n",
       "      <td>2.982974</td>\n",
       "      <td>2.982974</td>\n",
       "      <td>2.982974</td>\n",
       "      <td>7.861842</td>\n",
       "      <td>2.982974</td>\n",
       "      <td>2.982974</td>\n",
       "      <td>2.982974</td>\n",
       "      <td>5.322230</td>\n",
       "      <td>...</td>\n",
       "      <td>11.054369</td>\n",
       "      <td>10.261849</td>\n",
       "      <td>9.271109</td>\n",
       "      <td>9.413740</td>\n",
       "      <td>8.048345</td>\n",
       "      <td>8.213474</td>\n",
       "      <td>8.495977</td>\n",
       "      <td>11.075984</td>\n",
       "      <td>9.112815</td>\n",
       "      <td>2.982974</td>\n",
       "    </tr>\n",
       "    <tr>\n",
       "      <th>8803</th>\n",
       "      <td>5.440899</td>\n",
       "      <td>2.982974</td>\n",
       "      <td>5.935566</td>\n",
       "      <td>2.982974</td>\n",
       "      <td>2.982974</td>\n",
       "      <td>9.214776</td>\n",
       "      <td>5.935566</td>\n",
       "      <td>4.682139</td>\n",
       "      <td>2.982974</td>\n",
       "      <td>2.982974</td>\n",
       "      <td>...</td>\n",
       "      <td>9.778810</td>\n",
       "      <td>8.639380</td>\n",
       "      <td>7.390610</td>\n",
       "      <td>7.229157</td>\n",
       "      <td>5.440899</td>\n",
       "      <td>7.390610</td>\n",
       "      <td>5.440899</td>\n",
       "      <td>8.820368</td>\n",
       "      <td>6.839240</td>\n",
       "      <td>2.982974</td>\n",
       "    </tr>\n",
       "  </tbody>\n",
       "</table>\n",
       "<p>5 rows × 1515 columns</p>\n",
       "</div>"
      ],
      "text/plain": [
       "      0610009B22Rik  1500015O10Rik  1600020E01Rik  1700023F06Rik  \\\n",
       "4581       2.982974       2.982974       2.982974       2.982974   \n",
       "5492       5.895421       2.982974       5.895421       2.982974   \n",
       "1584       4.575227       2.982974       2.982974       4.575227   \n",
       "1936       2.982974       2.982974       2.982974       2.982974   \n",
       "8803       5.440899       2.982974       5.935566       2.982974   \n",
       "\n",
       "      1700065D16Rik  2010107E04Rik  2410006H16Rik  2500004C02Rik  \\\n",
       "4581       2.982974       8.437688       2.982974       2.982974   \n",
       "5492       2.982974       9.169204       7.097537       5.075341   \n",
       "1584       2.982974       7.748381       4.575227       2.982974   \n",
       "1936       2.982974       7.861842       2.982974       2.982974   \n",
       "8803       2.982974       9.214776       5.935566       4.682139   \n",
       "\n",
       "      2610016A17Rik  2810433D01Rik    ...         mt-Tm      mt-Tn     mt-Tp  \\\n",
       "4581       2.982974       8.123960    ...     10.761494  10.092964  8.572198   \n",
       "5492       2.982974       7.097537    ...      8.311152   5.075341  5.075341   \n",
       "1584       2.982974       4.575227    ...     11.432657  10.288448  8.971003   \n",
       "1936       2.982974       5.322230    ...     11.054369  10.261849  9.271109   \n",
       "8803       2.982974       2.982974    ...      9.778810   8.639380  7.390610   \n",
       "\n",
       "         mt-Tq     mt-Tr    mt-Ts2     mt-Tt      mt-Tv     mt-Tw  n-R5-8s1  \n",
       "4581  8.695229  7.937144  8.123960  7.470214  10.179813  8.437688  2.982974  \n",
       "5492  6.796282  2.982974  5.075341  5.895421   7.346624  6.415053  6.796282  \n",
       "1584  9.016096  7.947741  7.851502  8.548253  10.714944  8.971003  5.313646  \n",
       "1936  9.413740  8.048345  8.213474  8.495977  11.075984  9.112815  2.982974  \n",
       "8803  7.229157  5.440899  7.390610  5.440899   8.820368  6.839240  2.982974  \n",
       "\n",
       "[5 rows x 1515 columns]"
      ]
     },
     "execution_count": 48,
     "metadata": {},
     "output_type": "execute_result"
    }
   ],
   "source": [
    "X_train.head()"
   ]
  },
  {
   "cell_type": "code",
   "execution_count": 83,
   "metadata": {},
   "outputs": [],
   "source": [
    "anchor_explainer = AnchorTabularExplainer(class_names=list(sgbm.classes_),\n",
    "                                          feature_names=pd.DataFrame(GT_features),\n",
    "                                          data=X.values, categorical_names=[])"
   ]
  },
  {
   "cell_type": "markdown",
   "metadata": {},
   "source": [
    "---\n",
    "\n",
    "# IRIS nonsense"
   ]
  },
  {
   "cell_type": "code",
   "execution_count": 93,
   "metadata": {},
   "outputs": [],
   "source": [
    "iris = sklearn.datasets.load_iris()"
   ]
  },
  {
   "cell_type": "code",
   "execution_count": 95,
   "metadata": {},
   "outputs": [],
   "source": [
    "train, test, labels_train, labels_test = sklearn.model_selection.train_test_split(iris.data, iris.target, test_size=0.20)"
   ]
  },
  {
   "cell_type": "code",
   "execution_count": 96,
   "metadata": {},
   "outputs": [
    {
     "data": {
      "text/plain": [
       "RandomForestClassifier(bootstrap=True, class_weight=None, criterion='gini',\n",
       "            max_depth=None, max_features='auto', max_leaf_nodes=None,\n",
       "            min_impurity_decrease=0.0, min_impurity_split=None,\n",
       "            min_samples_leaf=1, min_samples_split=2,\n",
       "            min_weight_fraction_leaf=0.0, n_estimators=500, n_jobs=1,\n",
       "            oob_score=False, random_state=None, verbose=0,\n",
       "            warm_start=False)"
      ]
     },
     "execution_count": 96,
     "metadata": {},
     "output_type": "execute_result"
    }
   ],
   "source": [
    "rf = sklearn.ensemble.RandomForestClassifier(n_estimators=500)\n",
    "rf.fit(train, labels_train)"
   ]
  },
  {
   "cell_type": "code",
   "execution_count": 97,
   "metadata": {},
   "outputs": [
    {
     "data": {
      "text/plain": [
       "0.8666666666666667"
      ]
     },
     "execution_count": 97,
     "metadata": {},
     "output_type": "execute_result"
    }
   ],
   "source": [
    "sklearn.metrics.accuracy_score(labels_test, rf.predict(test))"
   ]
  },
  {
   "cell_type": "code",
   "execution_count": 155,
   "metadata": {},
   "outputs": [],
   "source": [
    "explainer = lime.lime_tabular.LimeTabularExplainer(train, feature_names=iris.feature_names, class_names=iris.target_names, discretize_continuous=True)"
   ]
  },
  {
   "cell_type": "code",
   "execution_count": 156,
   "metadata": {},
   "outputs": [],
   "source": [
    "i = 5\n",
    "exp = explainer.explain_instance(test[i], rf.predict_proba, num_features=10, top_labels=10)"
   ]
  },
  {
   "cell_type": "code",
   "execution_count": 157,
   "metadata": {},
   "outputs": [
    {
     "data": {
      "image/png": "[encoded data removed]",
      "text/plain": [
       "<Figure size 432x288 with 1 Axes>"
      ]
     },
     "execution_count": 157,
     "metadata": {},
     "output_type": "execute_result"
    }
   ],
   "source": [
    "exp.as_pyplot_figure()"
   ]
  },
  {
   "cell_type": "code",
   "execution_count": null,
   "metadata": {},
   "outputs": [],
   "source": []
  }
 ],
 "metadata": {
  "kernelspec": {
   "display_name": "Python [conda env:anaconda3]",
   "language": "python",
   "name": "conda-env-anaconda3-py"
  },
  "language_info": {
   "codemirror_mode": {
    "name": "ipython",
    "version": 3
   },
   "file_extension": ".py",
   "mimetype": "text/x-python",
   "name": "python",
   "nbconvert_exporter": "python",
   "pygments_lexer": "ipython3",
   "version": "3.5.5"
  }
 },
 "nbformat": 4,
 "nbformat_minor": 2
}
