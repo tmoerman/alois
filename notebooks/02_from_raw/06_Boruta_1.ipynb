{
 "cells": [
  {
   "cell_type": "markdown",
   "metadata": {},
   "source": [
    "# 06 :: Boruta\n",
    "\n",
    "**Objectives:**\n",
    "* feature selection with boruta package\n",
    "* BORUTA: https://www.jstatsoft.org/article/view/v036i11\n",
    "\n",
    "---\n",
    "\n",
    "Other:\n",
    "\n",
    "* make classifiers predicting binary classes e.g.: AB1_StdDev_Yen > 300, AB1_StdDev_Yen > 100, etc..\n",
    "* include hyperparameter tuning\n",
    "* https://papers.nips.cc/paper/6907-lightgbm-a-highly-efficient-gradient-boosting-decision-tree.pdf\n",
    "* attractive technique: feature bundling\n",
    "* https://github.com/Microsoft/LightGBM/tree/master/examples/python-guide\n",
    "* http://contrib.scikit-learn.org/imbalanced-learn/stable/user_guide.html\n",
    "\n",
    "### Exclusive Feature Bundling\n",
    "\n",
    "> High-dimensional data are usually very sparse.  The sparsity of the feature space provides us a <br/>\n",
    "possibility of designing a nearly lossless approach to reduce the number of features. Specifically, in<br/>\n",
    "a sparse feature space, many features are mutually exclusive, i.e., they never take nonzero values<br/>\n",
    "simultaneously. We can safely bundle exclusive features into a single feature (which we call an<br/>\n",
    "exclusive feature bundle). By a carefully designed feature scanning algorithm, we can build the<br/>\n",
    "same feature histograms from the feature bundles as those from individual features. In this way, the<br/>\n",
    "complexity of histogram building changes from `O(#data × #feature)` to `O(#data × #bundle)`, while<br/>\n",
    "`#bundle << # feature`. Then we can significantly speed up the training of GBDT without<br/>\n",
    "hurting the accuracy. In the following, we will show how to achieve this in detail."
   ]
  },
  {
   "cell_type": "code",
   "execution_count": null,
   "metadata": {},
   "outputs": [],
   "source": []
  }
 ],
 "metadata": {
  "kernelspec": {
   "display_name": "Python [default]",
   "language": "python",
   "name": "python3"
  },
  "language_info": {
   "codemirror_mode": {
    "name": "ipython",
    "version": 3
   },
   "file_extension": ".py",
   "mimetype": "text/x-python",
   "name": "python",
   "nbconvert_exporter": "python",
   "pygments_lexer": "ipython3",
   "version": "3.5.5"
  }
 },
 "nbformat": 4,
 "nbformat_minor": 2
}
