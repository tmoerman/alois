{
 "cells": [
  {
   "cell_type": "markdown",
   "metadata": {},
   "source": [
    "# Statistical Leverage and CUR decomposition\n",
    "\n",
    "* See: MMDS 11.4 CUR decomposition"
   ]
  },
  {
   "cell_type": "code",
   "execution_count": 233,
   "metadata": {},
   "outputs": [],
   "source": [
    "import numpy as np\n",
    "import pandas as pd\n",
    "\n",
    "from scipy.linalg import svd, qr\n",
    "from numpy.linalg import inv, matrix_power\n",
    "from sklearn.preprocessing import StandardScaler\n",
    "\n",
    "import matplotlib.pyplot as plt"
   ]
  },
  {
   "cell_type": "code",
   "execution_count": 111,
   "metadata": {},
   "outputs": [],
   "source": [
    "M = np.matrix([[1, 1, 1, 0, 0],\n",
    "               [3, 3, 3, 0, 0],\n",
    "               [4, 4, 4, 0, 0],\n",
    "               [5, 5, 5, 0, 0],\n",
    "               [0, 0, 0, 4, 4],\n",
    "               [0, 0, 0, 5, 5],\n",
    "               [0, 0, 0, 2, 2]])"
   ]
  },
  {
   "cell_type": "markdown",
   "metadata": {},
   "source": [
    "# QR decomposition"
   ]
  },
  {
   "cell_type": "code",
   "execution_count": 246,
   "metadata": {},
   "outputs": [],
   "source": [
    "q, r, ranks = qr(M, mode='economic', pivoting=True)"
   ]
  },
  {
   "cell_type": "markdown",
   "metadata": {},
   "source": [
    "### **Interpretation**\n",
    "* ranks: represents good archetype columns from M: 0,3 with high R values on the diagonal, the rest is redundant"
   ]
  },
  {
   "cell_type": "code",
   "execution_count": 262,
   "metadata": {},
   "outputs": [],
   "source": [
    "D = abs(np.diag(r))"
   ]
  },
  {
   "cell_type": "code",
   "execution_count": 263,
   "metadata": {},
   "outputs": [
    {
     "data": {
      "image/png": "[encoded data removed]",
      "text/plain": [
       "<matplotlib.figure.Figure at 0x7f5ffff32240>"
      ]
     },
     "metadata": {},
     "output_type": "display_data"
    }
   ],
   "source": [
    "pd.DataFrame(D).plot()\n",
    "plt.show()"
   ]
  },
  {
   "cell_type": "code",
   "execution_count": 264,
   "metadata": {},
   "outputs": [
    {
     "data": {
      "text/plain": [
       "array([0, 3, 4, 1, 2], dtype=int32)"
      ]
     },
     "execution_count": 264,
     "metadata": {},
     "output_type": "execute_result"
    }
   ],
   "source": [
    "ranks"
   ]
  },
  {
   "cell_type": "code",
   "execution_count": 265,
   "metadata": {},
   "outputs": [
    {
     "data": {
      "text/html": [
       "<div>\n",
       "<style scoped>\n",
       "    .dataframe tbody tr th:only-of-type {\n",
       "        vertical-align: middle;\n",
       "    }\n",
       "\n",
       "    .dataframe tbody tr th {\n",
       "        vertical-align: top;\n",
       "    }\n",
       "\n",
       "    .dataframe thead th {\n",
       "        text-align: right;\n",
       "    }\n",
       "</style>\n",
       "<table border=\"1\" class=\"dataframe\">\n",
       "  <thead>\n",
       "    <tr style=\"text-align: right;\">\n",
       "      <th></th>\n",
       "      <th>0</th>\n",
       "      <th>1</th>\n",
       "      <th>2</th>\n",
       "      <th>3</th>\n",
       "      <th>4</th>\n",
       "    </tr>\n",
       "  </thead>\n",
       "  <tbody>\n",
       "    <tr>\n",
       "      <th>0</th>\n",
       "      <td>-0.140028</td>\n",
       "      <td>0.000000</td>\n",
       "      <td>0.403591</td>\n",
       "      <td>0.904161</td>\n",
       "      <td>-1.226133e-16</td>\n",
       "    </tr>\n",
       "    <tr>\n",
       "      <th>1</th>\n",
       "      <td>-0.420084</td>\n",
       "      <td>0.000000</td>\n",
       "      <td>-0.812021</td>\n",
       "      <td>0.297404</td>\n",
       "      <td>-5.397784e-02</td>\n",
       "    </tr>\n",
       "    <tr>\n",
       "      <th>2</th>\n",
       "      <td>-0.560112</td>\n",
       "      <td>-0.000000</td>\n",
       "      <td>0.198290</td>\n",
       "      <td>-0.175256</td>\n",
       "      <td>-7.498961e-01</td>\n",
       "    </tr>\n",
       "    <tr>\n",
       "      <th>3</th>\n",
       "      <td>-0.700140</td>\n",
       "      <td>-0.000000</td>\n",
       "      <td>0.247862</td>\n",
       "      <td>-0.219070</td>\n",
       "      <td>6.323036e-01</td>\n",
       "    </tr>\n",
       "    <tr>\n",
       "      <th>4</th>\n",
       "      <td>-0.000000</td>\n",
       "      <td>-0.596285</td>\n",
       "      <td>0.184971</td>\n",
       "      <td>-0.082566</td>\n",
       "      <td>-1.246048e-01</td>\n",
       "    </tr>\n",
       "    <tr>\n",
       "      <th>5</th>\n",
       "      <td>-0.000000</td>\n",
       "      <td>-0.745356</td>\n",
       "      <td>-0.184971</td>\n",
       "      <td>0.082566</td>\n",
       "      <td>1.246048e-01</td>\n",
       "    </tr>\n",
       "    <tr>\n",
       "      <th>6</th>\n",
       "      <td>-0.000000</td>\n",
       "      <td>-0.298142</td>\n",
       "      <td>0.092485</td>\n",
       "      <td>-0.041283</td>\n",
       "      <td>-6.230239e-02</td>\n",
       "    </tr>\n",
       "  </tbody>\n",
       "</table>\n",
       "</div>"
      ],
      "text/plain": [
       "          0         1         2         3             4\n",
       "0 -0.140028  0.000000  0.403591  0.904161 -1.226133e-16\n",
       "1 -0.420084  0.000000 -0.812021  0.297404 -5.397784e-02\n",
       "2 -0.560112 -0.000000  0.198290 -0.175256 -7.498961e-01\n",
       "3 -0.700140 -0.000000  0.247862 -0.219070  6.323036e-01\n",
       "4 -0.000000 -0.596285  0.184971 -0.082566 -1.246048e-01\n",
       "5 -0.000000 -0.745356 -0.184971  0.082566  1.246048e-01\n",
       "6 -0.000000 -0.298142  0.092485 -0.041283 -6.230239e-02"
      ]
     },
     "execution_count": 265,
     "metadata": {},
     "output_type": "execute_result"
    }
   ],
   "source": [
    "pd.DataFrame(q)"
   ]
  },
  {
   "cell_type": "code",
   "execution_count": 266,
   "metadata": {},
   "outputs": [
    {
     "data": {
      "text/html": [
       "<div>\n",
       "<style scoped>\n",
       "    .dataframe tbody tr th:only-of-type {\n",
       "        vertical-align: middle;\n",
       "    }\n",
       "\n",
       "    .dataframe tbody tr th {\n",
       "        vertical-align: top;\n",
       "    }\n",
       "\n",
       "    .dataframe thead th {\n",
       "        text-align: right;\n",
       "    }\n",
       "</style>\n",
       "<table border=\"1\" class=\"dataframe\">\n",
       "  <thead>\n",
       "    <tr style=\"text-align: right;\">\n",
       "      <th></th>\n",
       "      <th>0</th>\n",
       "      <th>1</th>\n",
       "      <th>2</th>\n",
       "      <th>3</th>\n",
       "      <th>4</th>\n",
       "    </tr>\n",
       "  </thead>\n",
       "  <tbody>\n",
       "    <tr>\n",
       "      <th>0</th>\n",
       "      <td>-7.141428</td>\n",
       "      <td>0.000000</td>\n",
       "      <td>0.000000e+00</td>\n",
       "      <td>-7.141428e+00</td>\n",
       "      <td>-7.141428e+00</td>\n",
       "    </tr>\n",
       "    <tr>\n",
       "      <th>1</th>\n",
       "      <td>0.000000</td>\n",
       "      <td>-6.708204</td>\n",
       "      <td>-6.708204e+00</td>\n",
       "      <td>0.000000e+00</td>\n",
       "      <td>0.000000e+00</td>\n",
       "    </tr>\n",
       "    <tr>\n",
       "      <th>2</th>\n",
       "      <td>0.000000</td>\n",
       "      <td>0.000000</td>\n",
       "      <td>-4.473739e-16</td>\n",
       "      <td>1.441319e-16</td>\n",
       "      <td>1.441319e-16</td>\n",
       "    </tr>\n",
       "    <tr>\n",
       "      <th>3</th>\n",
       "      <td>0.000000</td>\n",
       "      <td>0.000000</td>\n",
       "      <td>0.000000e+00</td>\n",
       "      <td>3.228974e-16</td>\n",
       "      <td>3.228974e-16</td>\n",
       "    </tr>\n",
       "    <tr>\n",
       "      <th>4</th>\n",
       "      <td>0.000000</td>\n",
       "      <td>0.000000</td>\n",
       "      <td>0.000000e+00</td>\n",
       "      <td>0.000000e+00</td>\n",
       "      <td>-5.126128e-32</td>\n",
       "    </tr>\n",
       "  </tbody>\n",
       "</table>\n",
       "</div>"
      ],
      "text/plain": [
       "          0         1             2             3             4\n",
       "0 -7.141428  0.000000  0.000000e+00 -7.141428e+00 -7.141428e+00\n",
       "1  0.000000 -6.708204 -6.708204e+00  0.000000e+00  0.000000e+00\n",
       "2  0.000000  0.000000 -4.473739e-16  1.441319e-16  1.441319e-16\n",
       "3  0.000000  0.000000  0.000000e+00  3.228974e-16  3.228974e-16\n",
       "4  0.000000  0.000000  0.000000e+00  0.000000e+00 -5.126128e-32"
      ]
     },
     "execution_count": 266,
     "metadata": {},
     "output_type": "execute_result"
    }
   ],
   "source": [
    "pd.DataFrame(r)"
   ]
  },
  {
   "cell_type": "markdown",
   "metadata": {},
   "source": [
    "Estimate of the eigenvalues"
   ]
  },
  {
   "cell_type": "code",
   "execution_count": 269,
   "metadata": {},
   "outputs": [
    {
     "data": {
      "text/html": [
       "<div>\n",
       "<style scoped>\n",
       "    .dataframe tbody tr th:only-of-type {\n",
       "        vertical-align: middle;\n",
       "    }\n",
       "\n",
       "    .dataframe tbody tr th {\n",
       "        vertical-align: top;\n",
       "    }\n",
       "\n",
       "    .dataframe thead th {\n",
       "        text-align: right;\n",
       "    }\n",
       "</style>\n",
       "<table border=\"1\" class=\"dataframe\">\n",
       "  <thead>\n",
       "    <tr style=\"text-align: right;\">\n",
       "      <th></th>\n",
       "      <th>0</th>\n",
       "    </tr>\n",
       "  </thead>\n",
       "  <tbody>\n",
       "    <tr>\n",
       "      <th>0</th>\n",
       "      <td>7.141428e+00</td>\n",
       "    </tr>\n",
       "    <tr>\n",
       "      <th>1</th>\n",
       "      <td>6.708204e+00</td>\n",
       "    </tr>\n",
       "    <tr>\n",
       "      <th>2</th>\n",
       "      <td>4.473739e-16</td>\n",
       "    </tr>\n",
       "    <tr>\n",
       "      <th>3</th>\n",
       "      <td>3.228974e-16</td>\n",
       "    </tr>\n",
       "    <tr>\n",
       "      <th>4</th>\n",
       "      <td>5.126128e-32</td>\n",
       "    </tr>\n",
       "  </tbody>\n",
       "</table>\n",
       "</div>"
      ],
      "text/plain": [
       "              0\n",
       "0  7.141428e+00\n",
       "1  6.708204e+00\n",
       "2  4.473739e-16\n",
       "3  3.228974e-16\n",
       "4  5.126128e-32"
      ]
     },
     "execution_count": 269,
     "metadata": {},
     "output_type": "execute_result"
    }
   ],
   "source": [
    "pd.DataFrame(D)"
   ]
  },
  {
   "cell_type": "markdown",
   "metadata": {},
   "source": [
    "# SVD"
   ]
  },
  {
   "cell_type": "code",
   "execution_count": 254,
   "metadata": {},
   "outputs": [],
   "source": [
    "U, Sigma, V = svd(M, full_matrices=False)"
   ]
  },
  {
   "cell_type": "code",
   "execution_count": 258,
   "metadata": {},
   "outputs": [
    {
     "data": {
      "text/html": [
       "<div>\n",
       "<style scoped>\n",
       "    .dataframe tbody tr th:only-of-type {\n",
       "        vertical-align: middle;\n",
       "    }\n",
       "\n",
       "    .dataframe tbody tr th {\n",
       "        vertical-align: top;\n",
       "    }\n",
       "\n",
       "    .dataframe thead th {\n",
       "        text-align: right;\n",
       "    }\n",
       "</style>\n",
       "<table border=\"1\" class=\"dataframe\">\n",
       "  <thead>\n",
       "    <tr style=\"text-align: right;\">\n",
       "      <th></th>\n",
       "      <th>0</th>\n",
       "      <th>1</th>\n",
       "      <th>2</th>\n",
       "      <th>3</th>\n",
       "      <th>4</th>\n",
       "    </tr>\n",
       "  </thead>\n",
       "  <tbody>\n",
       "    <tr>\n",
       "      <th>0</th>\n",
       "      <td>-0.140028</td>\n",
       "      <td>-4.616132e-34</td>\n",
       "      <td>1.384343e-17</td>\n",
       "      <td>-0.990148</td>\n",
       "      <td>-7.980818e-19</td>\n",
       "    </tr>\n",
       "    <tr>\n",
       "      <th>1</th>\n",
       "      <td>-0.420084</td>\n",
       "      <td>1.392322e-18</td>\n",
       "      <td>-4.175468e-02</td>\n",
       "      <td>0.059409</td>\n",
       "      <td>9.044950e-01</td>\n",
       "    </tr>\n",
       "    <tr>\n",
       "      <th>2</th>\n",
       "      <td>-0.560112</td>\n",
       "      <td>2.457964e-17</td>\n",
       "      <td>-7.371251e-01</td>\n",
       "      <td>0.079212</td>\n",
       "      <td>-3.022078e-01</td>\n",
       "    </tr>\n",
       "    <tr>\n",
       "      <th>3</th>\n",
       "      <td>-0.700140</td>\n",
       "      <td>-2.049911e-17</td>\n",
       "      <td>6.147529e-01</td>\n",
       "      <td>0.099015</td>\n",
       "      <td>-3.009308e-01</td>\n",
       "    </tr>\n",
       "    <tr>\n",
       "      <th>4</th>\n",
       "      <td>0.000000</td>\n",
       "      <td>-5.962848e-01</td>\n",
       "      <td>-1.849709e-01</td>\n",
       "      <td>0.000000</td>\n",
       "      <td>0.000000e+00</td>\n",
       "    </tr>\n",
       "    <tr>\n",
       "      <th>5</th>\n",
       "      <td>0.000000</td>\n",
       "      <td>-7.453560e-01</td>\n",
       "      <td>1.849709e-01</td>\n",
       "      <td>0.000000</td>\n",
       "      <td>0.000000e+00</td>\n",
       "    </tr>\n",
       "    <tr>\n",
       "      <th>6</th>\n",
       "      <td>0.000000</td>\n",
       "      <td>-2.981424e-01</td>\n",
       "      <td>-9.248543e-02</td>\n",
       "      <td>0.000000</td>\n",
       "      <td>0.000000e+00</td>\n",
       "    </tr>\n",
       "  </tbody>\n",
       "</table>\n",
       "</div>"
      ],
      "text/plain": [
       "          0             1             2         3             4\n",
       "0 -0.140028 -4.616132e-34  1.384343e-17 -0.990148 -7.980818e-19\n",
       "1 -0.420084  1.392322e-18 -4.175468e-02  0.059409  9.044950e-01\n",
       "2 -0.560112  2.457964e-17 -7.371251e-01  0.079212 -3.022078e-01\n",
       "3 -0.700140 -2.049911e-17  6.147529e-01  0.099015 -3.009308e-01\n",
       "4  0.000000 -5.962848e-01 -1.849709e-01  0.000000  0.000000e+00\n",
       "5  0.000000 -7.453560e-01  1.849709e-01  0.000000  0.000000e+00\n",
       "6  0.000000 -2.981424e-01 -9.248543e-02  0.000000  0.000000e+00"
      ]
     },
     "execution_count": 258,
     "metadata": {},
     "output_type": "execute_result"
    }
   ],
   "source": [
    "pd.DataFrame(U)"
   ]
  },
  {
   "cell_type": "markdown",
   "metadata": {},
   "source": [
    "Equivalently, SVD decomposition also produces 2 large eigenvalues, rest negligible"
   ]
  },
  {
   "cell_type": "code",
   "execution_count": 259,
   "metadata": {},
   "outputs": [
    {
     "data": {
      "text/html": [
       "<div>\n",
       "<style scoped>\n",
       "    .dataframe tbody tr th:only-of-type {\n",
       "        vertical-align: middle;\n",
       "    }\n",
       "\n",
       "    .dataframe tbody tr th {\n",
       "        vertical-align: top;\n",
       "    }\n",
       "\n",
       "    .dataframe thead th {\n",
       "        text-align: right;\n",
       "    }\n",
       "</style>\n",
       "<table border=\"1\" class=\"dataframe\">\n",
       "  <thead>\n",
       "    <tr style=\"text-align: right;\">\n",
       "      <th></th>\n",
       "      <th>0</th>\n",
       "    </tr>\n",
       "  </thead>\n",
       "  <tbody>\n",
       "    <tr>\n",
       "      <th>0</th>\n",
       "      <td>1.236932e+01</td>\n",
       "    </tr>\n",
       "    <tr>\n",
       "      <th>1</th>\n",
       "      <td>9.486833e+00</td>\n",
       "    </tr>\n",
       "    <tr>\n",
       "      <th>2</th>\n",
       "      <td>3.163411e-16</td>\n",
       "    </tr>\n",
       "    <tr>\n",
       "      <th>3</th>\n",
       "      <td>2.887176e-16</td>\n",
       "    </tr>\n",
       "    <tr>\n",
       "      <th>4</th>\n",
       "      <td>6.432645e-32</td>\n",
       "    </tr>\n",
       "  </tbody>\n",
       "</table>\n",
       "</div>"
      ],
      "text/plain": [
       "              0\n",
       "0  1.236932e+01\n",
       "1  9.486833e+00\n",
       "2  3.163411e-16\n",
       "3  2.887176e-16\n",
       "4  6.432645e-32"
      ]
     },
     "execution_count": 259,
     "metadata": {},
     "output_type": "execute_result"
    }
   ],
   "source": [
    "pd.DataFrame(Sigma)"
   ]
  },
  {
   "cell_type": "code",
   "execution_count": 261,
   "metadata": {},
   "outputs": [
    {
     "data": {
      "text/html": [
       "<div>\n",
       "<style scoped>\n",
       "    .dataframe tbody tr th:only-of-type {\n",
       "        vertical-align: middle;\n",
       "    }\n",
       "\n",
       "    .dataframe tbody tr th {\n",
       "        vertical-align: top;\n",
       "    }\n",
       "\n",
       "    .dataframe thead th {\n",
       "        text-align: right;\n",
       "    }\n",
       "</style>\n",
       "<table border=\"1\" class=\"dataframe\">\n",
       "  <thead>\n",
       "    <tr style=\"text-align: right;\">\n",
       "      <th></th>\n",
       "      <th>0</th>\n",
       "      <th>1</th>\n",
       "      <th>2</th>\n",
       "      <th>3</th>\n",
       "      <th>4</th>\n",
       "    </tr>\n",
       "  </thead>\n",
       "  <tbody>\n",
       "    <tr>\n",
       "      <th>0</th>\n",
       "      <td>-0.577350</td>\n",
       "      <td>-0.577350</td>\n",
       "      <td>-0.577350</td>\n",
       "      <td>0.000000</td>\n",
       "      <td>0.000000</td>\n",
       "    </tr>\n",
       "    <tr>\n",
       "      <th>1</th>\n",
       "      <td>-0.000000</td>\n",
       "      <td>-0.000000</td>\n",
       "      <td>-0.000000</td>\n",
       "      <td>-0.707107</td>\n",
       "      <td>-0.707107</td>\n",
       "    </tr>\n",
       "    <tr>\n",
       "      <th>2</th>\n",
       "      <td>0.000000</td>\n",
       "      <td>0.000000</td>\n",
       "      <td>0.000000</td>\n",
       "      <td>-0.707107</td>\n",
       "      <td>0.707107</td>\n",
       "    </tr>\n",
       "    <tr>\n",
       "      <th>3</th>\n",
       "      <td>0.816497</td>\n",
       "      <td>-0.408248</td>\n",
       "      <td>-0.408248</td>\n",
       "      <td>0.000000</td>\n",
       "      <td>0.000000</td>\n",
       "    </tr>\n",
       "    <tr>\n",
       "      <th>4</th>\n",
       "      <td>0.000000</td>\n",
       "      <td>-0.707107</td>\n",
       "      <td>0.707107</td>\n",
       "      <td>0.000000</td>\n",
       "      <td>0.000000</td>\n",
       "    </tr>\n",
       "  </tbody>\n",
       "</table>\n",
       "</div>"
      ],
      "text/plain": [
       "          0         1         2         3         4\n",
       "0 -0.577350 -0.577350 -0.577350  0.000000  0.000000\n",
       "1 -0.000000 -0.000000 -0.000000 -0.707107 -0.707107\n",
       "2  0.000000  0.000000  0.000000 -0.707107  0.707107\n",
       "3  0.816497 -0.408248 -0.408248  0.000000  0.000000\n",
       "4  0.000000 -0.707107  0.707107  0.000000  0.000000"
      ]
     },
     "execution_count": 261,
     "metadata": {},
     "output_type": "execute_result"
    }
   ],
   "source": [
    "pd.DataFrame(V)"
   ]
  },
  {
   "cell_type": "markdown",
   "metadata": {},
   "source": [
    "---\n",
    "\n",
    "# Leverage scores\n",
    "\n",
    "> Jiyan Yang, Oliver Rubel, Prabhat, Michael W. Mahoney, and Ben P. Bowen, Identifying Important Ions and Positions in Mass Spectrometry Imaging Data Using CUR Matrix Decompositions. Analytical Chemistry, 87(9), 4658-4666, 2015.\n",
    "\n",
    "* see: https://github.com/chocjy/CUR-CX-MSI\n",
    "* `Fro` = Frobenius / `Spe` = Spectral\n",
    "* `fht` = Fast Hadamard Transform\n",
    "\n",
    "## **Strategy**\n",
    "\n",
    "If we can pull it off to compute the exact SVD of the ST, expression matrix we can use `compute_leverage_exact` to compute the column and row leverage scores without bothering with the Spectral or Frobenius norm approximate leverage scores."
   ]
  },
  {
   "cell_type": "code",
   "execution_count": 270,
   "metadata": {},
   "outputs": [],
   "source": [
    "def compute_leverage_exact(A, k, axis):    \n",
    "    \"\"\" This function computes the column or row leverage scores of the input matrix.\n",
    "\n",
    "    :param A: n-by-d matrix\n",
    "    :param k: rank parameter, k <= min(n,d)\n",
    "    :param axis: 0: compute row leverage scores; 1: compute column leverage scores.\n",
    "\n",
    "    :returns: 1D array of leverage scores. If axis = 0, the length of lev is n.  otherwise, the length of lev is d.\n",
    "    \"\"\"\n",
    "    \n",
    "    U, D, V = svd(A, full_matrices=False)\n",
    "    \n",
    "    if axis == 0:\n",
    "        lev = np.sum(U[:,:k]**2,axis=1)\n",
    "    else:\n",
    "        lev = np.sum(V[:k,:]**2,axis=0)\n",
    "\n",
    "    p = lev/k\n",
    "\n",
    "    return lev, p"
   ]
  },
  {
   "cell_type": "code",
   "execution_count": 274,
   "metadata": {},
   "outputs": [
    {
     "data": {
      "text/plain": [
       "(array([ 0.33333333,  0.33333333,  0.33333333,  1.        ,  1.        ]),\n",
       " array([ 0.11111111,  0.11111111,  0.11111111,  0.33333333,  0.33333333]))"
      ]
     },
     "execution_count": 274,
     "metadata": {},
     "output_type": "execute_result"
    }
   ],
   "source": [
    "compute_leverage_exact(M, k=3, axis=1)"
   ]
  },
  {
   "cell_type": "code",
   "execution_count": null,
   "metadata": {},
   "outputs": [],
   "source": []
  },
  {
   "cell_type": "markdown",
   "metadata": {},
   "source": [
    "---"
   ]
  },
  {
   "cell_type": "code",
   "execution_count": 162,
   "metadata": {},
   "outputs": [],
   "source": [
    "def frobenius_norm(M, axis=0):\n",
    "    m_pow_2 = np.power(M, 2)\n",
    "    \n",
    "    frobenius_norm_M = np.sum(np.sum(np.power(M, 2), axis=0), axis=1)[0, 0]\n",
    "    \n",
    "    return np.sum(m_pow_2, axis=axis) / frobenius_norm_M"
   ]
  },
  {
   "cell_type": "code",
   "execution_count": 81,
   "metadata": {},
   "outputs": [
    {
     "data": {
      "text/plain": [
       "matrix([[ 0.20987654,  0.20987654,  0.20987654,  0.18518519,  0.18518519]])"
      ]
     },
     "execution_count": 81,
     "metadata": {},
     "output_type": "execute_result"
    }
   ],
   "source": [
    "frobenius_norm(M, axis=0)"
   ]
  },
  {
   "cell_type": "code",
   "execution_count": 67,
   "metadata": {},
   "outputs": [
    {
     "data": {
      "text/plain": [
       "matrix([[ 0.01234568],\n",
       "        [ 0.11111111],\n",
       "        [ 0.19753086],\n",
       "        [ 0.30864198],\n",
       "        [ 0.13168724],\n",
       "        [ 0.20576132],\n",
       "        [ 0.03292181]])"
      ]
     },
     "execution_count": 67,
     "metadata": {},
     "output_type": "execute_result"
    }
   ],
   "source": [
    "frobenius_norm(M, axis=1)"
   ]
  },
  {
   "cell_type": "code",
   "execution_count": 77,
   "metadata": {},
   "outputs": [
    {
     "data": {
      "text/plain": [
       "matrix([[13, 13, 13, 11, 11]])"
      ]
     },
     "execution_count": 77,
     "metadata": {},
     "output_type": "execute_result"
    }
   ],
   "source": [
    "np.sum(M, axis=0)"
   ]
  },
  {
   "cell_type": "markdown",
   "metadata": {},
   "source": [
    "* Test the effect of scaling on the leverage scores"
   ]
  },
  {
   "cell_type": "code",
   "execution_count": 78,
   "metadata": {},
   "outputs": [
    {
     "name": "stderr",
     "output_type": "stream",
     "text": [
      "/home/tmo/work/batiskav/installs/anaconda3/lib/python3.5/site-packages/sklearn/utils/validation.py:429: DataConversionWarning: Data with input dtype int64 was converted to float64 by StandardScaler.\n",
      "  warnings.warn(msg, _DataConversionWarning)\n"
     ]
    }
   ],
   "source": [
    "M_scaled = np.matrix(StandardScaler().fit_transform(M))"
   ]
  },
  {
   "cell_type": "code",
   "execution_count": 79,
   "metadata": {},
   "outputs": [
    {
     "data": {
      "text/plain": [
       "matrix([[ 0.2,  0.2,  0.2,  0.2,  0.2]])"
      ]
     },
     "execution_count": 79,
     "metadata": {},
     "output_type": "execute_result"
    }
   ],
   "source": [
    "frobenius_norm(M_scaled, axis=0)"
   ]
  },
  {
   "cell_type": "code",
   "execution_count": 80,
   "metadata": {},
   "outputs": [
    {
     "data": {
      "text/plain": [
       "matrix([[ 0.05205402],\n",
       "        [ 0.06481998],\n",
       "        [ 0.13822423],\n",
       "        [ 0.25630934],\n",
       "        [ 0.16217686],\n",
       "        [ 0.24671294],\n",
       "        [ 0.07970263]])"
      ]
     },
     "execution_count": 80,
     "metadata": {},
     "output_type": "execute_result"
    }
   ],
   "source": [
    "frobenius_norm(M_scaled, axis=1)"
   ]
  },
  {
   "cell_type": "markdown",
   "metadata": {},
   "source": [
    "\n",
    "---"
   ]
  },
  {
   "cell_type": "code",
   "execution_count": 103,
   "metadata": {},
   "outputs": [
    {
     "data": {
      "text/plain": [
       "matrix([[2, 1],\n",
       "        [4, 1],\n",
       "        [5, 1],\n",
       "        [6, 1],\n",
       "        [1, 5],\n",
       "        [1, 6],\n",
       "        [1, 3]])"
      ]
     },
     "execution_count": 103,
     "metadata": {},
     "output_type": "execute_result"
    }
   ],
   "source": [
    "M2 = M[:, [0,4]]+1\n",
    "M2"
   ]
  },
  {
   "cell_type": "code",
   "execution_count": 104,
   "metadata": {},
   "outputs": [
    {
     "data": {
      "text/plain": [
       "matrix([[84, 31],\n",
       "        [31, 74]])"
      ]
     },
     "execution_count": 104,
     "metadata": {},
     "output_type": "execute_result"
    }
   ],
   "source": [
    "M2.T.dot(M2)"
   ]
  },
  {
   "cell_type": "code",
   "execution_count": 105,
   "metadata": {},
   "outputs": [
    {
     "data": {
      "text/plain": [
       "matrix([[ 0.01408183, -0.00589914],\n",
       "        [-0.00589914,  0.01598478]])"
      ]
     },
     "execution_count": 105,
     "metadata": {},
     "output_type": "execute_result"
    }
   ],
   "source": [
    "inv(M2.T.dot(M2))"
   ]
  },
  {
   "cell_type": "code",
   "execution_count": 107,
   "metadata": {},
   "outputs": [
    {
     "data": {
      "text/plain": [
       "matrix([[ 0.04871551,  0.09324453,  0.11550904,  0.13777355,  0.04319696,\n",
       "          0.04738344,  0.03482398],\n",
       "        [ 0.09324453,  0.19410086,  0.24452902,  0.29495718,  0.01236917,\n",
       "          0.00475737,  0.02759277],\n",
       "        [ 0.11550904,  0.24452902,  0.30903901,  0.373549  , -0.00304472,\n",
       "         -0.01655566,  0.02397716],\n",
       "        [ 0.13777355,  0.29495718,  0.373549  ,  0.45214082, -0.01845861,\n",
       "         -0.0378687 ,  0.02036156],\n",
       "        [ 0.04319696,  0.01236917, -0.00304472, -0.01845861,  0.3547098 ,\n",
       "          0.42873454,  0.20666032],\n",
       "        [ 0.04738344,  0.00475737, -0.01655566, -0.0378687 ,  0.42873454,\n",
       "          0.51874405,  0.24871551],\n",
       "        [ 0.03482398,  0.02759277,  0.02397716,  0.02036156,  0.20666032,\n",
       "          0.24871551,  0.12254995]])"
      ]
     },
     "execution_count": 107,
     "metadata": {},
     "output_type": "execute_result"
    }
   ],
   "source": [
    "M2.dot(inv(M2.T.dot(M2))).dot(M2.T)"
   ]
  },
  {
   "cell_type": "code",
   "execution_count": 22,
   "metadata": {},
   "outputs": [
    {
     "data": {
      "text/plain": [
       "matrix([[ 1,  4],\n",
       "        [ 1,  9],\n",
       "        [ 4, 16]])"
      ]
     },
     "execution_count": 22,
     "metadata": {},
     "output_type": "execute_result"
    }
   ],
   "source": [
    "np.power(M, 2)"
   ]
  },
  {
   "cell_type": "code",
   "execution_count": 23,
   "metadata": {},
   "outputs": [
    {
     "data": {
      "text/plain": [
       "0.8"
      ]
     },
     "execution_count": 23,
     "metadata": {},
     "output_type": "execute_result"
    }
   ],
   "source": [
    "def stat_lev(axis=0):\n",
    "    "
   ]
  },
  {
   "cell_type": "code",
   "execution_count": null,
   "metadata": {},
   "outputs": [],
   "source": []
  }
 ],
 "metadata": {
  "kernelspec": {
   "display_name": "Python [default]",
   "language": "python",
   "name": "python3"
  },
  "language_info": {
   "codemirror_mode": {
    "name": "ipython",
    "version": 3
   },
   "file_extension": ".py",
   "mimetype": "text/x-python",
   "name": "python",
   "nbconvert_exporter": "python",
   "pygments_lexer": "ipython3",
   "version": "3.5.2"
  }
 },
 "nbformat": 4,
 "nbformat_minor": 2
}
