{
 "cells": [
  {
   "cell_type": "markdown",
   "metadata": {},
   "source": [
    "# 03 Genotype classifier\n",
    "\n",
    "In this notebook we'll explore LIME and Anchors and figure out if we can learn something from black-box ML models.\n",
    "\n",
    "\n",
    "**Objectives:**\n",
    "* use Boruta to find the involved features\n",
    "* train a GBM classifier that predicts genotype\n",
    "    * CV\n",
    "    * optimization? \n",
    "* explain using LIME\n",
    "* explain using Anchors\n",
    "\n",
    "**Refs:**\n",
    "* https://kkulma.github.io/2017-11-07-automated_machine_learning_in_cancer_detection/"
   ]
  },
  {
   "cell_type": "code",
   "execution_count": 14,
   "metadata": {},
   "outputs": [],
   "source": [
    "import pandas as pd\n",
    "import numpy as np\n",
    "import os\n",
    "import pickle\n",
    "\n",
    "import matplotlib as mpl\n",
    "import matplotlib.pyplot as plt\n",
    "import seaborn as sns\n",
    "\n",
    "from boruta import BorutaPy\n",
    "from sklearn.ensemble import RandomForestClassifier, RandomForestRegressor, GradientBoostingRegressor, GradientBoostingClassifier\n",
    "\n",
    "import rpy2.robjects as robjects\n",
    "from rpy2.robjects import pandas2ri\n",
    "pandas2ri.activate()\n",
    "\n",
    "sns.set(style=\"whitegrid\")"
   ]
  },
  {
   "cell_type": "markdown",
   "metadata": {},
   "source": [
    "---\n",
    "\n",
    "## Load the data"
   ]
  },
  {
   "cell_type": "code",
   "execution_count": 15,
   "metadata": {},
   "outputs": [],
   "source": [
    "wd = '/media/tmo/data/work/datasets/02_ST'\n",
    "\n",
    "logcpm_path = wd + '/ashley_21.03.2018/logcpm_merge_20180212.pickle'\n",
    "meta_path = wd + '/meta/meta.parquet'"
   ]
  },
  {
   "cell_type": "code",
   "execution_count": 16,
   "metadata": {},
   "outputs": [
    {
     "name": "stdout",
     "output_type": "stream",
     "text": [
      "CPU times: user 112 ms, sys: 257 ms, total: 370 ms\n",
      "Wall time: 146 ms\n"
     ]
    }
   ],
   "source": [
    "%%time\n",
    "meta_df = pd.read_parquet(meta_path)"
   ]
  },
  {
   "cell_type": "code",
   "execution_count": 17,
   "metadata": {},
   "outputs": [
    {
     "name": "stdout",
     "output_type": "stream",
     "text": [
      "CPU times: user 16.4 s, sys: 7.49 s, total: 23.9 s\n",
      "Wall time: 23.9 s\n"
     ]
    }
   ],
   "source": [
    "%%time\n",
    "logcpm_df = pickle.load(open(logcpm_path, \"rb\"))\n",
    "\n",
    "logcpm_df.index.name = 'spot_UID'\n",
    "logcpm_df.reset_index(inplace=True)\n",
    "logcpm_df.rename(columns={'sampleID': 'slide_ID'}, inplace=True)"
   ]
  },
  {
   "cell_type": "code",
   "execution_count": 18,
   "metadata": {},
   "outputs": [],
   "source": [
    "st_df = logcpm_df.merge(meta_df, how='inner', on=['spot_UID', 'slide_ID'])"
   ]
  },
  {
   "cell_type": "code",
   "execution_count": 19,
   "metadata": {},
   "outputs": [],
   "source": [
    "st_df['slide_ID'] = st_df['slide_ID'].astype('category', copy=False)\n",
    "st_df['GT'] = st_df['GT'].astype('category', copy=False)\n",
    "st_df['age'] = st_df['age_GT'].astype('category', copy=False)\n",
    "st_df['age_GT'] = st_df['age_GT'].astype('category', copy=False)"
   ]
  },
  {
   "cell_type": "code",
   "execution_count": 20,
   "metadata": {},
   "outputs": [],
   "source": [
    "n_genes = 46454\n",
    "gene_columns = st_df.columns[1:n_genes+1]"
   ]
  },
  {
   "cell_type": "code",
   "execution_count": 21,
   "metadata": {},
   "outputs": [],
   "source": [
    "expression_df = st_df[gene_columns]"
   ]
  },
  {
   "cell_type": "code",
   "execution_count": 22,
   "metadata": {},
   "outputs": [],
   "source": [
    "assert expression_df.shape == (10327, 46454)"
   ]
  },
  {
   "cell_type": "code",
   "execution_count": 26,
   "metadata": {},
   "outputs": [],
   "source": [
    "genotype_df = st_df[['GT']]"
   ]
  },
  {
   "cell_type": "markdown",
   "metadata": {},
   "source": [
    "---\n",
    "\n",
    "## Extract *all-relevant* feature set\n",
    "\n",
    "* use Boruta to reduce the transcriptome feature space to only the genes that perform significantly better than their scrambled counterparts.\n",
    "\n",
    "**Observations:**\n",
    "* remarkably, boruta spits out way more relevant features than when regressing on `[AB1_StdDev_Yen]`."
   ]
  },
  {
   "cell_type": "code",
   "execution_count": 32,
   "metadata": {},
   "outputs": [],
   "source": [
    "boruta_rf = RandomForestClassifier(n_jobs=-1, n_estimators=1000, max_features='sqrt', max_depth=5)\n",
    "\n",
    "def train_feature_selector(X_df=expression_df,  # the transcriptome expression vectors\n",
    "                           y_df=genotype_df,    # the Genotype meta data column\n",
    "                           estimator=boruta_rf, verbose=2, seed=42):  # boruta parameters\n",
    "    feature_selector = BorutaPy(estimator=estimator, verbose=verbose, random_state=seed, n_estimators='auto')    \n",
    "    \n",
    "    X = X_df.as_matrix()\n",
    "    y = y_df.values.ravel()\n",
    "    feature_selector.fit(X, y)\n",
    "    \n",
    "    return feature_selector"
   ]
  },
  {
   "cell_type": "code",
   "execution_count": null,
   "metadata": {},
   "outputs": [],
   "source": [
    "GT_feature_selector = train_feature_selector()"
   ]
  },
  {
   "cell_type": "code",
   "execution_count": 42,
   "metadata": {},
   "outputs": [],
   "source": [
    "GT_features = list(gene_columns[GT_feature_selector.support_])"
   ]
  },
  {
   "cell_type": "code",
   "execution_count": 50,
   "metadata": {},
   "outputs": [
    {
     "data": {
      "text/plain": [
       "275"
      ]
     },
     "execution_count": 50,
     "metadata": {},
     "output_type": "execute_result"
    }
   ],
   "source": [
    "Gm_hits = list(filter(lambda s: str.startswith(s, 'Gm'), GT_features))\n",
    "len(Gm_hits)"
   ]
  },
  {
   "cell_type": "code",
   "execution_count": 51,
   "metadata": {},
   "outputs": [
    {
     "data": {
      "text/plain": [
       "34"
      ]
     },
     "execution_count": 51,
     "metadata": {},
     "output_type": "execute_result"
    }
   ],
   "source": [
    "mt_hits = list(filter(lambda s: str.startswith(s, 'mt'), GT_features))\n",
    "len(mt_hits)"
   ]
  },
  {
   "cell_type": "markdown",
   "metadata": {},
   "source": [
    "---\n",
    "\n",
    "# Train a GBM classifier\n",
    "\n",
    "* grid search\n",
    "* random search\n",
    "* CV evaluation of a model\n",
    "\n",
    "**Observations:**\n",
    "* we can train an almost perfect classifier with GBM\n",
    "* 5000 trees with default SGBM params and early stopping monitor\n",
    "* probably overfits, try with less trees"
   ]
  },
  {
   "cell_type": "code",
   "execution_count": 57,
   "metadata": {},
   "outputs": [],
   "source": [
    "from sklearn.model_selection import RandomizedSearchCV, cross_val_score, ShuffleSplit"
   ]
  },
  {
   "cell_type": "code",
   "execution_count": 83,
   "metadata": {},
   "outputs": [],
   "source": [
    "EARLY_STOP_WINDOW_LENGTH = 25\n",
    "\n",
    "DEFAULT_SGBM_KWARGS = {\n",
    "    'learning_rate': 0.01,\n",
    "    'n_estimators': 10000,  # can be arbitrarily large\n",
    "    'max_features': 0.1,\n",
    "    'subsample': 0.9\n",
    "}\n",
    "\n",
    "class EarlyStopMonitor:\n",
    "\n",
    "    def __init__(self, window_length=EARLY_STOP_WINDOW_LENGTH, threshold=0):        \n",
    "        self.window_length = window_length\n",
    "        self.threshold = threshold\n",
    "\n",
    "    def window_boundaries(self, current_round):        \n",
    "        lo = max(0, current_round - self.window_length + 1)\n",
    "        hi = current_round + 1\n",
    "\n",
    "        return lo, hi\n",
    "\n",
    "    def __call__(self, current_round, estimator, _):        \n",
    "        if current_round >= self.window_length - 1:\n",
    "            lo, hi = self.window_boundaries(current_round)\n",
    "            \n",
    "            do_stop = np.mean(estimator.oob_improvement_[lo: hi]) < self.threshold\n",
    "            \n",
    "            if do_stop:\n",
    "                print('stopped after rounds: {}'.format(current_round))\n",
    "            \n",
    "            return do_stop\n",
    "        else:\n",
    "            return False"
   ]
  },
  {
   "cell_type": "code",
   "execution_count": 84,
   "metadata": {},
   "outputs": [],
   "source": [
    "X = st_df[GT_features]\n",
    "y = st_df['GT']"
   ]
  },
  {
   "cell_type": "code",
   "execution_count": 62,
   "metadata": {},
   "outputs": [
    {
     "name": "stdout",
     "output_type": "stream",
     "text": [
      "stopped after rounds: 5673\n",
      "stopped after rounds: 5640\n",
      "stopped after rounds: 5807\n",
      "stopped after rounds: 5825\n",
      "stopped after rounds: 5875\n",
      "stopped after rounds: 5941\n",
      "stopped after rounds: 5827\n",
      "stopped after rounds: 5946\n",
      "stopped after rounds: 5958\n",
      "stopped after rounds: 5976\n"
     ]
    },
    {
     "data": {
      "text/plain": [
       "array([0.99854792, 0.99903195, 0.99854792, 0.99951597, 0.99903195,\n",
       "       1.        , 0.99951597, 0.99854792, 0.99951597, 0.99903195])"
      ]
     },
     "execution_count": 62,
     "metadata": {},
     "output_type": "execute_result"
    }
   ],
   "source": [
    "%%time\n",
    "n_folds = 10\n",
    "test_size = 0.2\n",
    "cv = ShuffleSplit(n_splits=n_folds, test_size=test_size, random_state=42)\n",
    "\n",
    "sgbm = GradientBoostingClassifier(random_state=42, **DEFAULT_SGBM_KWARGS)\n",
    "scores = cross_val_score(sgbm, X, y, cv=cv, n_jobs=-1, fit_params={'monitor': EarlyStopMonitor()}, groups=st_df[['GT', 'age']])\n",
    "\n",
    "scores"
   ]
  },
  {
   "cell_type": "markdown",
   "metadata": {},
   "source": [
    "* check out performance with 1000 trees\n",
    "* guess: still quite good inference"
   ]
  },
  {
   "cell_type": "code",
   "execution_count": 71,
   "metadata": {},
   "outputs": [
    {
     "name": "stdout",
     "output_type": "stream",
     "text": [
      "CPU times: user 3.57 s, sys: 26.4 s, total: 29.9 s\n",
      "Wall time: 2min 27s\n"
     ]
    }
   ],
   "source": [
    "%%time\n",
    "n_folds = 10\n",
    "test_size = 0.2\n",
    "cv = ShuffleSplit(n_splits=n_folds, test_size=test_size, random_state=42)\n",
    "\n",
    "SGBM_KWARGS = {\n",
    "    'learning_rate': 0.01,\n",
    "    'n_estimators': 1000,\n",
    "    'max_features': 0.1,\n",
    "    'subsample': 0.9\n",
    "}\n",
    "\n",
    "sgbm = GradientBoostingClassifier(random_state=42, **SGBM_KWARGS)\n",
    "scores = cross_val_score(sgbm, X, y, cv=cv, n_jobs=-1, \n",
    "                         # fit_params={'monitor': EarlyStopMonitor()},  no need for early stopping\n",
    "                         groups=st_df[['GT', 'age']])"
   ]
  },
  {
   "cell_type": "code",
   "execution_count": 72,
   "metadata": {},
   "outputs": [
    {
     "data": {
      "text/plain": [
       "array([0.99709584, 0.99612778, 0.99709584, 0.99854792, 0.99709584,\n",
       "       0.99903195, 0.99806389, 0.99515973, 0.99709584, 0.99806389])"
      ]
     },
     "execution_count": 72,
     "metadata": {},
     "output_type": "execute_result"
    }
   ],
   "source": [
    "scores"
   ]
  },
  {
   "cell_type": "code",
   "execution_count": 89,
   "metadata": {},
   "outputs": [
    {
     "name": "stdout",
     "output_type": "stream",
     "text": [
      "stopped after rounds: 340\n",
      "stopped after rounds: 338\n",
      "stopped after rounds: 340\n",
      "stopped after rounds: 348\n",
      "stopped after rounds: 347\n",
      "stopped after rounds: 340\n",
      "stopped after rounds: 348\n",
      "stopped after rounds: 340\n",
      "stopped after rounds: 348\n",
      "stopped after rounds: 348\n",
      "CPU times: user 3.35 s, sys: 27.3 s, total: 30.7 s\n",
      "Wall time: 1min 14s\n"
     ]
    }
   ],
   "source": [
    "%%time\n",
    "n_folds = 10\n",
    "test_size = 0.2\n",
    "cv = ShuffleSplit(n_splits=n_folds, test_size=test_size, random_state=42)\n",
    "\n",
    "SGBM_KWARGS = {\n",
    "    'learning_rate': 0.01,\n",
    "    'n_estimators': 10000,\n",
    "    'max_features': 0.1,\n",
    "    'subsample': 0.9\n",
    "}\n",
    "\n",
    "sgbm = GradientBoostingClassifier(random_state=42, **SGBM_KWARGS)\n",
    "scores = cross_val_score(sgbm, X, y, cv=cv, n_jobs=-1, \n",
    "                         fit_params={'monitor': EarlyStopMonitor(threshold=0.001)},\n",
    "                         groups=st_df[['GT', 'age']])"
   ]
  },
  {
   "cell_type": "code",
   "execution_count": 90,
   "metadata": {},
   "outputs": [
    {
     "data": {
      "text/plain": [
       "array([0.99031946, 0.98983543, 0.98547919, 0.99225557, 0.99225557,\n",
       "       0.99128751, 0.98983543, 0.98789932, 0.9893514 , 0.9893514 ])"
      ]
     },
     "execution_count": 90,
     "metadata": {},
     "output_type": "execute_result"
    }
   ],
   "source": [
    "scores"
   ]
  },
  {
   "cell_type": "markdown",
   "metadata": {},
   "source": [
    "---"
   ]
  },
  {
   "cell_type": "markdown",
   "metadata": {},
   "source": [
    "# Model explanation with LIME"
   ]
  },
  {
   "cell_type": "code",
   "execution_count": null,
   "metadata": {},
   "outputs": [],
   "source": []
  }
 ],
 "metadata": {
  "kernelspec": {
   "display_name": "Python [default]",
   "language": "python",
   "name": "python3"
  },
  "language_info": {
   "codemirror_mode": {
    "name": "ipython",
    "version": 3
   },
   "file_extension": ".py",
   "mimetype": "text/x-python",
   "name": "python",
   "nbconvert_exporter": "python",
   "pygments_lexer": "ipython3",
   "version": "3.5.5"
  }
 },
 "nbformat": 4,
 "nbformat_minor": 2
}
