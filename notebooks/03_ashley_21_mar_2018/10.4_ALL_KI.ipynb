{
 "cells": [
  {
   "cell_type": "markdown",
   "metadata": {},
   "source": [
    "# **10 - All regions, KI**\n",
    "\n",
    "**Objectives:**\n",
    "\n",
    "* Restructure the workflow so that `[Level_01]` regions and `[GT]` are configurable.\n",
    "* Make the stumps prioritization optional\n",
    "* Tune the GBM model with extra parameters for maximum prediction accuracy with 10-fold cross validation\n",
    "* Annotate workflow extensively"
   ]
  },
  {
   "cell_type": "code",
   "execution_count": 1,
   "metadata": {},
   "outputs": [],
   "source": [
    "import pandas as pd\n",
    "import numpy as np\n",
    "import os\n",
    "import pickle\n",
    "import itertools\n",
    "\n",
    "from numpy import ma  # masked array\n",
    "from pandas.plotting import parallel_coordinates, andrews_curves, radviz\n",
    "\n",
    "import matplotlib as mpl\n",
    "import matplotlib.pyplot as plt\n",
    "from matplotlib.colors import ListedColormap\n",
    "\n",
    "from scipy.stats.distributions import uniform as sp_uni, randint as sp_int\n",
    "\n",
    "import seaborn as sns\n",
    "\n",
    "from boruta import BorutaPy\n",
    "\n",
    "from sklearn.ensemble import RandomForestClassifier, RandomForestRegressor, GradientBoostingRegressor, GradientBoostingClassifier\n",
    "from sklearn.model_selection import RandomizedSearchCV, cross_val_score, ShuffleSplit\n",
    "from sklearn.ensemble.partial_dependence import partial_dependence, plot_partial_dependence\n",
    "from sklearn.metrics import confusion_matrix\n",
    "from sklearn.manifold import TSNE\n",
    "\n",
    "from umap import UMAP\n",
    "\n",
    "import lime \n",
    "from lime.lime_tabular import LimeTabularExplainer\n",
    "\n",
    "import sklearn.datasets\n",
    "from lime.lime_tabular import LimeTabularExplainer\n",
    "\n",
    "sns.set(style=\"whitegrid\")"
   ]
  },
  {
   "cell_type": "markdown",
   "metadata": {},
   "source": [
    "* Early stopping monitor to prevent having to automatically stop GBM model training."
   ]
  },
  {
   "cell_type": "code",
   "execution_count": 2,
   "metadata": {},
   "outputs": [],
   "source": [
    "class EarlyStopMonitor:\n",
    "\n",
    "    def __init__(self, window_length=25):\n",
    "        self.window_length = window_length\n",
    "\n",
    "    def window_boundaries(self, current_round):        \n",
    "        lo = max(0, current_round - self.window_length + 1)\n",
    "        hi = current_round + 1\n",
    "\n",
    "        return lo, hi\n",
    "\n",
    "    def __call__(self, current_round, regressor, _):        \n",
    "        if current_round >= self.window_length - 1:\n",
    "            lo, hi = self.window_boundaries(current_round)\n",
    "            \n",
    "            do_stop = np.mean(regressor.oob_improvement_[lo: hi]) < 0\n",
    "            \n",
    "            if do_stop:\n",
    "                print('stopped after rounds: {}'.format(current_round))\n",
    "            \n",
    "            return do_stop\n",
    "        else:\n",
    "            return False"
   ]
  },
  {
   "cell_type": "markdown",
   "metadata": {},
   "source": [
    "---\n",
    "\n",
    "# Load the data"
   ]
  },
  {
   "cell_type": "code",
   "execution_count": 3,
   "metadata": {},
   "outputs": [],
   "source": [
    "results_wd = '10_results/'"
   ]
  },
  {
   "cell_type": "code",
   "execution_count": 4,
   "metadata": {},
   "outputs": [],
   "source": [
    "wd = '/media/tmo/data/work/datasets/02_ST'\n",
    "\n",
    "logcpm_path = wd + '/ashley_21.03.2018/logcpm_merge_20180212.pickle'\n",
    "meta_path = wd + '/meta/meta.parquet'"
   ]
  },
  {
   "cell_type": "code",
   "execution_count": 5,
   "metadata": {},
   "outputs": [
    {
     "name": "stdout",
     "output_type": "stream",
     "text": [
      "CPU times: user 135 ms, sys: 219 ms, total: 354 ms\n",
      "Wall time: 186 ms\n"
     ]
    }
   ],
   "source": [
    "%%time\n",
    "meta_df = pd.read_parquet(meta_path)"
   ]
  },
  {
   "cell_type": "code",
   "execution_count": 6,
   "metadata": {},
   "outputs": [
    {
     "name": "stdout",
     "output_type": "stream",
     "text": [
      "CPU times: user 16.5 s, sys: 6.77 s, total: 23.3 s\n",
      "Wall time: 23.3 s\n"
     ]
    }
   ],
   "source": [
    "%%time\n",
    "logcpm_df = pickle.load(open(logcpm_path, \"rb\"))\n",
    "\n",
    "logcpm_df.index.name = 'spot_UID'\n",
    "logcpm_df.reset_index(inplace=True)\n",
    "logcpm_df.rename(columns={'sampleID': 'slide_ID'}, inplace=True)"
   ]
  },
  {
   "cell_type": "code",
   "execution_count": 7,
   "metadata": {},
   "outputs": [],
   "source": [
    "st_df = logcpm_df.merge(meta_df, how='inner', on=['spot_UID', 'slide_ID'])"
   ]
  },
  {
   "cell_type": "code",
   "execution_count": 8,
   "metadata": {},
   "outputs": [],
   "source": [
    "st_df['slide_ID'] = st_df['slide_ID'].astype('category', copy=False)\n",
    "st_df['GT']       = st_df['GT'].astype('category', copy=False)\n",
    "st_df['age']      = st_df['age'].astype('category', copy=False)\n",
    "st_df['age_GT']   = st_df['age_GT'].astype('category', copy=False)"
   ]
  },
  {
   "cell_type": "code",
   "execution_count": 9,
   "metadata": {},
   "outputs": [],
   "source": [
    "n_genes = 46454\n",
    "gene_columns = st_df.columns[1:n_genes+1]"
   ]
  },
  {
   "cell_type": "markdown",
   "metadata": {},
   "source": [
    "* merge with satellite tables"
   ]
  },
  {
   "cell_type": "code",
   "execution_count": 10,
   "metadata": {},
   "outputs": [],
   "source": [
    "region_levels_df = pd.read_csv('region_levels.csv', sep=',', keep_default_na=False)"
   ]
  },
  {
   "cell_type": "code",
   "execution_count": 11,
   "metadata": {},
   "outputs": [],
   "source": [
    "final_meta_df = pd.read_csv('final_metadata_scores.tsv', sep='\\t', index_col=0)\n",
    "final_meta_df.index.name = 'spot_UID'\n",
    "final_meta_df.reset_index(inplace=True)\n",
    "final_meta_df = final_meta_df[final_meta_df['AB'].notna()][['spot_UID', 'AB']]"
   ]
  },
  {
   "cell_type": "markdown",
   "metadata": {},
   "source": [
    "### Log transform AB index\n",
    "* the AB index is very skewed, this is not ideal for ML algorithm to regress upon\n",
    "* use a masked array to compute natural log of AB index\n",
    "\n",
    "cfr. **Jaak Simm**:\n",
    "> if it is not transformed, the skewness will result in the fact that larger (absolute) deviations will be focused by the model\n",
    "so lot of focus will be put into these high end values"
   ]
  },
  {
   "cell_type": "code",
   "execution_count": 12,
   "metadata": {},
   "outputs": [],
   "source": [
    "final_meta_df['log_AB'] = ma.log(final_meta_df['AB'].as_matrix())"
   ]
  },
  {
   "cell_type": "markdown",
   "metadata": {},
   "source": [
    "* let's check the distributions after log transform\n",
    "* much nicer (Gaussian-like)\n",
    "* there is some bimodality going on (could be batch effect, to investigate)"
   ]
  },
  {
   "cell_type": "code",
   "execution_count": 13,
   "metadata": {},
   "outputs": [
    {
     "data": {
      "image/png": "[encoded data removed]",
      "text/plain": [
       "<Figure size 1440x576 with 2 Axes>"
      ]
     },
     "metadata": {},
     "output_type": "display_data"
    }
   ],
   "source": [
    "final_meta_df[final_meta_df['log_AB'] > 0][['AB', 'log_AB']].hist(bins=500, figsize=(20, 8))\n",
    "plt.show()"
   ]
  },
  {
   "cell_type": "code",
   "execution_count": 14,
   "metadata": {},
   "outputs": [],
   "source": [
    "full_df = st_df \\\n",
    "    .merge(region_levels_df, on='Region_predict') \\\n",
    "    .merge(final_meta_df, on='spot_UID')"
   ]
  },
  {
   "cell_type": "code",
   "execution_count": 15,
   "metadata": {},
   "outputs": [],
   "source": [
    "expression_df = full_df[gene_columns]"
   ]
  },
  {
   "cell_type": "code",
   "execution_count": 16,
   "metadata": {},
   "outputs": [
    {
     "data": {
      "text/html": [
       "<div>\n",
       "<style scoped>\n",
       "    .dataframe tbody tr th:only-of-type {\n",
       "        vertical-align: middle;\n",
       "    }\n",
       "\n",
       "    .dataframe tbody tr th {\n",
       "        vertical-align: top;\n",
       "    }\n",
       "\n",
       "    .dataframe thead th {\n",
       "        text-align: right;\n",
       "    }\n",
       "</style>\n",
       "<table border=\"1\" class=\"dataframe\">\n",
       "  <thead>\n",
       "    <tr style=\"text-align: right;\">\n",
       "      <th></th>\n",
       "      <th>-343C11.2</th>\n",
       "      <th>00R_AC107638.2</th>\n",
       "      <th>0610005C13Rik</th>\n",
       "      <th>0610006L08Rik</th>\n",
       "      <th>0610007P14Rik</th>\n",
       "      <th>0610009B22Rik</th>\n",
       "      <th>0610009E02Rik</th>\n",
       "      <th>0610009L18Rik</th>\n",
       "      <th>0610009O20Rik</th>\n",
       "      <th>0610010F05Rik</th>\n",
       "      <th>...</th>\n",
       "      <th>n-R5s90</th>\n",
       "      <th>n-R5s92</th>\n",
       "      <th>n-R5s93</th>\n",
       "      <th>n-R5s94</th>\n",
       "      <th>n-R5s95</th>\n",
       "      <th>n-R5s96</th>\n",
       "      <th>n-R5s97</th>\n",
       "      <th>n-R5s98</th>\n",
       "      <th>n-TSaga9</th>\n",
       "      <th>n-TStga1</th>\n",
       "    </tr>\n",
       "  </thead>\n",
       "  <tbody>\n",
       "    <tr>\n",
       "      <th>0</th>\n",
       "      <td>2.982974</td>\n",
       "      <td>2.982974</td>\n",
       "      <td>2.982974</td>\n",
       "      <td>2.982974</td>\n",
       "      <td>2.982974</td>\n",
       "      <td>2.982974</td>\n",
       "      <td>4.984943</td>\n",
       "      <td>2.982974</td>\n",
       "      <td>2.982974</td>\n",
       "      <td>2.982974</td>\n",
       "      <td>...</td>\n",
       "      <td>2.982974</td>\n",
       "      <td>2.982974</td>\n",
       "      <td>2.982974</td>\n",
       "      <td>2.982974</td>\n",
       "      <td>2.982974</td>\n",
       "      <td>2.982974</td>\n",
       "      <td>2.982974</td>\n",
       "      <td>2.982974</td>\n",
       "      <td>2.982974</td>\n",
       "      <td>2.982974</td>\n",
       "    </tr>\n",
       "    <tr>\n",
       "      <th>1</th>\n",
       "      <td>2.982974</td>\n",
       "      <td>2.982974</td>\n",
       "      <td>2.982974</td>\n",
       "      <td>2.982974</td>\n",
       "      <td>6.827059</td>\n",
       "      <td>5.924174</td>\n",
       "      <td>2.982974</td>\n",
       "      <td>2.982974</td>\n",
       "      <td>2.982974</td>\n",
       "      <td>2.982974</td>\n",
       "      <td>...</td>\n",
       "      <td>2.982974</td>\n",
       "      <td>2.982974</td>\n",
       "      <td>2.982974</td>\n",
       "      <td>2.982974</td>\n",
       "      <td>2.982974</td>\n",
       "      <td>2.982974</td>\n",
       "      <td>2.982974</td>\n",
       "      <td>2.982974</td>\n",
       "      <td>2.982974</td>\n",
       "      <td>2.982974</td>\n",
       "    </tr>\n",
       "    <tr>\n",
       "      <th>2</th>\n",
       "      <td>2.982974</td>\n",
       "      <td>2.982974</td>\n",
       "      <td>2.982974</td>\n",
       "      <td>2.982974</td>\n",
       "      <td>2.982974</td>\n",
       "      <td>5.609164</td>\n",
       "      <td>2.982974</td>\n",
       "      <td>2.982974</td>\n",
       "      <td>5.609164</td>\n",
       "      <td>2.982974</td>\n",
       "      <td>...</td>\n",
       "      <td>2.982974</td>\n",
       "      <td>2.982974</td>\n",
       "      <td>2.982974</td>\n",
       "      <td>2.982974</td>\n",
       "      <td>2.982974</td>\n",
       "      <td>2.982974</td>\n",
       "      <td>2.982974</td>\n",
       "      <td>2.982974</td>\n",
       "      <td>2.982974</td>\n",
       "      <td>2.982974</td>\n",
       "    </tr>\n",
       "    <tr>\n",
       "      <th>3</th>\n",
       "      <td>2.982974</td>\n",
       "      <td>2.982974</td>\n",
       "      <td>2.982974</td>\n",
       "      <td>2.982974</td>\n",
       "      <td>7.661385</td>\n",
       "      <td>2.982974</td>\n",
       "      <td>2.982974</td>\n",
       "      <td>2.982974</td>\n",
       "      <td>5.157746</td>\n",
       "      <td>5.157746</td>\n",
       "      <td>...</td>\n",
       "      <td>2.982974</td>\n",
       "      <td>2.982974</td>\n",
       "      <td>2.982974</td>\n",
       "      <td>2.982974</td>\n",
       "      <td>2.982974</td>\n",
       "      <td>2.982974</td>\n",
       "      <td>2.982974</td>\n",
       "      <td>2.982974</td>\n",
       "      <td>2.982974</td>\n",
       "      <td>2.982974</td>\n",
       "    </tr>\n",
       "    <tr>\n",
       "      <th>4</th>\n",
       "      <td>2.982974</td>\n",
       "      <td>2.982974</td>\n",
       "      <td>2.982974</td>\n",
       "      <td>2.982974</td>\n",
       "      <td>6.738947</td>\n",
       "      <td>6.738947</td>\n",
       "      <td>2.982974</td>\n",
       "      <td>2.982974</td>\n",
       "      <td>2.982974</td>\n",
       "      <td>7.432553</td>\n",
       "      <td>...</td>\n",
       "      <td>2.982974</td>\n",
       "      <td>2.982974</td>\n",
       "      <td>2.982974</td>\n",
       "      <td>2.982974</td>\n",
       "      <td>2.982974</td>\n",
       "      <td>2.982974</td>\n",
       "      <td>2.982974</td>\n",
       "      <td>2.982974</td>\n",
       "      <td>2.982974</td>\n",
       "      <td>2.982974</td>\n",
       "    </tr>\n",
       "  </tbody>\n",
       "</table>\n",
       "<p>5 rows × 46454 columns</p>\n",
       "</div>"
      ],
      "text/plain": [
       "   -343C11.2  00R_AC107638.2  0610005C13Rik  0610006L08Rik  0610007P14Rik  \\\n",
       "0   2.982974        2.982974       2.982974       2.982974       2.982974   \n",
       "1   2.982974        2.982974       2.982974       2.982974       6.827059   \n",
       "2   2.982974        2.982974       2.982974       2.982974       2.982974   \n",
       "3   2.982974        2.982974       2.982974       2.982974       7.661385   \n",
       "4   2.982974        2.982974       2.982974       2.982974       6.738947   \n",
       "\n",
       "   0610009B22Rik  0610009E02Rik  0610009L18Rik  0610009O20Rik  0610010F05Rik  \\\n",
       "0       2.982974       4.984943       2.982974       2.982974       2.982974   \n",
       "1       5.924174       2.982974       2.982974       2.982974       2.982974   \n",
       "2       5.609164       2.982974       2.982974       5.609164       2.982974   \n",
       "3       2.982974       2.982974       2.982974       5.157746       5.157746   \n",
       "4       6.738947       2.982974       2.982974       2.982974       7.432553   \n",
       "\n",
       "     ...      n-R5s90   n-R5s92   n-R5s93   n-R5s94   n-R5s95   n-R5s96  \\\n",
       "0    ...     2.982974  2.982974  2.982974  2.982974  2.982974  2.982974   \n",
       "1    ...     2.982974  2.982974  2.982974  2.982974  2.982974  2.982974   \n",
       "2    ...     2.982974  2.982974  2.982974  2.982974  2.982974  2.982974   \n",
       "3    ...     2.982974  2.982974  2.982974  2.982974  2.982974  2.982974   \n",
       "4    ...     2.982974  2.982974  2.982974  2.982974  2.982974  2.982974   \n",
       "\n",
       "    n-R5s97   n-R5s98  n-TSaga9  n-TStga1  \n",
       "0  2.982974  2.982974  2.982974  2.982974  \n",
       "1  2.982974  2.982974  2.982974  2.982974  \n",
       "2  2.982974  2.982974  2.982974  2.982974  \n",
       "3  2.982974  2.982974  2.982974  2.982974  \n",
       "4  2.982974  2.982974  2.982974  2.982974  \n",
       "\n",
       "[5 rows x 46454 columns]"
      ]
     },
     "execution_count": 16,
     "metadata": {},
     "output_type": "execute_result"
    }
   ],
   "source": [
    "expression_df.head()"
   ]
  },
  {
   "cell_type": "code",
   "execution_count": 17,
   "metadata": {},
   "outputs": [],
   "source": [
    "log_AB_df = full_df[['log_AB']]"
   ]
  },
  {
   "cell_type": "code",
   "execution_count": 18,
   "metadata": {},
   "outputs": [],
   "source": [
    "# assert expression_df.shape == (10327, 46454) \n",
    "assert expression_df.shape == (10324, 46454)  # 3 less = damaged spots"
   ]
  },
  {
   "cell_type": "markdown",
   "metadata": {},
   "source": [
    "### Figure out the bimodality"
   ]
  },
  {
   "cell_type": "code",
   "execution_count": 19,
   "metadata": {},
   "outputs": [
    {
     "data": {
      "image/png": "[encoded data removed]",
      "text/plain": [
       "<Figure size 432x288 with 1 Axes>"
      ]
     },
     "metadata": {},
     "output_type": "display_data"
    }
   ],
   "source": [
    "sns.boxplot(x=\"slide_ID\", \n",
    "            y=\"log_AB\", \n",
    "            data=full_df[['slide_ID', 'log_AB', 'GT']], \n",
    "            palette=\"PRGn\")\n",
    "plt.show()"
   ]
  },
  {
   "cell_type": "markdown",
   "metadata": {},
   "source": [
    "---\n",
    "\n",
    "# Boruta feature selection\n",
    "\n",
    "* recompute the boruta feature selection step, regression onto the **log_AB** values.\n",
    "* Boruta feature selection uses a RF regressor\n",
    "\n",
    "Using boruta, features compete against scrambled versions of themeselves in order to determine which variables display predictive power towards the target variable. One can consider this step as a coarse grained features selection step."
   ]
  },
  {
   "cell_type": "code",
   "execution_count": 20,
   "metadata": {},
   "outputs": [],
   "source": [
    "def do_boruta(X,\n",
    "              y,\n",
    "              max_iter,\n",
    "              estimator=RandomForestRegressor(n_jobs=-1, \n",
    "                                              n_estimators=1000, \n",
    "                                              max_features=0.005, \n",
    "                                              max_depth=5),\n",
    "              verbose=2,\n",
    "              seed=42):\n",
    "    \n",
    "    \"\"\"\n",
    "    Returns the trained feature selector.\n",
    "    \"\"\"\n",
    "    \n",
    "    feat_selector = BorutaPy(estimator=estimator, verbose=verbose, max_iter=max_iter, random_state=seed)\n",
    "    \n",
    "    X = X.as_matrix()\n",
    "    y = y.values.ravel()\n",
    "    feat_selector.fit(X, y)\n",
    "    \n",
    "    return feat_selector    "
   ]
  },
  {
   "cell_type": "markdown",
   "metadata": {},
   "source": [
    "---\n",
    "\n",
    "# Filter spots\n",
    "\n",
    "* filter spots by genotype and/or level 1 region\n",
    "* split into train and test sets"
   ]
  },
  {
   "cell_type": "code",
   "execution_count": 21,
   "metadata": {},
   "outputs": [],
   "source": [
    "level_01_regions = region_levels_df.Level_01.unique()\n",
    "\n",
    "def filter_spots(df,\n",
    "                 level_01_region=None,\n",
    "                 genotype=None):\n",
    "    \n",
    "    result_df = df\n",
    "    \n",
    "    if level_01_region:\n",
    "        assert level_01_region in level_01_regions        \n",
    "        result_df = result_df[result_df['Level_01'] == level_01_region]\n",
    "        \n",
    "    if genotype:\n",
    "        assert genotype in ['WT', 'KI']\n",
    "        result_df = result_df[result_df['GT'] == genotype]\n",
    "        \n",
    "    return result_df"
   ]
  },
  {
   "cell_type": "code",
   "execution_count": 22,
   "metadata": {},
   "outputs": [],
   "source": [
    "def split_train_test(df,\n",
    "                     groups=None,\n",
    "                     splitter=ShuffleSplit(n_splits=1, test_size=0.2, random_state=42)):\n",
    "    \n",
    "    train_idx, test_idx = list(splitter.split(df, groups=groups))[0]\n",
    "    \n",
    "    return train_idx, test_idx"
   ]
  },
  {
   "cell_type": "markdown",
   "metadata": {},
   "source": [
    "--- \n",
    "\n",
    "# Train & tune GBM model\n",
    "\n",
    "* searches through the space of hyperparameters for an optimal GradientBoostingRegression configuration."
   ]
  },
  {
   "cell_type": "code",
   "execution_count": 23,
   "metadata": {},
   "outputs": [],
   "source": [
    "proto_sgbm = GradientBoostingRegressor(learning_rate=0.01, n_estimators=10000, subsample=0.9)\n",
    "\n",
    "def do_randomized_search_CV(X, y, estimator=proto_sgbm, groups=None, n_iter=250, seed=42):\n",
    "    \n",
    "    cv = ShuffleSplit(n_splits=10, test_size=0.15, random_state=seed)\n",
    "        \n",
    "    param_distributions = {'max_depth':         sp_int(4, 14),\n",
    "                           'max_features':      sp_uni(loc=0.1, scale=0.8),\n",
    "                           'min_samples_split': sp_int(2, int(len(X) * 0.01)),\n",
    "                           'min_samples_leaf':  sp_int(1, int(len(X) * 0.01))}\n",
    "    \n",
    "    rs = RandomizedSearchCV(estimator=estimator,\n",
    "                            n_iter=n_iter,\n",
    "                            param_distributions=param_distributions,\n",
    "                            n_jobs=-1,\n",
    "                            cv=cv,\n",
    "                            scoring='neg_mean_squared_error',\n",
    "                            random_state=seed)\n",
    "    \n",
    "    rs.fit(X, y, groups=groups, monitor=EarlyStopMonitor())\n",
    "    \n",
    "    return rs"
   ]
  },
  {
   "cell_type": "markdown",
   "metadata": {},
   "source": [
    "---\n",
    "\n",
    "# **Test run on {CX, KI}**\n",
    "\n",
    "* run the workflow on a constrained set of spots"
   ]
  },
  {
   "cell_type": "code",
   "execution_count": 24,
   "metadata": {},
   "outputs": [],
   "source": [
    "region=None # all a.k.a. no filter on region\n",
    "genotype='KI'\n",
    "\n",
    "filtered_df = filter_spots(full_df, \n",
    "                           level_01_region=region, \n",
    "                           genotype=genotype)"
   ]
  },
  {
   "cell_type": "code",
   "execution_count": 25,
   "metadata": {},
   "outputs": [],
   "source": [
    "filtered_WT_df = filter_spots(full_df, level_01_region=region, genotype='WT')"
   ]
  },
  {
   "cell_type": "markdown",
   "metadata": {},
   "source": [
    "### **Step 1**: Boruta feature selection\n",
    "\n",
    "* result is a list of genes that putatively predict the `log_AB` value\n",
    "* this is a heavy computation, **do this on a big machine**\n",
    "* ignore `RuntimeWarning` messages"
   ]
  },
  {
   "cell_type": "code",
   "execution_count": 26,
   "metadata": {},
   "outputs": [],
   "source": [
    "X_boruta = filtered_df[gene_columns]\n",
    "y_boruta = filtered_df['log_AB']"
   ]
  },
  {
   "cell_type": "code",
   "execution_count": 27,
   "metadata": {},
   "outputs": [],
   "source": [
    "X_WT_boruta = filtered_WT_df[gene_columns]\n",
    "y_WT_boruta = filtered_WT_df['log_AB']"
   ]
  },
  {
   "cell_type": "code",
   "execution_count": null,
   "metadata": {},
   "outputs": [],
   "source": [
    "%%time\n",
    "log_AB_feat_selector = do_boruta(X_boruta, y_boruta, max_iter=150)"
   ]
  },
  {
   "cell_type": "code",
   "execution_count": 29,
   "metadata": {},
   "outputs": [],
   "source": [
    "boruta_genes = list(gene_columns[log_AB_feat_selector.support_])"
   ]
  },
  {
   "cell_type": "markdown",
   "metadata": {},
   "source": [
    "### **Step 2**: GBM Hyperparameter optimization\n",
    "\n",
    "* Find a set of parameters for the `GradientBoostingRegressor` by 10x cross validation, sampling from predefined parameter distributions.\n",
    "* Computationally heavy step"
   ]
  },
  {
   "cell_type": "code",
   "execution_count": null,
   "metadata": {},
   "outputs": [],
   "source": [
    "X_hyper = filtered_df[boruta_genes]\n",
    "y_hyper = filtered_df['log_AB']"
   ]
  },
  {
   "cell_type": "code",
   "execution_count": null,
   "metadata": {},
   "outputs": [],
   "source": [
    "%%time\n",
    "rs_result = do_randomized_search_CV(estimator=GradientBoostingRegressor(learning_rate=0.005, n_estimators=10000, subsample=0.9),\n",
    "                                    X=X_hyper,\n",
    "                                    y=y_hyper,\n",
    "                                    n_iter=100)"
   ]
  },
  {
   "cell_type": "code",
   "execution_count": null,
   "metadata": {},
   "outputs": [],
   "source": [
    "rs_result.best_estimator_"
   ]
  },
  {
   "cell_type": "code",
   "execution_count": null,
   "metadata": {},
   "outputs": [],
   "source": [
    "best_estimator = rs_result.best_estimator_"
   ]
  },
  {
   "cell_type": "code",
   "execution_count": null,
   "metadata": {},
   "outputs": [],
   "source": [
    "train_idx, test_idx = split_train_test(X_boruta)\n",
    "\n",
    "X_train = filtered_df[boruta_genes].iloc[train_idx]\n",
    "y_train = filtered_df['log_AB'].iloc[train_idx]\n",
    "\n",
    "X_test = filtered_df[boruta_genes].iloc[test_idx]\n",
    "y_test = filtered_df['log_AB'].iloc[test_idx]"
   ]
  },
  {
   "cell_type": "code",
   "execution_count": null,
   "metadata": {},
   "outputs": [],
   "source": [
    "train_WT_idx, test_WT_idx = split_train_test(X_boruta)\n",
    "\n",
    "X_train = filtered_df[boruta_genes].iloc[train_idx]\n",
    "y_train = filtered_df['log_AB'].iloc[train_idx]\n",
    "\n",
    "X_test = filtered_df[boruta_genes].iloc[test_idx]\n",
    "y_test = filtered_df['log_AB'].iloc[test_idx]"
   ]
  },
  {
   "cell_type": "markdown",
   "metadata": {},
   "source": [
    "### **Step 3**: Train a GBM with optimized parameters.\n",
    "\n",
    "* extract important features from the trained model"
   ]
  },
  {
   "cell_type": "code",
   "execution_count": null,
   "metadata": {},
   "outputs": [],
   "source": [
    "best_estimator.fit(X_train, y_train, monitor=EarlyStopMonitor())"
   ]
  },
  {
   "cell_type": "code",
   "execution_count": null,
   "metadata": {},
   "outputs": [],
   "source": [
    "important_genes_df = pd.DataFrame({'gene': boruta_genes, \n",
    "                                   'importance': best_estimator.feature_importances_}).sort_values(by='importance', ascending=False)"
   ]
  },
  {
   "cell_type": "code",
   "execution_count": null,
   "metadata": {},
   "outputs": [],
   "source": [
    "important_genes_df.head()"
   ]
  },
  {
   "cell_type": "code",
   "execution_count": null,
   "metadata": {},
   "outputs": [],
   "source": [
    "important_genes_df.to_csv(results_wd + 'important_genes_{}_{}.tsv'.format(genotype, region), sep='\\t', index=None)"
   ]
  },
  {
   "cell_type": "code",
   "execution_count": null,
   "metadata": {},
   "outputs": [],
   "source": [
    "top = 50\n",
    "\n",
    "important_genes_df[:top].plot.bar(x='gene', y='importance', figsize=(32, 8))\n",
    "plt.show()"
   ]
  },
  {
   "cell_type": "markdown",
   "metadata": {},
   "source": [
    "* plotting the predictions vs the actual test values\n",
    "* pretty OK, but some batch effect?"
   ]
  },
  {
   "cell_type": "code",
   "execution_count": null,
   "metadata": {},
   "outputs": [],
   "source": [
    "pd.DataFrame({'predict': best_estimator.predict(X_test), \n",
    "              'actual': y_test}).plot.scatter(x='actual', y='predict')\n",
    "\n",
    "plt.show()"
   ]
  },
  {
   "cell_type": "markdown",
   "metadata": {},
   "source": [
    "* test the performance on some WT examples\n",
    "* this is **BAD!!!**\n",
    "* the model is clearly not trained on WT examples and thus cannot well predict the log_AB scores for these"
   ]
  },
  {
   "cell_type": "code",
   "execution_count": null,
   "metadata": {},
   "outputs": [],
   "source": [
    "pd.DataFrame({'predict': best_estimator.predict(X_WT_boruta[boruta_genes][:100]), \n",
    "              'actual': y_WT_boruta[:100]}).plot.scatter(x='actual', y='predict')\n",
    "\n",
    "plt.show()"
   ]
  },
  {
   "cell_type": "markdown",
   "metadata": {},
   "source": [
    "* partial dependence plots"
   ]
  },
  {
   "cell_type": "code",
   "execution_count": null,
   "metadata": {},
   "outputs": [],
   "source": [
    "top_genes = important_genes_df['gene'][:30]"
   ]
  },
  {
   "cell_type": "code",
   "execution_count": null,
   "metadata": {},
   "outputs": [],
   "source": [
    "for idx, gene in enumerate(top_genes):\n",
    "    plot_partial_dependence(best_estimator,\n",
    "                            X=X_train,\n",
    "                            features=[boruta_genes.index(gene)],\n",
    "                            feature_names=boruta_genes,\n",
    "                            grid_resolution=50,\n",
    "                            figsize=(4, 4))\n",
    "    \n",
    "    plt.show()"
   ]
  },
  {
   "cell_type": "code",
   "execution_count": null,
   "metadata": {},
   "outputs": [],
   "source": [
    "gene_indices = [boruta_genes.index(gene) for gene in top_genes]\n",
    "\n",
    "plot_partial_dependence(best_estimator,\n",
    "                        X=X_train,\n",
    "                        features=gene_indices,\n",
    "                        feature_names=boruta_genes,\n",
    "                        grid_resolution=50,\n",
    "                        n_jobs=1, figsize=(12, 32))\n",
    "    \n",
    "plt.show()"
   ]
  },
  {
   "cell_type": "code",
   "execution_count": null,
   "metadata": {},
   "outputs": [],
   "source": []
  }
 ],
 "metadata": {
  "kernelspec": {
   "display_name": "Python [default]",
   "language": "python",
   "name": "python3"
  },
  "language_info": {
   "codemirror_mode": {
    "name": "ipython",
    "version": 3
   },
   "file_extension": ".py",
   "mimetype": "text/x-python",
   "name": "python",
   "nbconvert_exporter": "python",
   "pygments_lexer": "ipython3",
   "version": "3.5.5"
  }
 },
 "nbformat": 4,
 "nbformat_minor": 2
}
