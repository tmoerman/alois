{
 "cells": [
  {
   "cell_type": "markdown",
   "metadata": {},
   "source": [
    "# 03 Genotype classifier\n",
    "\n",
    "In this notebook we'll explore LIME and Anchors and figure out if we can learn something from black-box ML models.\n",
    "\n",
    "\n",
    "**Objectives:**\n",
    "* use Boruta to find the involved features\n",
    "* train a GBM classifier that predicts genotype\n",
    "    * CV\n",
    "    * optimization? \n",
    "* explain using LIME\n",
    "* explain using Anchors\n",
    "\n",
    "**Refs:**\n",
    "* https://kkulma.github.io/2017-11-07-automated_machine_learning_in_cancer_detection/"
   ]
  },
  {
   "cell_type": "code",
   "execution_count": 14,
   "metadata": {},
   "outputs": [],
   "source": [
    "import pandas as pd\n",
    "import numpy as np\n",
    "import os\n",
    "import pickle\n",
    "\n",
    "import matplotlib as mpl\n",
    "import matplotlib.pyplot as plt\n",
    "import seaborn as sns\n",
    "\n",
    "from boruta import BorutaPy\n",
    "from sklearn.ensemble import RandomForestClassifier, RandomForestRegressor, GradientBoostingRegressor, GradientBoostingClassifier\n",
    "\n",
    "import rpy2.robjects as robjects\n",
    "from rpy2.robjects import pandas2ri\n",
    "pandas2ri.activate()\n",
    "\n",
    "sns.set(style=\"whitegrid\")"
   ]
  },
  {
   "cell_type": "markdown",
   "metadata": {},
   "source": [
    "---\n",
    "\n",
    "## Load the data"
   ]
  },
  {
   "cell_type": "code",
   "execution_count": 15,
   "metadata": {},
   "outputs": [],
   "source": [
    "wd = '/media/tmo/data/work/datasets/02_ST'\n",
    "\n",
    "logcpm_path = wd + '/ashley_21.03.2018/logcpm_merge_20180212.pickle'\n",
    "meta_path = wd + '/meta/meta.parquet'"
   ]
  },
  {
   "cell_type": "code",
   "execution_count": 16,
   "metadata": {},
   "outputs": [
    {
     "name": "stdout",
     "output_type": "stream",
     "text": [
      "CPU times: user 112 ms, sys: 257 ms, total: 370 ms\n",
      "Wall time: 146 ms\n"
     ]
    }
   ],
   "source": [
    "%%time\n",
    "meta_df = pd.read_parquet(meta_path)"
   ]
  },
  {
   "cell_type": "code",
   "execution_count": 17,
   "metadata": {},
   "outputs": [
    {
     "name": "stdout",
     "output_type": "stream",
     "text": [
      "CPU times: user 16.4 s, sys: 7.49 s, total: 23.9 s\n",
      "Wall time: 23.9 s\n"
     ]
    }
   ],
   "source": [
    "%%time\n",
    "logcpm_df = pickle.load(open(logcpm_path, \"rb\"))\n",
    "\n",
    "logcpm_df.index.name = 'spot_UID'\n",
    "logcpm_df.reset_index(inplace=True)\n",
    "logcpm_df.rename(columns={'sampleID': 'slide_ID'}, inplace=True)"
   ]
  },
  {
   "cell_type": "code",
   "execution_count": 18,
   "metadata": {},
   "outputs": [],
   "source": [
    "st_df = logcpm_df.merge(meta_df, how='inner', on=['spot_UID', 'slide_ID'])"
   ]
  },
  {
   "cell_type": "code",
   "execution_count": 19,
   "metadata": {},
   "outputs": [],
   "source": [
    "st_df['slide_ID'] = st_df['slide_ID'].astype('category', copy=False)\n",
    "st_df['GT'] = st_df['GT'].astype('category', copy=False)\n",
    "st_df['age'] = st_df['age_GT'].astype('category', copy=False)\n",
    "st_df['age_GT'] = st_df['age_GT'].astype('category', copy=False)"
   ]
  },
  {
   "cell_type": "code",
   "execution_count": 20,
   "metadata": {},
   "outputs": [],
   "source": [
    "n_genes = 46454\n",
    "gene_columns = st_df.columns[1:n_genes+1]"
   ]
  },
  {
   "cell_type": "code",
   "execution_count": 21,
   "metadata": {},
   "outputs": [],
   "source": [
    "expression_df = st_df[gene_columns]"
   ]
  },
  {
   "cell_type": "code",
   "execution_count": 22,
   "metadata": {},
   "outputs": [],
   "source": [
    "assert expression_df.shape == (10327, 46454)"
   ]
  },
  {
   "cell_type": "code",
   "execution_count": 26,
   "metadata": {},
   "outputs": [],
   "source": [
    "genotype_df = st_df[['GT']]"
   ]
  },
  {
   "cell_type": "markdown",
   "metadata": {},
   "source": [
    "---\n",
    "\n",
    "## Extract *all-relevant* feature set\n",
    "\n",
    "* use Boruta to reduce the transcriptome feature space to only the genes that perform significantly better than their scrambled counterparts.\n",
    "\n",
    "**Observations:**\n",
    "* remarkably, boruta spits out way more relevant features than when regressing on `[AB1_StdDev_Yen]`."
   ]
  },
  {
   "cell_type": "code",
   "execution_count": 32,
   "metadata": {},
   "outputs": [],
   "source": [
    "boruta_rf = RandomForestClassifier(n_jobs=-1, n_estimators=1000, max_features='sqrt', max_depth=5)\n",
    "\n",
    "def train_feature_selector(X_df=expression_df,  # the transcriptome expression vectors\n",
    "                           y_df=genotype_df,    # the Genotype meta data column\n",
    "                           estimator=boruta_rf, verbose=2, seed=42):  # boruta parameters\n",
    "    feature_selector = BorutaPy(estimator=estimator, verbose=verbose, random_state=seed, n_estimators='auto')    \n",
    "    \n",
    "    X = X_df.as_matrix()\n",
    "    y = y_df.values.ravel()\n",
    "    feature_selector.fit(X, y)\n",
    "    \n",
    "    return feature_selector"
   ]
  },
  {
   "cell_type": "code",
   "execution_count": null,
   "metadata": {},
   "outputs": [],
   "source": [
    "GT_feature_selector = train_feature_selector()"
   ]
  },
  {
   "cell_type": "code",
   "execution_count": 42,
   "metadata": {},
   "outputs": [],
   "source": [
    "GT_features = list(gene_columns[GT_feature_selector.support_])"
   ]
  },
  {
   "cell_type": "code",
   "execution_count": 280,
   "metadata": {},
   "outputs": [],
   "source": [
    "GT_features_BAK = GT_features"
   ]
  },
  {
   "cell_type": "code",
   "execution_count": 284,
   "metadata": {},
   "outputs": [],
   "source": [
    "pd.DataFrame(GT_features_BAK).to_csv('03_GT_features.txt', index=None, header=None)"
   ]
  },
  {
   "cell_type": "code",
   "execution_count": 281,
   "metadata": {},
   "outputs": [],
   "source": [
    "def keep(gene):\n",
    "    rik = gene.endswith('Rik')\n",
    "    Gm_ = re.search('^Gm[0-9]+', gene) is not None\n",
    "    \n",
    "    return not (rik or Gm_)\n",
    "\n",
    "GT_features = list(filter(lambda gene: keep(gene), GT_features))"
   ]
  },
  {
   "cell_type": "code",
   "execution_count": 285,
   "metadata": {},
   "outputs": [
    {
     "data": {
      "text/plain": [
       "1226"
      ]
     },
     "execution_count": 285,
     "metadata": {},
     "output_type": "execute_result"
    }
   ],
   "source": [
    "len(GT_features)"
   ]
  },
  {
   "cell_type": "markdown",
   "metadata": {},
   "source": [
    "---\n",
    "\n",
    "# Train a GBM classifier\n",
    "\n",
    "* grid search\n",
    "* random search\n",
    "* CV evaluation of a model\n",
    "\n",
    "**Observations:**\n",
    "* we can train an almost perfect classifier with GBM\n",
    "* 5000 trees with default SGBM params and early stopping monitor\n",
    "* probably overfits, try with less trees"
   ]
  },
  {
   "cell_type": "code",
   "execution_count": 57,
   "metadata": {},
   "outputs": [],
   "source": [
    "from sklearn.model_selection import RandomizedSearchCV, cross_val_score, ShuffleSplit"
   ]
  },
  {
   "cell_type": "code",
   "execution_count": 83,
   "metadata": {},
   "outputs": [],
   "source": [
    "EARLY_STOP_WINDOW_LENGTH = 25\n",
    "\n",
    "DEFAULT_SGBM_KWARGS = {\n",
    "    'learning_rate': 0.01,\n",
    "    'n_estimators': 10000,  # can be arbitrarily large\n",
    "    'max_features': 0.1,\n",
    "    'subsample': 0.9\n",
    "}\n",
    "\n",
    "class EarlyStopMonitor:\n",
    "\n",
    "    def __init__(self, window_length=EARLY_STOP_WINDOW_LENGTH, threshold=0):        \n",
    "        self.window_length = window_length\n",
    "        self.threshold = threshold\n",
    "\n",
    "    def window_boundaries(self, current_round):        \n",
    "        lo = max(0, current_round - self.window_length + 1)\n",
    "        hi = current_round + 1\n",
    "\n",
    "        return lo, hi\n",
    "\n",
    "    def __call__(self, current_round, estimator, _):        \n",
    "        if current_round >= self.window_length - 1:\n",
    "            lo, hi = self.window_boundaries(current_round)\n",
    "            \n",
    "            do_stop = np.mean(estimator.oob_improvement_[lo: hi]) < self.threshold\n",
    "            \n",
    "            if do_stop:\n",
    "                print('stopped after rounds: {}'.format(current_round))\n",
    "            \n",
    "            return do_stop\n",
    "        else:\n",
    "            return False"
   ]
  },
  {
   "cell_type": "code",
   "execution_count": 294,
   "metadata": {},
   "outputs": [],
   "source": [
    "X = st_df[GT_features]\n",
    "y = st_df['GT']"
   ]
  },
  {
   "cell_type": "code",
   "execution_count": 62,
   "metadata": {},
   "outputs": [
    {
     "name": "stdout",
     "output_type": "stream",
     "text": [
      "stopped after rounds: 5673\n",
      "stopped after rounds: 5640\n",
      "stopped after rounds: 5807\n",
      "stopped after rounds: 5825\n",
      "stopped after rounds: 5875\n",
      "stopped after rounds: 5941\n",
      "stopped after rounds: 5827\n",
      "stopped after rounds: 5946\n",
      "stopped after rounds: 5958\n",
      "stopped after rounds: 5976\n"
     ]
    },
    {
     "data": {
      "text/plain": [
       "array([0.99854792, 0.99903195, 0.99854792, 0.99951597, 0.99903195,\n",
       "       1.        , 0.99951597, 0.99854792, 0.99951597, 0.99903195])"
      ]
     },
     "execution_count": 62,
     "metadata": {},
     "output_type": "execute_result"
    }
   ],
   "source": [
    "%%time\n",
    "n_folds = 10\n",
    "test_size = 0.2\n",
    "cv = ShuffleSplit(n_splits=n_folds, test_size=test_size, random_state=42)\n",
    "\n",
    "sgbm = GradientBoostingClassifier(random_state=42, **DEFAULT_SGBM_KWARGS)\n",
    "scores = cross_val_score(sgbm, X, y, cv=cv, n_jobs=-1, fit_params={'monitor': EarlyStopMonitor()}, groups=st_df[['GT', 'age']])\n",
    "\n",
    "scores"
   ]
  },
  {
   "cell_type": "markdown",
   "metadata": {},
   "source": [
    "* check out performance with 1000 trees\n",
    "* guess: still quite good inference"
   ]
  },
  {
   "cell_type": "code",
   "execution_count": 71,
   "metadata": {},
   "outputs": [
    {
     "name": "stdout",
     "output_type": "stream",
     "text": [
      "CPU times: user 3.57 s, sys: 26.4 s, total: 29.9 s\n",
      "Wall time: 2min 27s\n"
     ]
    }
   ],
   "source": [
    "%%time\n",
    "n_folds = 10\n",
    "test_size = 0.2\n",
    "cv = ShuffleSplit(n_splits=n_folds, test_size=test_size, random_state=42)\n",
    "\n",
    "SGBM_KWARGS = {\n",
    "    'learning_rate': 0.01,\n",
    "    'n_estimators': 1000,\n",
    "    'max_features': 0.1,\n",
    "    'subsample': 0.9\n",
    "}\n",
    "\n",
    "sgbm = GradientBoostingClassifier(random_state=42, **SGBM_KWARGS)\n",
    "scores = cross_val_score(sgbm, X, y, cv=cv, n_jobs=-1, \n",
    "                         # fit_params={'monitor': EarlyStopMonitor()},  no need for early stopping\n",
    "                         groups=st_df[['GT', 'age']])"
   ]
  },
  {
   "cell_type": "code",
   "execution_count": 72,
   "metadata": {},
   "outputs": [
    {
     "data": {
      "text/plain": [
       "array([0.99709584, 0.99612778, 0.99709584, 0.99854792, 0.99709584,\n",
       "       0.99903195, 0.99806389, 0.99515973, 0.99709584, 0.99806389])"
      ]
     },
     "execution_count": 72,
     "metadata": {},
     "output_type": "execute_result"
    }
   ],
   "source": [
    "scores"
   ]
  },
  {
   "cell_type": "code",
   "execution_count": 89,
   "metadata": {},
   "outputs": [
    {
     "name": "stdout",
     "output_type": "stream",
     "text": [
      "stopped after rounds: 340\n",
      "stopped after rounds: 338\n",
      "stopped after rounds: 340\n",
      "stopped after rounds: 348\n",
      "stopped after rounds: 347\n",
      "stopped after rounds: 340\n",
      "stopped after rounds: 348\n",
      "stopped after rounds: 340\n",
      "stopped after rounds: 348\n",
      "stopped after rounds: 348\n",
      "CPU times: user 3.35 s, sys: 27.3 s, total: 30.7 s\n",
      "Wall time: 1min 14s\n"
     ]
    }
   ],
   "source": [
    "%%time\n",
    "n_folds = 10\n",
    "test_size = 0.2\n",
    "cv = ShuffleSplit(n_splits=n_folds, test_size=test_size, random_state=42)\n",
    "\n",
    "SGBM_KWARGS = {\n",
    "    'learning_rate': 0.01,\n",
    "    'n_estimators': 10000,\n",
    "    'max_features': 0.1,\n",
    "    'subsample': 0.9\n",
    "}\n",
    "\n",
    "sgbm = GradientBoostingClassifier(random_state=42, **SGBM_KWARGS)\n",
    "scores = cross_val_score(sgbm, X, y, cv=cv, n_jobs=-1, \n",
    "                         fit_params={'monitor': EarlyStopMonitor(threshold=0.001)},\n",
    "                         groups=st_df[['GT', 'age']])"
   ]
  },
  {
   "cell_type": "code",
   "execution_count": 90,
   "metadata": {},
   "outputs": [
    {
     "data": {
      "text/plain": [
       "array([0.99031946, 0.98983543, 0.98547919, 0.99225557, 0.99225557,\n",
       "       0.99128751, 0.98983543, 0.98789932, 0.9893514 , 0.9893514 ])"
      ]
     },
     "execution_count": 90,
     "metadata": {},
     "output_type": "execute_result"
    }
   ],
   "source": [
    "scores"
   ]
  },
  {
   "cell_type": "markdown",
   "metadata": {},
   "source": [
    "---"
   ]
  },
  {
   "cell_type": "markdown",
   "metadata": {},
   "source": [
    "# GBM variable importance for **GT** classification"
   ]
  },
  {
   "cell_type": "code",
   "execution_count": 301,
   "metadata": {},
   "outputs": [],
   "source": [
    "train_idx, test_idx = list(ShuffleSplit(n_splits=2, test_size=0.2, random_state=666).split(X, y))[0]"
   ]
  },
  {
   "cell_type": "code",
   "execution_count": 302,
   "metadata": {},
   "outputs": [],
   "source": [
    "X_train = X.loc[train_idx]\n",
    "X_test  = X.loc[test_idx]\n",
    "y_train = y.loc[train_idx]\n",
    "y_test  = y.loc[test_idx]"
   ]
  },
  {
   "cell_type": "code",
   "execution_count": 303,
   "metadata": {},
   "outputs": [],
   "source": [
    "sgbm = GradientBoostingClassifier(random_state=42, learning_rate=0.01, n_estimators=250, max_features=0.1)"
   ]
  },
  {
   "cell_type": "code",
   "execution_count": 304,
   "metadata": {},
   "outputs": [
    {
     "data": {
      "text/plain": [
       "GradientBoostingClassifier(criterion='friedman_mse', init=None,\n",
       "              learning_rate=0.01, loss='deviance', max_depth=3,\n",
       "              max_features=0.1, max_leaf_nodes=None,\n",
       "              min_impurity_split=1e-07, min_samples_leaf=1,\n",
       "              min_samples_split=2, min_weight_fraction_leaf=0.0,\n",
       "              n_estimators=250, presort='auto', random_state=42,\n",
       "              subsample=1.0, verbose=0, warm_start=False)"
      ]
     },
     "execution_count": 304,
     "metadata": {},
     "output_type": "execute_result"
    }
   ],
   "source": [
    "sgbm.fit(X_train, y_train)"
   ]
  },
  {
   "cell_type": "code",
   "execution_count": 305,
   "metadata": {},
   "outputs": [
    {
     "data": {
      "text/plain": [
       "1226"
      ]
     },
     "execution_count": 305,
     "metadata": {},
     "output_type": "execute_result"
    }
   ],
   "source": [
    "len(list(sgbm.feature_importances_))"
   ]
  },
  {
   "cell_type": "code",
   "execution_count": 306,
   "metadata": {},
   "outputs": [],
   "source": [
    "genes_by_importances = pd.DataFrame({'gene': GT_features, 'importance': sgbm.feature_importances_})"
   ]
  },
  {
   "cell_type": "code",
   "execution_count": 307,
   "metadata": {},
   "outputs": [
    {
     "data": {
      "image/png": "[encoded data removed]",
      "text/plain": [
       "<Figure size 432x288 with 1 Axes>"
      ]
     },
     "metadata": {},
     "output_type": "display_data"
    }
   ],
   "source": [
    "genes_by_importances.sort_values(by='importance', ascending=False).plot(use_index=False)\n",
    "plt.show()"
   ]
  },
  {
   "cell_type": "code",
   "execution_count": 308,
   "metadata": {},
   "outputs": [
    {
     "data": {
      "text/html": [
       "<div>\n",
       "<style scoped>\n",
       "    .dataframe tbody tr th:only-of-type {\n",
       "        vertical-align: middle;\n",
       "    }\n",
       "\n",
       "    .dataframe tbody tr th {\n",
       "        vertical-align: top;\n",
       "    }\n",
       "\n",
       "    .dataframe thead th {\n",
       "        text-align: right;\n",
       "    }\n",
       "</style>\n",
       "<table border=\"1\" class=\"dataframe\">\n",
       "  <thead>\n",
       "    <tr style=\"text-align: right;\">\n",
       "      <th></th>\n",
       "      <th>gene</th>\n",
       "      <th>importance</th>\n",
       "    </tr>\n",
       "  </thead>\n",
       "  <tbody>\n",
       "    <tr>\n",
       "      <th>969</th>\n",
       "      <td>Sez6</td>\n",
       "      <td>0.103884</td>\n",
       "    </tr>\n",
       "    <tr>\n",
       "      <th>233</th>\n",
       "      <td>Cst7</td>\n",
       "      <td>0.082352</td>\n",
       "    </tr>\n",
       "    <tr>\n",
       "      <th>1068</th>\n",
       "      <td>Tbx1</td>\n",
       "      <td>0.051042</td>\n",
       "    </tr>\n",
       "    <tr>\n",
       "      <th>514</th>\n",
       "      <td>Lrrc17</td>\n",
       "      <td>0.048030</td>\n",
       "    </tr>\n",
       "    <tr>\n",
       "      <th>814</th>\n",
       "      <td>Rpl12</td>\n",
       "      <td>0.045526</td>\n",
       "    </tr>\n",
       "    <tr>\n",
       "      <th>239</th>\n",
       "      <td>Ctsd</td>\n",
       "      <td>0.042009</td>\n",
       "    </tr>\n",
       "    <tr>\n",
       "      <th>147</th>\n",
       "      <td>Ccl21c.1</td>\n",
       "      <td>0.031494</td>\n",
       "    </tr>\n",
       "    <tr>\n",
       "      <th>1205</th>\n",
       "      <td>mt-Rnr2</td>\n",
       "      <td>0.031416</td>\n",
       "    </tr>\n",
       "    <tr>\n",
       "      <th>659</th>\n",
       "      <td>Olfr912.1</td>\n",
       "      <td>0.029300</td>\n",
       "    </tr>\n",
       "    <tr>\n",
       "      <th>1140</th>\n",
       "      <td>Tyrobp</td>\n",
       "      <td>0.028021</td>\n",
       "    </tr>\n",
       "    <tr>\n",
       "      <th>1191</th>\n",
       "      <td>mt-Atp6</td>\n",
       "      <td>0.023870</td>\n",
       "    </tr>\n",
       "    <tr>\n",
       "      <th>483</th>\n",
       "      <td>Kif15</td>\n",
       "      <td>0.023436</td>\n",
       "    </tr>\n",
       "    <tr>\n",
       "      <th>371</th>\n",
       "      <td>Gfap</td>\n",
       "      <td>0.022266</td>\n",
       "    </tr>\n",
       "    <tr>\n",
       "      <th>1206</th>\n",
       "      <td>mt-Ta</td>\n",
       "      <td>0.021084</td>\n",
       "    </tr>\n",
       "    <tr>\n",
       "      <th>523</th>\n",
       "      <td>Lyz2</td>\n",
       "      <td>0.019726</td>\n",
       "    </tr>\n",
       "    <tr>\n",
       "      <th>1216</th>\n",
       "      <td>mt-Tm</td>\n",
       "      <td>0.018971</td>\n",
       "    </tr>\n",
       "    <tr>\n",
       "      <th>446</th>\n",
       "      <td>Hsh2d</td>\n",
       "      <td>0.018020</td>\n",
       "    </tr>\n",
       "    <tr>\n",
       "      <th>658</th>\n",
       "      <td>Olfr912</td>\n",
       "      <td>0.016937</td>\n",
       "    </tr>\n",
       "    <tr>\n",
       "      <th>1223</th>\n",
       "      <td>mt-Tv</td>\n",
       "      <td>0.015636</td>\n",
       "    </tr>\n",
       "    <tr>\n",
       "      <th>695</th>\n",
       "      <td>Pip5k1a</td>\n",
       "      <td>0.014434</td>\n",
       "    </tr>\n",
       "    <tr>\n",
       "      <th>519</th>\n",
       "      <td>Ly86</td>\n",
       "      <td>0.013931</td>\n",
       "    </tr>\n",
       "    <tr>\n",
       "      <th>150</th>\n",
       "      <td>Ccl6</td>\n",
       "      <td>0.013695</td>\n",
       "    </tr>\n",
       "    <tr>\n",
       "      <th>1115</th>\n",
       "      <td>Trem2</td>\n",
       "      <td>0.012872</td>\n",
       "    </tr>\n",
       "    <tr>\n",
       "      <th>93</th>\n",
       "      <td>B2m</td>\n",
       "      <td>0.012446</td>\n",
       "    </tr>\n",
       "    <tr>\n",
       "      <th>1214</th>\n",
       "      <td>mt-Tl1</td>\n",
       "      <td>0.012127</td>\n",
       "    </tr>\n",
       "    <tr>\n",
       "      <th>165</th>\n",
       "      <td>Cd74</td>\n",
       "      <td>0.011457</td>\n",
       "    </tr>\n",
       "    <tr>\n",
       "      <th>1209</th>\n",
       "      <td>mt-Tf</td>\n",
       "      <td>0.011175</td>\n",
       "    </tr>\n",
       "    <tr>\n",
       "      <th>1204</th>\n",
       "      <td>mt-Rnr1</td>\n",
       "      <td>0.010801</td>\n",
       "    </tr>\n",
       "    <tr>\n",
       "      <th>120</th>\n",
       "      <td>C4b</td>\n",
       "      <td>0.010692</td>\n",
       "    </tr>\n",
       "    <tr>\n",
       "      <th>1141</th>\n",
       "      <td>Uba52</td>\n",
       "      <td>0.010447</td>\n",
       "    </tr>\n",
       "    <tr>\n",
       "      <th>1215</th>\n",
       "      <td>mt-Tl2</td>\n",
       "      <td>0.009053</td>\n",
       "    </tr>\n",
       "    <tr>\n",
       "      <th>1207</th>\n",
       "      <td>mt-Tc</td>\n",
       "      <td>0.007631</td>\n",
       "    </tr>\n",
       "    <tr>\n",
       "      <th>645</th>\n",
       "      <td>Nsl1</td>\n",
       "      <td>0.006407</td>\n",
       "    </tr>\n",
       "    <tr>\n",
       "      <th>503</th>\n",
       "      <td>Lars2</td>\n",
       "      <td>0.006384</td>\n",
       "    </tr>\n",
       "    <tr>\n",
       "      <th>1132</th>\n",
       "      <td>Ttr</td>\n",
       "      <td>0.006251</td>\n",
       "    </tr>\n",
       "    <tr>\n",
       "      <th>961</th>\n",
       "      <td>Sept5</td>\n",
       "      <td>0.006134</td>\n",
       "    </tr>\n",
       "    <tr>\n",
       "      <th>194</th>\n",
       "      <td>Clec7a</td>\n",
       "      <td>0.006075</td>\n",
       "    </tr>\n",
       "    <tr>\n",
       "      <th>908</th>\n",
       "      <td>Rps23</td>\n",
       "      <td>0.005799</td>\n",
       "    </tr>\n",
       "    <tr>\n",
       "      <th>232</th>\n",
       "      <td>Cst3</td>\n",
       "      <td>0.005184</td>\n",
       "    </tr>\n",
       "    <tr>\n",
       "      <th>1213</th>\n",
       "      <td>mt-Tk</td>\n",
       "      <td>0.004955</td>\n",
       "    </tr>\n",
       "    <tr>\n",
       "      <th>1049</th>\n",
       "      <td>Supt7l</td>\n",
       "      <td>0.004818</td>\n",
       "    </tr>\n",
       "    <tr>\n",
       "      <th>367</th>\n",
       "      <td>Gcn1l1</td>\n",
       "      <td>0.004804</td>\n",
       "    </tr>\n",
       "    <tr>\n",
       "      <th>1194</th>\n",
       "      <td>mt-Co2</td>\n",
       "      <td>0.004604</td>\n",
       "    </tr>\n",
       "    <tr>\n",
       "      <th>1195</th>\n",
       "      <td>mt-Co3</td>\n",
       "      <td>0.004302</td>\n",
       "    </tr>\n",
       "    <tr>\n",
       "      <th>965</th>\n",
       "      <td>Serpina3n</td>\n",
       "      <td>0.004289</td>\n",
       "    </tr>\n",
       "    <tr>\n",
       "      <th>243</th>\n",
       "      <td>Ctsz</td>\n",
       "      <td>0.004286</td>\n",
       "    </tr>\n",
       "    <tr>\n",
       "      <th>113</th>\n",
       "      <td>C1qa</td>\n",
       "      <td>0.004192</td>\n",
       "    </tr>\n",
       "    <tr>\n",
       "      <th>657</th>\n",
       "      <td>Olfr685</td>\n",
       "      <td>0.004162</td>\n",
       "    </tr>\n",
       "    <tr>\n",
       "      <th>400</th>\n",
       "      <td>Gpr55</td>\n",
       "      <td>0.004009</td>\n",
       "    </tr>\n",
       "    <tr>\n",
       "      <th>800</th>\n",
       "      <td>Rimbp3</td>\n",
       "      <td>0.003601</td>\n",
       "    </tr>\n",
       "  </tbody>\n",
       "</table>\n",
       "</div>"
      ],
      "text/plain": [
       "           gene  importance\n",
       "969        Sez6    0.103884\n",
       "233        Cst7    0.082352\n",
       "1068       Tbx1    0.051042\n",
       "514      Lrrc17    0.048030\n",
       "814       Rpl12    0.045526\n",
       "239        Ctsd    0.042009\n",
       "147    Ccl21c.1    0.031494\n",
       "1205    mt-Rnr2    0.031416\n",
       "659   Olfr912.1    0.029300\n",
       "1140     Tyrobp    0.028021\n",
       "1191    mt-Atp6    0.023870\n",
       "483       Kif15    0.023436\n",
       "371        Gfap    0.022266\n",
       "1206      mt-Ta    0.021084\n",
       "523        Lyz2    0.019726\n",
       "1216      mt-Tm    0.018971\n",
       "446       Hsh2d    0.018020\n",
       "658     Olfr912    0.016937\n",
       "1223      mt-Tv    0.015636\n",
       "695     Pip5k1a    0.014434\n",
       "519        Ly86    0.013931\n",
       "150        Ccl6    0.013695\n",
       "1115      Trem2    0.012872\n",
       "93          B2m    0.012446\n",
       "1214     mt-Tl1    0.012127\n",
       "165        Cd74    0.011457\n",
       "1209      mt-Tf    0.011175\n",
       "1204    mt-Rnr1    0.010801\n",
       "120         C4b    0.010692\n",
       "1141      Uba52    0.010447\n",
       "1215     mt-Tl2    0.009053\n",
       "1207      mt-Tc    0.007631\n",
       "645        Nsl1    0.006407\n",
       "503       Lars2    0.006384\n",
       "1132        Ttr    0.006251\n",
       "961       Sept5    0.006134\n",
       "194      Clec7a    0.006075\n",
       "908       Rps23    0.005799\n",
       "232        Cst3    0.005184\n",
       "1213      mt-Tk    0.004955\n",
       "1049     Supt7l    0.004818\n",
       "367      Gcn1l1    0.004804\n",
       "1194     mt-Co2    0.004604\n",
       "1195     mt-Co3    0.004302\n",
       "965   Serpina3n    0.004289\n",
       "243        Ctsz    0.004286\n",
       "113        C1qa    0.004192\n",
       "657     Olfr685    0.004162\n",
       "400       Gpr55    0.004009\n",
       "800      Rimbp3    0.003601"
      ]
     },
     "execution_count": 308,
     "metadata": {},
     "output_type": "execute_result"
    }
   ],
   "source": [
    "genes_by_importances.sort_values(by='importance', ascending=False).head(50)"
   ]
  },
  {
   "cell_type": "code",
   "execution_count": null,
   "metadata": {},
   "outputs": [],
   "source": [
    "len(y_test)"
   ]
  },
  {
   "cell_type": "code",
   "execution_count": null,
   "metadata": {},
   "outputs": [],
   "source": [
    "predicted_probs[:, 0]"
   ]
  },
  {
   "cell_type": "code",
   "execution_count": 309,
   "metadata": {},
   "outputs": [],
   "source": [
    "predicted_labels = sgbm.predict(X_test)\n",
    "predicted_probs = sgbm.predict_proba(X_test)\n",
    "\n",
    "predicted_df = pd.DataFrame({'predicted': predicted_labels, \n",
    "                             'actual': y_test,\n",
    "                             'KI_prob': predicted_probs[:, 0],\n",
    "                             'WT_prob': predicted_probs[:, 1]})"
   ]
  },
  {
   "cell_type": "code",
   "execution_count": 310,
   "metadata": {},
   "outputs": [],
   "source": [
    "predicted_correct = predicted_df[predicted_df['actual'] == predicted_df['predicted']]\n",
    "predicted_wrong = predicted_df[predicted_df['actual'] != predicted_df['predicted']]"
   ]
  },
  {
   "cell_type": "code",
   "execution_count": 418,
   "metadata": {},
   "outputs": [
    {
     "data": {
      "text/plain": [
       "KI_prob      0.489945\n",
       "WT_prob      0.510055\n",
       "actual             KI\n",
       "predicted          WT\n",
       "Name: 110, dtype: object"
      ]
     },
     "execution_count": 418,
     "metadata": {},
     "output_type": "execute_result"
    }
   ],
   "source": [
    "predicted_wrong.loc[110]"
   ]
  },
  {
   "cell_type": "code",
   "execution_count": 422,
   "metadata": {},
   "outputs": [
    {
     "data": {
      "text/plain": [
       "'KI'"
      ]
     },
     "execution_count": 422,
     "metadata": {},
     "output_type": "execute_result"
    }
   ],
   "source": [
    "y_train.loc[227]"
   ]
  },
  {
   "cell_type": "markdown",
   "metadata": {},
   "source": [
    "* KI is more often misclassifies as WT, which is expected"
   ]
  },
  {
   "cell_type": "code",
   "execution_count": 425,
   "metadata": {},
   "outputs": [
    {
     "data": {
      "text/plain": [
       "array([[0.72364738, 0.27635262]])"
      ]
     },
     "execution_count": 425,
     "metadata": {},
     "output_type": "execute_result"
    }
   ],
   "source": [
    "sgbm.predict_proba(X_train.loc[[227]])"
   ]
  },
  {
   "cell_type": "code",
   "execution_count": 426,
   "metadata": {},
   "outputs": [
    {
     "data": {
      "text/plain": [
       "AA474408       2.982974\n",
       "AC149090.1     8.032176\n",
       "AU020206       2.982974\n",
       "Aatk           5.874788\n",
       "Abca2          2.982974\n",
       "Abhd4          7.323970\n",
       "Aco2           8.032176\n",
       "Acot13         2.982974\n",
       "Acsbg1         7.323970\n",
       "Actb           9.999121\n",
       "Actg1          8.693815\n",
       "Actr1a         8.287930\n",
       "Acyp2          2.982974\n",
       "Adcyap1r1      2.982974\n",
       "Adgrl1         7.721100\n",
       "Adprh          2.982974\n",
       "Aes            6.774170\n",
       "Agap2          7.323970\n",
       "Akap7          5.874788\n",
       "Akr7a5         2.982974\n",
       "Aldh1a1        2.982974\n",
       "Aldh9a1        2.982974\n",
       "Aldoa         10.531711\n",
       "Aldoc          9.848356\n",
       "Anln           2.982974\n",
       "Anxa3          2.982974\n",
       "Anxa5          2.982974\n",
       "Ap2m1          7.721100\n",
       "Apbb1          7.323970\n",
       "Apex1          7.323970\n",
       "                ...    \n",
       "mt-Cytb       14.194090\n",
       "mt-Nd1        13.325327\n",
       "mt-Nd2        12.857366\n",
       "mt-Nd3        12.354684\n",
       "mt-Nd4        14.067548\n",
       "mt-Nd4l        9.010224\n",
       "mt-Nd5        11.398157\n",
       "mt-Nd6         8.693815\n",
       "mt-Rnr1       14.411361\n",
       "mt-Rnr2       14.965569\n",
       "mt-Ta          8.287930\n",
       "mt-Tc          8.505100\n",
       "mt-Te          8.287930\n",
       "mt-Tf          9.383622\n",
       "mt-Tg          2.982974\n",
       "mt-Th          8.032176\n",
       "mt-Ti          8.287930\n",
       "mt-Tk          2.982974\n",
       "mt-Tl1         8.860676\n",
       "mt-Tl2         9.145715\n",
       "mt-Tm         10.260297\n",
       "mt-Tn          9.587794\n",
       "mt-Tp          8.860676\n",
       "mt-Tq          8.287930\n",
       "mt-Tr          6.774170\n",
       "mt-Ts2         6.774170\n",
       "mt-Tt          7.721100\n",
       "mt-Tv          9.999121\n",
       "mt-Tw          8.860676\n",
       "n-R5-8s1       2.982974\n",
       "Name: 227, Length: 1226, dtype: float64"
      ]
     },
     "execution_count": 426,
     "metadata": {},
     "output_type": "execute_result"
    }
   ],
   "source": [
    "X_train.loc[227]"
   ]
  },
  {
   "cell_type": "markdown",
   "metadata": {},
   "source": [
    "---\n",
    "\n",
    "# LIME explanations\n",
    "\n",
    "* See: https://marcotcr.github.io/lime/tutorials/Tutorial%20-%20continuous%20and%20categorical%20features.html"
   ]
  },
  {
   "cell_type": "code",
   "execution_count": 335,
   "metadata": {},
   "outputs": [],
   "source": [
    "import lime \n",
    "import sklearn.datasets\n",
    "from lime.lime_tabular import LimeTabularExplainer"
   ]
  },
  {
   "cell_type": "code",
   "execution_count": 336,
   "metadata": {},
   "outputs": [],
   "source": [
    "iris = sklearn.datasets.load_iris()"
   ]
  },
  {
   "cell_type": "code",
   "execution_count": 437,
   "metadata": {},
   "outputs": [
    {
     "name": "stdout",
     "output_type": "stream",
     "text": [
      "CPU times: user 11 µs, sys: 0 ns, total: 11 µs\n",
      "Wall time: 21 µs\n"
     ]
    }
   ],
   "source": [
    "%time\n",
    "explainer = LimeTabularExplainer(X_train, \n",
    "                                 feature_names=GT_features, \n",
    "                                 class_names=sgbm.classes_, \n",
    "                                 discretize_continuous=False, \n",
    "                                 random_state=42)"
   ]
  },
  {
   "cell_type": "code",
   "execution_count": 432,
   "metadata": {},
   "outputs": [],
   "source": [
    "exp_68 = explainer.explain_instance(X_test.loc[68], sgbm.predict_proba, num_features=20)\n",
    "exp_110 = explainer.explain_instance(X_test.loc[110], sgbm.predict_proba, num_features=20)"
   ]
  },
  {
   "cell_type": "code",
   "execution_count": 433,
   "metadata": {},
   "outputs": [],
   "source": [
    "exp_227 = explainer.explain_instance(X_train.loc[227], sgbm.predict_proba, num_features=20)"
   ]
  },
  {
   "cell_type": "code",
   "execution_count": 438,
   "metadata": {},
   "outputs": [],
   "source": [
    "with open(\"exp_68.html\", \"w\") as html_file:\n",
    "    html_file.write(exp_68.as_html(show_predicted_value=True))"
   ]
  },
  {
   "cell_type": "code",
   "execution_count": 439,
   "metadata": {},
   "outputs": [],
   "source": [
    "with open(\"exp_110.html\", \"w\") as html_file:\n",
    "    html_file.write(exp_110.as_html())"
   ]
  },
  {
   "cell_type": "code",
   "execution_count": 440,
   "metadata": {},
   "outputs": [],
   "source": [
    "with open(\"exp_227.html\", \"w\") as html_file:\n",
    "    html_file.write(exp_227.as_html())"
   ]
  },
  {
   "cell_type": "markdown",
   "metadata": {},
   "source": [
    "---\n",
    "\n",
    "# Anchor explanations"
   ]
  },
  {
   "cell_type": "code",
   "execution_count": null,
   "metadata": {},
   "outputs": [],
   "source": []
  }
 ],
 "metadata": {
  "kernelspec": {
   "display_name": "Python [default]",
   "language": "python",
   "name": "python3"
  },
  "language_info": {
   "codemirror_mode": {
    "name": "ipython",
    "version": 3
   },
   "file_extension": ".py",
   "mimetype": "text/x-python",
   "name": "python",
   "nbconvert_exporter": "python",
   "pygments_lexer": "ipython3",
   "version": "3.5.5"
  }
 },
 "nbformat": 4,
 "nbformat_minor": 2
}
