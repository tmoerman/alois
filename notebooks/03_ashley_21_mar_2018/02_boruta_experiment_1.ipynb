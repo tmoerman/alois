{
 "cells": [
  {
   "cell_type": "markdown",
   "metadata": {},
   "source": [
    "# 02 - Boruta experiment 1\n",
    "\n",
    "**Objectives:**\n",
    "* test the **boruta** feature selection on the logcpm expression matrix\n",
    "* `pip install boruta`\n",
    "* see: https://github.com/scikit-learn-contrib/boruta_py\n",
    "* paper: https://www.jstatsoft.org/article/view/v036i11"
   ]
  },
  {
   "cell_type": "code",
   "execution_count": 70,
   "metadata": {},
   "outputs": [],
   "source": [
    "import pandas as pd\n",
    "import numpy as np\n",
    "import os\n",
    "import pickle\n",
    "\n",
    "import matplotlib as mpl\n",
    "import matplotlib.pyplot as plt\n",
    "import seaborn as sns\n",
    "\n",
    "from boruta import BorutaPy\n",
    "from sklearn.ensemble import RandomForestClassifier, RandomForestRegressor, GradientBoostingRegressor\n",
    "\n",
    "import rpy2.robjects as robjects\n",
    "from rpy2.robjects import pandas2ri\n",
    "pandas2ri.activate()\n",
    "\n",
    "sns.set(style=\"whitegrid\")"
   ]
  },
  {
   "cell_type": "markdown",
   "metadata": {},
   "source": [
    "---\n",
    "\n",
    "### Load the data"
   ]
  },
  {
   "cell_type": "code",
   "execution_count": 17,
   "metadata": {},
   "outputs": [],
   "source": [
    "wd = '/media/tmo/data/work/datasets/02_ST'\n",
    "\n",
    "logcpm_path = wd + '/ashley_21.03.2018/logcpm_merge_20180212.pickle'\n",
    "meta_path = wd + '/meta/meta.parquet'"
   ]
  },
  {
   "cell_type": "code",
   "execution_count": 19,
   "metadata": {},
   "outputs": [],
   "source": [
    "meta_df = pd.read_parquet(meta_path)"
   ]
  },
  {
   "cell_type": "code",
   "execution_count": 9,
   "metadata": {},
   "outputs": [],
   "source": [
    "%%time\n",
    "logcpm_df = pickle.load(open(logcpm_path, \"rb\"))"
   ]
  },
  {
   "cell_type": "code",
   "execution_count": 11,
   "metadata": {},
   "outputs": [],
   "source": [
    "logcpm_df.index.name = 'spot_UID'"
   ]
  },
  {
   "cell_type": "code",
   "execution_count": 12,
   "metadata": {},
   "outputs": [],
   "source": [
    "logcpm_df.reset_index(inplace=True)"
   ]
  },
  {
   "cell_type": "code",
   "execution_count": 14,
   "metadata": {},
   "outputs": [],
   "source": [
    "def add_slide_ID(df):\n",
    "    df['slide_ID'] = df['spot_UID'].apply(lambda x: str(x).split('__')[0])\n",
    "    \n",
    "    return df"
   ]
  },
  {
   "cell_type": "code",
   "execution_count": 15,
   "metadata": {},
   "outputs": [],
   "source": [
    "logcpm_df = add_slide_ID(logcpm_df)"
   ]
  },
  {
   "cell_type": "code",
   "execution_count": 16,
   "metadata": {},
   "outputs": [
    {
     "data": {
      "text/html": [
       "<div>\n",
       "<style scoped>\n",
       "    .dataframe tbody tr th:only-of-type {\n",
       "        vertical-align: middle;\n",
       "    }\n",
       "\n",
       "    .dataframe tbody tr th {\n",
       "        vertical-align: top;\n",
       "    }\n",
       "\n",
       "    .dataframe thead th {\n",
       "        text-align: right;\n",
       "    }\n",
       "</style>\n",
       "<table border=\"1\" class=\"dataframe\">\n",
       "  <thead>\n",
       "    <tr style=\"text-align: right;\">\n",
       "      <th></th>\n",
       "      <th>spot_UID</th>\n",
       "      <th>-343C11.2</th>\n",
       "      <th>00R_AC107638.2</th>\n",
       "      <th>0610005C13Rik</th>\n",
       "      <th>0610006L08Rik</th>\n",
       "      <th>0610007P14Rik</th>\n",
       "      <th>0610009B22Rik</th>\n",
       "      <th>0610009E02Rik</th>\n",
       "      <th>0610009L18Rik</th>\n",
       "      <th>0610009O20Rik</th>\n",
       "      <th>...</th>\n",
       "      <th>n-R5s93</th>\n",
       "      <th>n-R5s94</th>\n",
       "      <th>n-R5s95</th>\n",
       "      <th>n-R5s96</th>\n",
       "      <th>n-R5s97</th>\n",
       "      <th>n-R5s98</th>\n",
       "      <th>n-TSaga9</th>\n",
       "      <th>n-TStga1</th>\n",
       "      <th>sampleID</th>\n",
       "      <th>slide_ID</th>\n",
       "    </tr>\n",
       "  </thead>\n",
       "  <tbody>\n",
       "    <tr>\n",
       "      <th>0</th>\n",
       "      <td>N05_C2__20_6</td>\n",
       "      <td>2.982974</td>\n",
       "      <td>2.982974</td>\n",
       "      <td>2.982974</td>\n",
       "      <td>2.982974</td>\n",
       "      <td>2.982974</td>\n",
       "      <td>2.982974</td>\n",
       "      <td>4.984943</td>\n",
       "      <td>2.982974</td>\n",
       "      <td>2.982974</td>\n",
       "      <td>...</td>\n",
       "      <td>2.982974</td>\n",
       "      <td>2.982974</td>\n",
       "      <td>2.982974</td>\n",
       "      <td>2.982974</td>\n",
       "      <td>2.982974</td>\n",
       "      <td>2.982974</td>\n",
       "      <td>2.982974</td>\n",
       "      <td>2.982974</td>\n",
       "      <td>N05_C2</td>\n",
       "      <td>N05_C2</td>\n",
       "    </tr>\n",
       "    <tr>\n",
       "      <th>1</th>\n",
       "      <td>N05_C2__17_6</td>\n",
       "      <td>2.982974</td>\n",
       "      <td>2.982974</td>\n",
       "      <td>2.982974</td>\n",
       "      <td>2.982974</td>\n",
       "      <td>6.827059</td>\n",
       "      <td>5.924174</td>\n",
       "      <td>2.982974</td>\n",
       "      <td>2.982974</td>\n",
       "      <td>2.982974</td>\n",
       "      <td>...</td>\n",
       "      <td>2.982974</td>\n",
       "      <td>2.982974</td>\n",
       "      <td>2.982974</td>\n",
       "      <td>2.982974</td>\n",
       "      <td>2.982974</td>\n",
       "      <td>2.982974</td>\n",
       "      <td>2.982974</td>\n",
       "      <td>2.982974</td>\n",
       "      <td>N05_C2</td>\n",
       "      <td>N05_C2</td>\n",
       "    </tr>\n",
       "    <tr>\n",
       "      <th>2</th>\n",
       "      <td>N05_C2__16_6</td>\n",
       "      <td>2.982974</td>\n",
       "      <td>2.982974</td>\n",
       "      <td>2.982974</td>\n",
       "      <td>2.982974</td>\n",
       "      <td>2.982974</td>\n",
       "      <td>5.609164</td>\n",
       "      <td>2.982974</td>\n",
       "      <td>2.982974</td>\n",
       "      <td>5.609164</td>\n",
       "      <td>...</td>\n",
       "      <td>2.982974</td>\n",
       "      <td>2.982974</td>\n",
       "      <td>2.982974</td>\n",
       "      <td>2.982974</td>\n",
       "      <td>2.982974</td>\n",
       "      <td>2.982974</td>\n",
       "      <td>2.982974</td>\n",
       "      <td>2.982974</td>\n",
       "      <td>N05_C2</td>\n",
       "      <td>N05_C2</td>\n",
       "    </tr>\n",
       "    <tr>\n",
       "      <th>3</th>\n",
       "      <td>N05_C2__19_6</td>\n",
       "      <td>2.982974</td>\n",
       "      <td>2.982974</td>\n",
       "      <td>2.982974</td>\n",
       "      <td>2.982974</td>\n",
       "      <td>7.661385</td>\n",
       "      <td>2.982974</td>\n",
       "      <td>2.982974</td>\n",
       "      <td>2.982974</td>\n",
       "      <td>5.157746</td>\n",
       "      <td>...</td>\n",
       "      <td>2.982974</td>\n",
       "      <td>2.982974</td>\n",
       "      <td>2.982974</td>\n",
       "      <td>2.982974</td>\n",
       "      <td>2.982974</td>\n",
       "      <td>2.982974</td>\n",
       "      <td>2.982974</td>\n",
       "      <td>2.982974</td>\n",
       "      <td>N05_C2</td>\n",
       "      <td>N05_C2</td>\n",
       "    </tr>\n",
       "    <tr>\n",
       "      <th>4</th>\n",
       "      <td>N05_C2__18_6</td>\n",
       "      <td>2.982974</td>\n",
       "      <td>2.982974</td>\n",
       "      <td>2.982974</td>\n",
       "      <td>2.982974</td>\n",
       "      <td>6.738947</td>\n",
       "      <td>6.738947</td>\n",
       "      <td>2.982974</td>\n",
       "      <td>2.982974</td>\n",
       "      <td>2.982974</td>\n",
       "      <td>...</td>\n",
       "      <td>2.982974</td>\n",
       "      <td>2.982974</td>\n",
       "      <td>2.982974</td>\n",
       "      <td>2.982974</td>\n",
       "      <td>2.982974</td>\n",
       "      <td>2.982974</td>\n",
       "      <td>2.982974</td>\n",
       "      <td>2.982974</td>\n",
       "      <td>N05_C2</td>\n",
       "      <td>N05_C2</td>\n",
       "    </tr>\n",
       "  </tbody>\n",
       "</table>\n",
       "<p>5 rows × 46457 columns</p>\n",
       "</div>"
      ],
      "text/plain": [
       "       spot_UID  -343C11.2  00R_AC107638.2  0610005C13Rik  0610006L08Rik  \\\n",
       "0  N05_C2__20_6   2.982974        2.982974       2.982974       2.982974   \n",
       "1  N05_C2__17_6   2.982974        2.982974       2.982974       2.982974   \n",
       "2  N05_C2__16_6   2.982974        2.982974       2.982974       2.982974   \n",
       "3  N05_C2__19_6   2.982974        2.982974       2.982974       2.982974   \n",
       "4  N05_C2__18_6   2.982974        2.982974       2.982974       2.982974   \n",
       "\n",
       "   0610007P14Rik  0610009B22Rik  0610009E02Rik  0610009L18Rik  0610009O20Rik  \\\n",
       "0       2.982974       2.982974       4.984943       2.982974       2.982974   \n",
       "1       6.827059       5.924174       2.982974       2.982974       2.982974   \n",
       "2       2.982974       5.609164       2.982974       2.982974       5.609164   \n",
       "3       7.661385       2.982974       2.982974       2.982974       5.157746   \n",
       "4       6.738947       6.738947       2.982974       2.982974       2.982974   \n",
       "\n",
       "     ...      n-R5s93   n-R5s94   n-R5s95   n-R5s96   n-R5s97   n-R5s98  \\\n",
       "0    ...     2.982974  2.982974  2.982974  2.982974  2.982974  2.982974   \n",
       "1    ...     2.982974  2.982974  2.982974  2.982974  2.982974  2.982974   \n",
       "2    ...     2.982974  2.982974  2.982974  2.982974  2.982974  2.982974   \n",
       "3    ...     2.982974  2.982974  2.982974  2.982974  2.982974  2.982974   \n",
       "4    ...     2.982974  2.982974  2.982974  2.982974  2.982974  2.982974   \n",
       "\n",
       "   n-TSaga9  n-TStga1  sampleID  slide_ID  \n",
       "0  2.982974  2.982974    N05_C2    N05_C2  \n",
       "1  2.982974  2.982974    N05_C2    N05_C2  \n",
       "2  2.982974  2.982974    N05_C2    N05_C2  \n",
       "3  2.982974  2.982974    N05_C2    N05_C2  \n",
       "4  2.982974  2.982974    N05_C2    N05_C2  \n",
       "\n",
       "[5 rows x 46457 columns]"
      ]
     },
     "execution_count": 16,
     "metadata": {},
     "output_type": "execute_result"
    }
   ],
   "source": [
    "logcpm_df.head()"
   ]
  },
  {
   "cell_type": "code",
   "execution_count": 20,
   "metadata": {},
   "outputs": [],
   "source": [
    "st_df = logcpm_df.merge(meta_df, how='inner', on='spot_UID')"
   ]
  },
  {
   "cell_type": "code",
   "execution_count": 21,
   "metadata": {},
   "outputs": [
    {
     "data": {
      "text/html": [
       "<div>\n",
       "<style scoped>\n",
       "    .dataframe tbody tr th:only-of-type {\n",
       "        vertical-align: middle;\n",
       "    }\n",
       "\n",
       "    .dataframe tbody tr th {\n",
       "        vertical-align: top;\n",
       "    }\n",
       "\n",
       "    .dataframe thead th {\n",
       "        text-align: right;\n",
       "    }\n",
       "</style>\n",
       "<table border=\"1\" class=\"dataframe\">\n",
       "  <thead>\n",
       "    <tr style=\"text-align: right;\">\n",
       "      <th></th>\n",
       "      <th>spot_UID</th>\n",
       "      <th>-343C11.2</th>\n",
       "      <th>00R_AC107638.2</th>\n",
       "      <th>0610005C13Rik</th>\n",
       "      <th>0610006L08Rik</th>\n",
       "      <th>0610007P14Rik</th>\n",
       "      <th>0610009B22Rik</th>\n",
       "      <th>0610009E02Rik</th>\n",
       "      <th>0610009L18Rik</th>\n",
       "      <th>0610009O20Rik</th>\n",
       "      <th>...</th>\n",
       "      <th>endothelial</th>\n",
       "      <th>interneuron</th>\n",
       "      <th>slide_ID_y</th>\n",
       "      <th>region</th>\n",
       "      <th>sampleID_y</th>\n",
       "      <th>GT</th>\n",
       "      <th>age_days</th>\n",
       "      <th>age_months</th>\n",
       "      <th>age</th>\n",
       "      <th>age_GT</th>\n",
       "    </tr>\n",
       "  </thead>\n",
       "  <tbody>\n",
       "    <tr>\n",
       "      <th>0</th>\n",
       "      <td>N05_C2__20_6</td>\n",
       "      <td>2.982974</td>\n",
       "      <td>2.982974</td>\n",
       "      <td>2.982974</td>\n",
       "      <td>2.982974</td>\n",
       "      <td>2.982974</td>\n",
       "      <td>2.982974</td>\n",
       "      <td>4.984943</td>\n",
       "      <td>2.982974</td>\n",
       "      <td>2.982974</td>\n",
       "      <td>...</td>\n",
       "      <td>0.095625</td>\n",
       "      <td>0.106595</td>\n",
       "      <td>N05_C2</td>\n",
       "      <td>AT_OLF</td>\n",
       "      <td>N05_C2</td>\n",
       "      <td>KI</td>\n",
       "      <td>558</td>\n",
       "      <td>18</td>\n",
       "      <td>old</td>\n",
       "      <td>old_KI</td>\n",
       "    </tr>\n",
       "    <tr>\n",
       "      <th>1</th>\n",
       "      <td>N05_C2__17_6</td>\n",
       "      <td>2.982974</td>\n",
       "      <td>2.982974</td>\n",
       "      <td>2.982974</td>\n",
       "      <td>2.982974</td>\n",
       "      <td>6.827059</td>\n",
       "      <td>5.924174</td>\n",
       "      <td>2.982974</td>\n",
       "      <td>2.982974</td>\n",
       "      <td>2.982974</td>\n",
       "      <td>...</td>\n",
       "      <td>-0.014931</td>\n",
       "      <td>0.049969</td>\n",
       "      <td>N05_C2</td>\n",
       "      <td>AT_OLF</td>\n",
       "      <td>N05_C2</td>\n",
       "      <td>KI</td>\n",
       "      <td>558</td>\n",
       "      <td>18</td>\n",
       "      <td>old</td>\n",
       "      <td>old_KI</td>\n",
       "    </tr>\n",
       "    <tr>\n",
       "      <th>2</th>\n",
       "      <td>N05_C2__16_6</td>\n",
       "      <td>2.982974</td>\n",
       "      <td>2.982974</td>\n",
       "      <td>2.982974</td>\n",
       "      <td>2.982974</td>\n",
       "      <td>2.982974</td>\n",
       "      <td>5.609164</td>\n",
       "      <td>2.982974</td>\n",
       "      <td>2.982974</td>\n",
       "      <td>5.609164</td>\n",
       "      <td>...</td>\n",
       "      <td>-0.049142</td>\n",
       "      <td>-0.042531</td>\n",
       "      <td>N05_C2</td>\n",
       "      <td>AT_OLF</td>\n",
       "      <td>N05_C2</td>\n",
       "      <td>KI</td>\n",
       "      <td>558</td>\n",
       "      <td>18</td>\n",
       "      <td>old</td>\n",
       "      <td>old_KI</td>\n",
       "    </tr>\n",
       "    <tr>\n",
       "      <th>3</th>\n",
       "      <td>N05_C2__19_6</td>\n",
       "      <td>2.982974</td>\n",
       "      <td>2.982974</td>\n",
       "      <td>2.982974</td>\n",
       "      <td>2.982974</td>\n",
       "      <td>7.661385</td>\n",
       "      <td>2.982974</td>\n",
       "      <td>2.982974</td>\n",
       "      <td>2.982974</td>\n",
       "      <td>5.157746</td>\n",
       "      <td>...</td>\n",
       "      <td>0.057104</td>\n",
       "      <td>0.143494</td>\n",
       "      <td>N05_C2</td>\n",
       "      <td>AT_OLF</td>\n",
       "      <td>N05_C2</td>\n",
       "      <td>KI</td>\n",
       "      <td>558</td>\n",
       "      <td>18</td>\n",
       "      <td>old</td>\n",
       "      <td>old_KI</td>\n",
       "    </tr>\n",
       "    <tr>\n",
       "      <th>4</th>\n",
       "      <td>N05_C2__18_6</td>\n",
       "      <td>2.982974</td>\n",
       "      <td>2.982974</td>\n",
       "      <td>2.982974</td>\n",
       "      <td>2.982974</td>\n",
       "      <td>6.738947</td>\n",
       "      <td>6.738947</td>\n",
       "      <td>2.982974</td>\n",
       "      <td>2.982974</td>\n",
       "      <td>2.982974</td>\n",
       "      <td>...</td>\n",
       "      <td>0.043532</td>\n",
       "      <td>0.098493</td>\n",
       "      <td>N05_C2</td>\n",
       "      <td>AT_OLF</td>\n",
       "      <td>N05_C2</td>\n",
       "      <td>KI</td>\n",
       "      <td>558</td>\n",
       "      <td>18</td>\n",
       "      <td>old</td>\n",
       "      <td>old_KI</td>\n",
       "    </tr>\n",
       "  </tbody>\n",
       "</table>\n",
       "<p>5 rows × 46764 columns</p>\n",
       "</div>"
      ],
      "text/plain": [
       "       spot_UID  -343C11.2  00R_AC107638.2  0610005C13Rik  0610006L08Rik  \\\n",
       "0  N05_C2__20_6   2.982974        2.982974       2.982974       2.982974   \n",
       "1  N05_C2__17_6   2.982974        2.982974       2.982974       2.982974   \n",
       "2  N05_C2__16_6   2.982974        2.982974       2.982974       2.982974   \n",
       "3  N05_C2__19_6   2.982974        2.982974       2.982974       2.982974   \n",
       "4  N05_C2__18_6   2.982974        2.982974       2.982974       2.982974   \n",
       "\n",
       "   0610007P14Rik  0610009B22Rik  0610009E02Rik  0610009L18Rik  0610009O20Rik  \\\n",
       "0       2.982974       2.982974       4.984943       2.982974       2.982974   \n",
       "1       6.827059       5.924174       2.982974       2.982974       2.982974   \n",
       "2       2.982974       5.609164       2.982974       2.982974       5.609164   \n",
       "3       7.661385       2.982974       2.982974       2.982974       5.157746   \n",
       "4       6.738947       6.738947       2.982974       2.982974       2.982974   \n",
       "\n",
       "    ...    endothelial  interneuron  slide_ID_y  region  sampleID_y  GT  \\\n",
       "0   ...       0.095625     0.106595      N05_C2  AT_OLF      N05_C2  KI   \n",
       "1   ...      -0.014931     0.049969      N05_C2  AT_OLF      N05_C2  KI   \n",
       "2   ...      -0.049142    -0.042531      N05_C2  AT_OLF      N05_C2  KI   \n",
       "3   ...       0.057104     0.143494      N05_C2  AT_OLF      N05_C2  KI   \n",
       "4   ...       0.043532     0.098493      N05_C2  AT_OLF      N05_C2  KI   \n",
       "\n",
       "   age_days  age_months  age  age_GT  \n",
       "0       558          18  old  old_KI  \n",
       "1       558          18  old  old_KI  \n",
       "2       558          18  old  old_KI  \n",
       "3       558          18  old  old_KI  \n",
       "4       558          18  old  old_KI  \n",
       "\n",
       "[5 rows x 46764 columns]"
      ]
     },
     "execution_count": 21,
     "metadata": {},
     "output_type": "execute_result"
    }
   ],
   "source": [
    "st_df.head()"
   ]
  },
  {
   "cell_type": "code",
   "execution_count": 22,
   "metadata": {},
   "outputs": [],
   "source": [
    "n_genes = 46454\n",
    "gene_columns = st_df.columns[1:n_genes+1]"
   ]
  },
  {
   "cell_type": "code",
   "execution_count": 25,
   "metadata": {},
   "outputs": [],
   "source": [
    "expression_df = st_df[gene_columns]"
   ]
  },
  {
   "cell_type": "code",
   "execution_count": 33,
   "metadata": {},
   "outputs": [],
   "source": [
    "AB1_std_dev_yen = st_df[['AB1_StdDev_Yen']]"
   ]
  },
  {
   "cell_type": "markdown",
   "metadata": {},
   "source": [
    "--- \n",
    "\n",
    "### **Boruta experiment 1**"
   ]
  },
  {
   "cell_type": "code",
   "execution_count": 27,
   "metadata": {},
   "outputs": [],
   "source": [
    "rf = RandomForestRegressor(n_jobs=-1, n_estimators=1000, max_features='sqrt', max_depth=5)"
   ]
  },
  {
   "cell_type": "code",
   "execution_count": 65,
   "metadata": {},
   "outputs": [],
   "source": [
    "def do_boruta(estimator, verbose=2, seed=42):\n",
    "    feat_selector = BorutaPy(estimator=estimator, verbose=verbose, random_state=seed)\n",
    "    \n",
    "    X = expression_df.as_matrix()\n",
    "    y = AB1_std_dev_yen.values.ravel()\n",
    "    feat_selector.fit(X, y)\n",
    "    \n",
    "    selected_columns = feat_selector.support_\n",
    "    return gene_columns[selected_columns]    "
   ]
  },
  {
   "cell_type": "code",
   "execution_count": 28,
   "metadata": {},
   "outputs": [],
   "source": [
    "feat_selector = BorutaPy(estimator=rf, verbose=2, random_state=42)"
   ]
  },
  {
   "cell_type": "code",
   "execution_count": null,
   "metadata": {},
   "outputs": [],
   "source": [
    "%%time\n"
   ]
  },
  {
   "cell_type": "markdown",
   "metadata": {},
   "source": [
    "**TODO**: clean this up"
   ]
  },
  {
   "cell_type": "code",
   "execution_count": 55,
   "metadata": {},
   "outputs": [
    {
     "data": {
      "text/plain": [
       "Index(['B2m', 'C1qa', 'C1qb', 'C1qc', 'C4a', 'C4b', 'Ccl6', 'Cd52', 'Cd68',\n",
       "       'Cd74', 'Clec7a', 'Cst3', 'Cst7', 'Ctsb', 'Ctsd', 'Ctss', 'Ctsz',\n",
       "       'Fcer1g', 'Fcgr3', 'Gfap', 'Gm14173', 'Hexb', 'Itgax', 'Lag3', 'Ly86',\n",
       "       'Lyz2', 'Mpeg1', 'Rplp1', 'Serpina3n', 'Sez6', 'Trem2', 'Tyrobp',\n",
       "       'mt-Rnr1', 'mt-Rnr2'],\n",
       "      dtype='object')"
      ]
     },
     "execution_count": 55,
     "metadata": {},
     "output_type": "execute_result"
    }
   ],
   "source": [
    "gene_columns[selected_columns]"
   ]
  },
  {
   "cell_type": "code",
   "execution_count": 54,
   "metadata": {},
   "outputs": [
    {
     "data": {
      "text/plain": [
       "array([29456,  8630, 29456, ..., 29456, 29456, 29456])"
      ]
     },
     "execution_count": 54,
     "metadata": {},
     "output_type": "execute_result"
    }
   ],
   "source": [
    "feat_selector.ranking_"
   ]
  },
  {
   "cell_type": "code",
   "execution_count": 45,
   "metadata": {},
   "outputs": [],
   "source": [
    "X_filtered = feat_selector.transform(X)"
   ]
  },
  {
   "cell_type": "markdown",
   "metadata": {},
   "source": [
    "---\n",
    "\n",
    "### **Boruta experiment 2**"
   ]
  },
  {
   "cell_type": "code",
   "execution_count": null,
   "metadata": {},
   "outputs": [],
   "source": [
    "%%time\n",
    "ex2_selected = do_boruta(estimator=RandomForestRegressor(n_jobs=-1, n_estimators=1000, max_features=0.01, max_depth=5))"
   ]
  },
  {
   "cell_type": "code",
   "execution_count": 67,
   "metadata": {},
   "outputs": [
    {
     "data": {
      "text/plain": [
       "Index(['2810433D01Rik', 'Apoe', 'B2m', 'C1qa', 'C1qb', 'C1qc', 'C3ar1', 'C4a',\n",
       "       'C4b', 'Ccl3', 'Ccl6', 'Cd14', 'Cd52', 'Cd68', 'Cd74', 'Cd9', 'Clec7a',\n",
       "       'Clu', 'Csf1r', 'Cst3', 'Cst7', 'Ctsb', 'Ctsd', 'Ctsl', 'Ctss', 'Ctsz',\n",
       "       'Fcer1g', 'Fcgr2b', 'Fcgr3', 'Fcrls', 'Fth1', 'Gfap', 'Gm26917',\n",
       "       'Gm5874', 'Gpnmb', 'H2-Aa', 'H2-D1', 'Hexa', 'Hexb', 'Itgax', 'Lag3',\n",
       "       'Laptm5', 'Lgals3bp', 'Lrrc17', 'Ly86', 'Lyz1', 'Lyz2', 'Mamdc2',\n",
       "       'Mpeg1', 'Olfml3', 'Olfr912', 'Plek', 'Rpl12', 'Rplp1', 'Serpina3n',\n",
       "       'Sez6', 'Spp1', 'Trem2', 'Tyrobp', 'Wfdc17', 'mt-Rnr1', 'mt-Rnr2'],\n",
       "      dtype='object')"
      ]
     },
     "execution_count": 67,
     "metadata": {},
     "output_type": "execute_result"
    }
   ],
   "source": [
    "ex2_selected"
   ]
  },
  {
   "cell_type": "markdown",
   "metadata": {},
   "source": [
    "---\n",
    "\n",
    "### **Boruta experiment3**"
   ]
  },
  {
   "cell_type": "code",
   "execution_count": null,
   "metadata": {},
   "outputs": [],
   "source": [
    "%%time\n",
    "ex3_selected = do_boruta(estimator=RandomForestRegressor(n_jobs=-1, n_estimators=1000, max_features=0.05, max_depth=5))"
   ]
  },
  {
   "cell_type": "code",
   "execution_count": 69,
   "metadata": {},
   "outputs": [
    {
     "data": {
      "text/plain": [
       "Index(['Apoe', 'B2m', 'C1qa', 'C1qb', 'C1qc', 'C4a', 'C4b', 'Ccl6', 'Cd52',\n",
       "       'Cd68', 'Cd74', 'Clec7a', 'Cst3', 'Cst7', 'Ctsb', 'Ctsd', 'Ctss',\n",
       "       'Ctsz', 'Fcer1g', 'Fcgr3', 'Gfap', 'Hexa', 'Hexb', 'Itgax', 'Lag3',\n",
       "       'Laptm5', 'Ly86', 'Lyz1', 'Lyz2', 'Mpeg1', 'Serpina3n', 'Sez6', 'Trem2',\n",
       "       'Tyrobp', 'mt-Rnr1', 'mt-Rnr2'],\n",
       "      dtype='object')"
      ]
     },
     "execution_count": 69,
     "metadata": {},
     "output_type": "execute_result"
    }
   ],
   "source": [
    "ex3_selected"
   ]
  },
  {
   "cell_type": "markdown",
   "metadata": {},
   "source": [
    "---\n",
    "\n",
    "# **HITS**\n",
    "\n",
    "references to Alzheimer related papers with one of the selected genes\n",
    "\n",
    "* **Fcer1g**\n",
    "    * https://www.ncbi.nlm.nih.gov/pmc/articles/PMC3677161/\n",
    "* **Lyz2**\n",
    "    * https://www.ncbi.nlm.nih.gov/pmc/articles/PMC4198361/\n",
    "* **Hexb**\n",
    "    * https://www.ncbi.nlm.nih.gov/pmc/articles/PMC2612729/\n",
    "* **B2m**\n",
    "    * https://www.nature.com/articles/nm.3898\n",
    "* **Serpina3n**\n",
    "    * https://www.ncbi.nlm.nih.gov/pmc/articles/PMC1609963/\n",
    "* **Trem2**\n",
    "    * https://www.ncbi.nlm.nih.gov/pubmed/28426958\n",
    "* **Sez6**\n",
    "    * https://molecularneurodegeneration.biomedcentral.com/articles/10.1186/s13024-016-0134-z\n",
    "* **Cst3**\n",
    "    * https://www.ncbi.nlm.nih.gov/pmc/articles/PMC3390601/\n",
    "* **Tyrobp**\n",
    "    * https://www.ncbi.nlm.nih.gov/gene/7305"
   ]
  },
  {
   "cell_type": "markdown",
   "metadata": {},
   "source": [
    "---\n",
    "\n",
    "# Gradient Boosting yay!\n",
    "\n",
    "* TODO: use a stochastic GBM regressor"
   ]
  },
  {
   "cell_type": "code",
   "execution_count": null,
   "metadata": {},
   "outputs": [],
   "source": [
    "\n"
   ]
  }
 ],
 "metadata": {
  "kernelspec": {
   "display_name": "Python [default]",
   "language": "python",
   "name": "python3"
  },
  "language_info": {
   "codemirror_mode": {
    "name": "ipython",
    "version": 3
   },
   "file_extension": ".py",
   "mimetype": "text/x-python",
   "name": "python",
   "nbconvert_exporter": "python",
   "pygments_lexer": "ipython3",
   "version": "3.5.5"
  }
 },
 "nbformat": 4,
 "nbformat_minor": 2
}
