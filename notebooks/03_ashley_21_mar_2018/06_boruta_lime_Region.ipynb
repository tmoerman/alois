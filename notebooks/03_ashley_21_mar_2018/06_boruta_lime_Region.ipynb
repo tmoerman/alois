{
 "cells": [
  {
   "cell_type": "markdown",
   "metadata": {},
   "source": [
    "# 06 Region classifier\n",
    "\n",
    "**Objectives:**\n",
    "* train a classifier to predict Regions (`-->` multiclass)\n",
    "* explain classifications in different regions with LIME"
   ]
  },
  {
   "cell_type": "code",
   "execution_count": 1,
   "metadata": {},
   "outputs": [],
   "source": [
    "import pandas as pd\n",
    "import numpy as np\n",
    "import os\n",
    "import pickle\n",
    "\n",
    "import matplotlib as mpl\n",
    "import matplotlib.pyplot as plt\n",
    "import seaborn as sns\n",
    "\n",
    "from boruta import BorutaPy\n",
    "\n",
    "from sklearn.ensemble import RandomForestClassifier, RandomForestRegressor, GradientBoostingRegressor, GradientBoostingClassifier\n",
    "from sklearn.model_selection import RandomizedSearchCV, cross_val_score, ShuffleSplit\n",
    "\n",
    "import lime \n",
    "import sklearn.datasets\n",
    "from lime.lime_tabular import LimeTabularExplainer\n",
    "\n",
    "import rpy2.robjects as robjects\n",
    "from rpy2.robjects import pandas2ri\n",
    "pandas2ri.activate()\n",
    "\n",
    "sns.set(style=\"whitegrid\")"
   ]
  },
  {
   "cell_type": "markdown",
   "metadata": {},
   "source": [
    "---\n",
    "\n",
    "## Load the data"
   ]
  },
  {
   "cell_type": "code",
   "execution_count": 2,
   "metadata": {},
   "outputs": [],
   "source": [
    "wd = '/media/tmo/data/work/datasets/02_ST'\n",
    "\n",
    "logcpm_path = wd + '/ashley_21.03.2018/logcpm_merge_20180212.pickle'\n",
    "meta_path = wd + '/meta/meta.parquet'"
   ]
  },
  {
   "cell_type": "code",
   "execution_count": 3,
   "metadata": {},
   "outputs": [
    {
     "name": "stdout",
     "output_type": "stream",
     "text": [
      "CPU times: user 122 ms, sys: 274 ms, total: 396 ms\n",
      "Wall time: 193 ms\n"
     ]
    }
   ],
   "source": [
    "%%time\n",
    "meta_df = pd.read_parquet(meta_path)"
   ]
  },
  {
   "cell_type": "code",
   "execution_count": 4,
   "metadata": {},
   "outputs": [
    {
     "name": "stdout",
     "output_type": "stream",
     "text": [
      "CPU times: user 16 s, sys: 6.89 s, total: 22.9 s\n",
      "Wall time: 22.9 s\n"
     ]
    }
   ],
   "source": [
    "%%time\n",
    "logcpm_df = pickle.load(open(logcpm_path, \"rb\"))\n",
    "\n",
    "logcpm_df.index.name = 'spot_UID'\n",
    "logcpm_df.reset_index(inplace=True)\n",
    "logcpm_df.rename(columns={'sampleID': 'slide_ID'}, inplace=True)"
   ]
  },
  {
   "cell_type": "code",
   "execution_count": 5,
   "metadata": {},
   "outputs": [],
   "source": [
    "st_df = logcpm_df.merge(meta_df, how='inner', on=['spot_UID', 'slide_ID'])"
   ]
  },
  {
   "cell_type": "code",
   "execution_count": 6,
   "metadata": {},
   "outputs": [],
   "source": [
    "st_df['slide_ID'] = st_df['slide_ID'].astype('category', copy=False)\n",
    "st_df['GT'] = st_df['GT'].astype('category', copy=False)\n",
    "st_df['age'] = st_df['age_GT'].astype('category', copy=False)\n",
    "st_df['age_GT'] = st_df['age_GT'].astype('category', copy=False)"
   ]
  },
  {
   "cell_type": "code",
   "execution_count": 7,
   "metadata": {},
   "outputs": [],
   "source": [
    "n_genes = 46454\n",
    "gene_columns = st_df.columns[1:n_genes+1]"
   ]
  },
  {
   "cell_type": "code",
   "execution_count": 8,
   "metadata": {},
   "outputs": [],
   "source": [
    "expression_df = st_df[gene_columns]"
   ]
  },
  {
   "cell_type": "code",
   "execution_count": 9,
   "metadata": {},
   "outputs": [],
   "source": [
    "assert expression_df.shape == (10327, 46454)"
   ]
  },
  {
   "cell_type": "code",
   "execution_count": 108,
   "metadata": {},
   "outputs": [],
   "source": [
    "region_levels_df = pd.read_csv('region_levels.csv', sep=',', keep_default_na=False)"
   ]
  },
  {
   "cell_type": "code",
   "execution_count": 110,
   "metadata": {},
   "outputs": [],
   "source": [
    "genotype_df = st_df[['GT']]"
   ]
  },
  {
   "cell_type": "code",
   "execution_count": 111,
   "metadata": {},
   "outputs": [],
   "source": [
    "region_df = st_df[['Region_predict']].copy()"
   ]
  },
  {
   "cell_type": "code",
   "execution_count": 112,
   "metadata": {},
   "outputs": [],
   "source": [
    "region_df = region_df.merge(region_levels_df, on='Region_predict')"
   ]
  },
  {
   "cell_type": "code",
   "execution_count": 113,
   "metadata": {},
   "outputs": [],
   "source": [
    "region_cat_df = region_df['Region_predict'].astype('category', copy=False)\n",
    "region_level1_df = region_df['Level_01'].astype('category', copy=False)\n",
    "region_level2_df = region_df['Level_02'].astype('category', copy=False)"
   ]
  },
  {
   "cell_type": "markdown",
   "metadata": {},
   "source": [
    "---\n",
    "\n"
   ]
  },
  {
   "cell_type": "code",
   "execution_count": 120,
   "metadata": {},
   "outputs": [
    {
     "data": {
      "text/plain": [
       "CX    4104\n",
       "BS    3028\n",
       "NA    1651\n",
       "HP    1544\n",
       "Name: Level_01, dtype: int64"
      ]
     },
     "execution_count": 120,
     "metadata": {},
     "output_type": "execute_result"
    }
   ],
   "source": [
    "region_df['Level_01'].value_counts()"
   ]
  },
  {
   "cell_type": "code",
   "execution_count": 119,
   "metadata": {},
   "outputs": [
    {
     "data": {
      "text/plain": [
       "TH       1931\n",
       "FB       1155\n",
       "HPd      1122\n",
       "HY       1097\n",
       "AUD       860\n",
       "OLF       749\n",
       "CTXsp     709\n",
       "PTL       585\n",
       "SSp       532\n",
       "NA        496\n",
       "HPs       422\n",
       "COM       295\n",
       "RSP       262\n",
       "ENTI      112\n",
       "Name: Level_02, dtype: int64"
      ]
     },
     "execution_count": 119,
     "metadata": {},
     "output_type": "execute_result"
    }
   ],
   "source": [
    "region_df['Level_02'].value_counts()"
   ]
  },
  {
   "cell_type": "markdown",
   "metadata": {},
   "source": [
    "---\n",
    "## Extract *all-relevant* feature set: Region"
   ]
  },
  {
   "cell_type": "code",
   "execution_count": 25,
   "metadata": {},
   "outputs": [],
   "source": [
    "boruta_rf = RandomForestClassifier(n_jobs=-1, n_estimators=1000, max_features='sqrt', max_depth=5)\n",
    "\n",
    "def train_feature_selector(X_df=expression_df,  # the transcriptome expression vectors\n",
    "                           y_df=region_df,      # the Region column\n",
    "                           estimator=boruta_rf, verbose=2, seed=42):  # boruta parameters\n",
    "    feature_selector = BorutaPy(estimator=estimator, verbose=verbose, random_state=seed, n_estimators='auto')    \n",
    "    \n",
    "    X = X_df.as_matrix()\n",
    "    y = y_df.values.ravel()\n",
    "    feature_selector.fit(X, y)\n",
    "    \n",
    "    return feature_selector"
   ]
  },
  {
   "cell_type": "code",
   "execution_count": null,
   "metadata": {},
   "outputs": [],
   "source": [
    "Region_feature_selector = train_feature_selector(y_df = region_df)"
   ]
  },
  {
   "cell_type": "code",
   "execution_count": 27,
   "metadata": {},
   "outputs": [],
   "source": [
    "Region_features = list(gene_columns[Region_feature_selector.support_])"
   ]
  },
  {
   "cell_type": "code",
   "execution_count": 30,
   "metadata": {},
   "outputs": [],
   "source": [
    "pd.DataFrame(Region_features).to_csv('06_region_features.txt', index=None, header=None)"
   ]
  },
  {
   "cell_type": "markdown",
   "metadata": {},
   "source": [
    "## Extract *all-relevant* feature set: Level 01"
   ]
  },
  {
   "cell_type": "code",
   "execution_count": null,
   "metadata": {},
   "outputs": [],
   "source": [
    "level1_feature_selector = train_feature_selector(y_df = region_level1_df)"
   ]
  },
  {
   "cell_type": "code",
   "execution_count": 124,
   "metadata": {},
   "outputs": [],
   "source": [
    "Level1_features = list(gene_columns[level1_feature_selector.support_])"
   ]
  },
  {
   "cell_type": "code",
   "execution_count": 126,
   "metadata": {},
   "outputs": [],
   "source": [
    "pd.DataFrame(Level1_features).to_csv('06_level1_features.txt', index=None, header=None)"
   ]
  },
  {
   "cell_type": "markdown",
   "metadata": {},
   "source": [
    "## Extract *all-relevant* feature set: Level 02"
   ]
  },
  {
   "cell_type": "code",
   "execution_count": null,
   "metadata": {},
   "outputs": [
    {
     "name": "stdout",
     "output_type": "stream",
     "text": [
      "Iteration: \t1 / 100\n",
      "Confirmed: \t0\n",
      "Tentative: \t46454\n",
      "Rejected: \t0\n"
     ]
    }
   ],
   "source": [
    "level2_feature_selector = train_feature_selector(y_df = region_level2_df)"
   ]
  },
  {
   "cell_type": "code",
   "execution_count": null,
   "metadata": {},
   "outputs": [],
   "source": [
    "Level2_features = list(gene_columns[level2_feature_selector.support_])"
   ]
  },
  {
   "cell_type": "code",
   "execution_count": null,
   "metadata": {},
   "outputs": [],
   "source": [
    "pd.DataFrame(Level2_features).to_csv('06_level2_features.txt', index=None, header=None)"
   ]
  },
  {
   "cell_type": "code",
   "execution_count": null,
   "metadata": {},
   "outputs": [],
   "source": []
  }
 ],
 "metadata": {
  "kernelspec": {
   "display_name": "Python [default]",
   "language": "python",
   "name": "python3"
  },
  "language_info": {
   "codemirror_mode": {
    "name": "ipython",
    "version": 3
   },
   "file_extension": ".py",
   "mimetype": "text/x-python",
   "name": "python",
   "nbconvert_exporter": "python",
   "pygments_lexer": "ipython3",
   "version": "3.5.5"
  }
 },
 "nbformat": 4,
 "nbformat_minor": 2
}
