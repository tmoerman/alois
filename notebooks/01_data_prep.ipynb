{
 "cells": [
  {
   "cell_type": "markdown",
   "metadata": {},
   "source": [
    "# Alois :: Data Preparation\n",
    "\n",
    "**Objectives:**\n",
    "* Parse the source files and aggregate into 1 single Pandas DataFrame.\n",
    "* Save the DataFrame to disk in Parquet format."
   ]
  },
  {
   "cell_type": "code",
   "execution_count": 5,
   "metadata": {},
   "outputs": [],
   "source": [
    "import pandas as pd\n",
    "import numpy as np\n",
    "\n",
    "import os"
   ]
  },
  {
   "cell_type": "markdown",
   "metadata": {},
   "source": [
    "* input files (Mark Fiers)\n",
    "* origin: `/staging/leuven/stg_00002/cbd/projects/BDS_SpatialTranscriptomics/ST_structure`"
   ]
  },
  {
   "cell_type": "code",
   "execution_count": 6,
   "metadata": {},
   "outputs": [],
   "source": [
    "wd = '/media/tmo/data/work/datasets/02_ST/ST_structure/'\n",
    "slide_file = wd + 'spatial_transcriptomics_slide.tsv'"
   ]
  },
  {
   "cell_type": "markdown",
   "metadata": {},
   "source": [
    "* parquet folder for our merged DataFrame"
   ]
  },
  {
   "cell_type": "code",
   "execution_count": 7,
   "metadata": {},
   "outputs": [],
   "source": [
    "parquet = '/media/tmo/data/work/datasets/02_ST/parquet/'\n",
    "st_full = parquet + 'st_full'"
   ]
  },
  {
   "cell_type": "code",
   "execution_count": 8,
   "metadata": {},
   "outputs": [],
   "source": [
    "slides = [\n",
    "    'B02_D1', 'B02_E1', 'B03_C2', 'B03_D2', 'B04_D1',\n",
    "    'B04_E1', 'B05_D2', 'B05_E2', 'B06_E1', 'B07_C2',\n",
    "    'N02_C1', 'N02_D1', 'N03_C2', 'N03_D2', 'N04_D1',\n",
    "    'N04_E1', 'N05_C2', 'N05_D2', 'N06_D2', 'N07_C1']"
   ]
  },
  {
   "cell_type": "code",
   "execution_count": 9,
   "metadata": {},
   "outputs": [],
   "source": [
    "# SLIDE_META_COLUMNS = ['Sample id', 'GenotypeShort', 'Age (day)', 'Age (month)']\n",
    "SLIDE_META_COLUMNS = ['sampleID', 'GT', 'age_days', 'age_months']"
   ]
  },
  {
   "cell_type": "code",
   "execution_count": 10,
   "metadata": {},
   "outputs": [],
   "source": [
    "SPOT_META_COLUMNS = ['sampleID', 'AB1_StdDev_Yen', 'Region_predict',\n",
    "                     'microglia', 'neuron', 'astrocyte', 'oligodendrocyte', 'endothelial', 'interneuron']"
   ]
  },
  {
   "cell_type": "code",
   "execution_count": 54,
   "metadata": {},
   "outputs": [],
   "source": [
    "GT = 'GT'\n",
    "YEN = 'AB1_StdDev_Yen'\n",
    "REGION = 'Region_predict'\n",
    "ASTRO = 'astrocyte'\n",
    "AGE = 'age'\n",
    "DAYS = 'age_days'\n",
    "MONTHS = 'age_months'\n",
    "\n",
    "SAMPLE_ID = 'sampleID'\n",
    "SPOT_UID = 'spot_UID'"
   ]
  },
  {
   "cell_type": "code",
   "execution_count": 41,
   "metadata": {},
   "outputs": [],
   "source": [
    "def to_slide(slide_or_idx):\n",
    "    if isinstance(slide_or_idx, int):\n",
    "        return slides[slide_or_idx]\n",
    "    else:\n",
    "        return slide_or_idx\n",
    "    \n",
    "def read_expression(slide_or_idx):\n",
    "    \"\"\"\n",
    "    Read the RNA expression of 1 slide, specified by slide name or index.\n",
    "    \"\"\"\n",
    "    \n",
    "    file = '{0}{1}/expression/{1}.lcpm_znor.txt.gz'.format(wd, to_slide(slide_or_idx))\n",
    "    \n",
    "    df = pd.read_csv(file, sep='\\t', index_col=0).astype(np.float32)\n",
    "    df.index.name=SPOT_UID\n",
    "    return df.reset_index()\n",
    "\n",
    "def read_meta(slide_or_idx):\n",
    "    \"\"\"\n",
    "    Read the metadata of 1 slide, specified by slide name or index.\n",
    "    \"\"\"\n",
    "    \n",
    "    file = '{0}{1}/metadata/{1}.meta.tsv'.format(wd, to_slide(slide_or_idx))\n",
    "    \n",
    "    df = pd.read_csv(file, sep='\\t', index_col=0)\n",
    "    df.index.name=SPOT_UID\n",
    "    return df.reset_index()\n",
    "\n",
    "def read_slides_meta(file=slide_file):\n",
    "    \"\"\"\n",
    "    Read the .csv file with meta data about the slides.\n",
    "    \"\"\"\n",
    "    \n",
    "    COLUMNS = ['Sample id', 'GenotypeShort', 'Age (day)', 'Age (month)']\n",
    "    \n",
    "    df = pd.read_csv(file, sep='\\t')[COLUMNS]\n",
    "    df.columns = SLIDE_META_COLUMNS\n",
    "    return df"
   ]
  },
  {
   "cell_type": "code",
   "execution_count": 13,
   "metadata": {},
   "outputs": [],
   "source": [
    "slides_meta = read_slides_meta()"
   ]
  },
  {
   "cell_type": "code",
   "execution_count": 14,
   "metadata": {},
   "outputs": [
    {
     "data": {
      "text/html": [
       "<div>\n",
       "<style scoped>\n",
       "    .dataframe tbody tr th:only-of-type {\n",
       "        vertical-align: middle;\n",
       "    }\n",
       "\n",
       "    .dataframe tbody tr th {\n",
       "        vertical-align: top;\n",
       "    }\n",
       "\n",
       "    .dataframe thead th {\n",
       "        text-align: right;\n",
       "    }\n",
       "</style>\n",
       "<table border=\"1\" class=\"dataframe\">\n",
       "  <thead>\n",
       "    <tr style=\"text-align: right;\">\n",
       "      <th></th>\n",
       "      <th>sampleID</th>\n",
       "      <th>GT</th>\n",
       "      <th>age_days</th>\n",
       "      <th>age_months</th>\n",
       "    </tr>\n",
       "  </thead>\n",
       "  <tbody>\n",
       "    <tr>\n",
       "      <th>0</th>\n",
       "      <td>N01_D1</td>\n",
       "      <td>KI</td>\n",
       "      <td>106</td>\n",
       "      <td>4</td>\n",
       "    </tr>\n",
       "    <tr>\n",
       "      <th>1</th>\n",
       "      <td>N01_C1_r1</td>\n",
       "      <td>KI</td>\n",
       "      <td>106</td>\n",
       "      <td>4</td>\n",
       "    </tr>\n",
       "    <tr>\n",
       "      <th>2</th>\n",
       "      <td>N01_D2</td>\n",
       "      <td>KI</td>\n",
       "      <td>106</td>\n",
       "      <td>4</td>\n",
       "    </tr>\n",
       "    <tr>\n",
       "      <th>3</th>\n",
       "      <td>N01_C1</td>\n",
       "      <td>KI</td>\n",
       "      <td>106</td>\n",
       "      <td>4</td>\n",
       "    </tr>\n",
       "    <tr>\n",
       "      <th>4</th>\n",
       "      <td>N01_C2</td>\n",
       "      <td>KI</td>\n",
       "      <td>106</td>\n",
       "      <td>4</td>\n",
       "    </tr>\n",
       "  </tbody>\n",
       "</table>\n",
       "</div>"
      ],
      "text/plain": [
       "    sampleID  GT  age_days  age_months\n",
       "0     N01_D1  KI       106           4\n",
       "1  N01_C1_r1  KI       106           4\n",
       "2     N01_D2  KI       106           4\n",
       "3     N01_C1  KI       106           4\n",
       "4     N01_C2  KI       106           4"
      ]
     },
     "execution_count": 14,
     "metadata": {},
     "output_type": "execute_result"
    }
   ],
   "source": [
    "slides_meta.head()"
   ]
  },
  {
   "cell_type": "markdown",
   "metadata": {},
   "source": [
    "---\n",
    "# Slide 00"
   ]
  },
  {
   "cell_type": "code",
   "execution_count": 42,
   "metadata": {},
   "outputs": [
    {
     "name": "stdout",
     "output_type": "stream",
     "text": [
      "CPU times: user 40.9 s, sys: 824 ms, total: 41.7 s\n",
      "Wall time: 41.7 s\n"
     ]
    }
   ],
   "source": [
    "%%time\n",
    "ex00 = read_expression(0)"
   ]
  },
  {
   "cell_type": "code",
   "execution_count": 43,
   "metadata": {},
   "outputs": [
    {
     "data": {
      "text/plain": [
       "(582, 46455)"
      ]
     },
     "execution_count": 43,
     "metadata": {},
     "output_type": "execute_result"
    }
   ],
   "source": [
    "ex00.shape"
   ]
  },
  {
   "cell_type": "code",
   "execution_count": 44,
   "metadata": {},
   "outputs": [
    {
     "data": {
      "text/html": [
       "<div>\n",
       "<style scoped>\n",
       "    .dataframe tbody tr th:only-of-type {\n",
       "        vertical-align: middle;\n",
       "    }\n",
       "\n",
       "    .dataframe tbody tr th {\n",
       "        vertical-align: top;\n",
       "    }\n",
       "\n",
       "    .dataframe thead th {\n",
       "        text-align: right;\n",
       "    }\n",
       "</style>\n",
       "<table border=\"1\" class=\"dataframe\">\n",
       "  <thead>\n",
       "    <tr style=\"text-align: right;\">\n",
       "      <th></th>\n",
       "      <th>spot_UID</th>\n",
       "      <th>-343C11.2</th>\n",
       "      <th>00R_AC107638.2</th>\n",
       "      <th>0610005C13Rik</th>\n",
       "      <th>0610006L08Rik</th>\n",
       "      <th>0610007P14Rik</th>\n",
       "      <th>0610009B22Rik</th>\n",
       "      <th>0610009E02Rik</th>\n",
       "      <th>0610009L18Rik</th>\n",
       "      <th>0610009O20Rik</th>\n",
       "      <th>...</th>\n",
       "      <th>n-R5s90</th>\n",
       "      <th>n-R5s92</th>\n",
       "      <th>n-R5s93</th>\n",
       "      <th>n-R5s94</th>\n",
       "      <th>n-R5s95</th>\n",
       "      <th>n-R5s96</th>\n",
       "      <th>n-R5s97</th>\n",
       "      <th>n-R5s98</th>\n",
       "      <th>n-TSaga9</th>\n",
       "      <th>n-TStga1</th>\n",
       "    </tr>\n",
       "  </thead>\n",
       "  <tbody>\n",
       "    <tr>\n",
       "      <th>0</th>\n",
       "      <td>B02_D1__11_2</td>\n",
       "      <td>0.0</td>\n",
       "      <td>-0.140839</td>\n",
       "      <td>-0.137319</td>\n",
       "      <td>-0.069683</td>\n",
       "      <td>-0.346811</td>\n",
       "      <td>0.598446</td>\n",
       "      <td>-0.250064</td>\n",
       "      <td>-0.480542</td>\n",
       "      <td>-0.907225</td>\n",
       "      <td>...</td>\n",
       "      <td>-0.041451</td>\n",
       "      <td>0.0</td>\n",
       "      <td>-0.041451</td>\n",
       "      <td>0.0</td>\n",
       "      <td>-0.041451</td>\n",
       "      <td>-0.071736</td>\n",
       "      <td>-0.041451</td>\n",
       "      <td>0.0</td>\n",
       "      <td>0.0</td>\n",
       "      <td>-0.071903</td>\n",
       "    </tr>\n",
       "    <tr>\n",
       "      <th>1</th>\n",
       "      <td>B02_D1__27_2</td>\n",
       "      <td>0.0</td>\n",
       "      <td>-0.140839</td>\n",
       "      <td>-0.137319</td>\n",
       "      <td>-0.069683</td>\n",
       "      <td>0.560216</td>\n",
       "      <td>2.078606</td>\n",
       "      <td>-0.250064</td>\n",
       "      <td>-0.480542</td>\n",
       "      <td>1.215536</td>\n",
       "      <td>...</td>\n",
       "      <td>-0.041451</td>\n",
       "      <td>0.0</td>\n",
       "      <td>-0.041451</td>\n",
       "      <td>0.0</td>\n",
       "      <td>-0.041451</td>\n",
       "      <td>-0.071736</td>\n",
       "      <td>-0.041451</td>\n",
       "      <td>0.0</td>\n",
       "      <td>0.0</td>\n",
       "      <td>-0.071903</td>\n",
       "    </tr>\n",
       "    <tr>\n",
       "      <th>2</th>\n",
       "      <td>B02_D1__26_2</td>\n",
       "      <td>0.0</td>\n",
       "      <td>-0.140839</td>\n",
       "      <td>-0.137319</td>\n",
       "      <td>-0.069683</td>\n",
       "      <td>-0.302725</td>\n",
       "      <td>0.645292</td>\n",
       "      <td>-0.250064</td>\n",
       "      <td>-0.480542</td>\n",
       "      <td>-0.907225</td>\n",
       "      <td>...</td>\n",
       "      <td>-0.041451</td>\n",
       "      <td>0.0</td>\n",
       "      <td>-0.041451</td>\n",
       "      <td>0.0</td>\n",
       "      <td>-0.041451</td>\n",
       "      <td>-0.071736</td>\n",
       "      <td>-0.041451</td>\n",
       "      <td>0.0</td>\n",
       "      <td>0.0</td>\n",
       "      <td>-0.071903</td>\n",
       "    </tr>\n",
       "    <tr>\n",
       "      <th>3</th>\n",
       "      <td>B02_D1__30_2</td>\n",
       "      <td>0.0</td>\n",
       "      <td>-0.140839</td>\n",
       "      <td>-0.137319</td>\n",
       "      <td>-0.069683</td>\n",
       "      <td>0.068266</td>\n",
       "      <td>1.421688</td>\n",
       "      <td>-0.250064</td>\n",
       "      <td>-0.480542</td>\n",
       "      <td>-0.907225</td>\n",
       "      <td>...</td>\n",
       "      <td>-0.041451</td>\n",
       "      <td>0.0</td>\n",
       "      <td>-0.041451</td>\n",
       "      <td>0.0</td>\n",
       "      <td>-0.041451</td>\n",
       "      <td>-0.071736</td>\n",
       "      <td>-0.041451</td>\n",
       "      <td>0.0</td>\n",
       "      <td>0.0</td>\n",
       "      <td>-0.071903</td>\n",
       "    </tr>\n",
       "    <tr>\n",
       "      <th>4</th>\n",
       "      <td>B02_D1__12_2</td>\n",
       "      <td>0.0</td>\n",
       "      <td>-0.140839</td>\n",
       "      <td>-0.137319</td>\n",
       "      <td>-0.069683</td>\n",
       "      <td>0.528757</td>\n",
       "      <td>1.815830</td>\n",
       "      <td>-0.250064</td>\n",
       "      <td>-0.480542</td>\n",
       "      <td>-0.907225</td>\n",
       "      <td>...</td>\n",
       "      <td>-0.041451</td>\n",
       "      <td>0.0</td>\n",
       "      <td>-0.041451</td>\n",
       "      <td>0.0</td>\n",
       "      <td>-0.041451</td>\n",
       "      <td>-0.071736</td>\n",
       "      <td>-0.041451</td>\n",
       "      <td>0.0</td>\n",
       "      <td>0.0</td>\n",
       "      <td>-0.071903</td>\n",
       "    </tr>\n",
       "  </tbody>\n",
       "</table>\n",
       "<p>5 rows × 46455 columns</p>\n",
       "</div>"
      ],
      "text/plain": [
       "       spot_UID  -343C11.2  00R_AC107638.2  0610005C13Rik  0610006L08Rik  \\\n",
       "0  B02_D1__11_2        0.0       -0.140839      -0.137319      -0.069683   \n",
       "1  B02_D1__27_2        0.0       -0.140839      -0.137319      -0.069683   \n",
       "2  B02_D1__26_2        0.0       -0.140839      -0.137319      -0.069683   \n",
       "3  B02_D1__30_2        0.0       -0.140839      -0.137319      -0.069683   \n",
       "4  B02_D1__12_2        0.0       -0.140839      -0.137319      -0.069683   \n",
       "\n",
       "   0610007P14Rik  0610009B22Rik  0610009E02Rik  0610009L18Rik  0610009O20Rik  \\\n",
       "0      -0.346811       0.598446      -0.250064      -0.480542      -0.907225   \n",
       "1       0.560216       2.078606      -0.250064      -0.480542       1.215536   \n",
       "2      -0.302725       0.645292      -0.250064      -0.480542      -0.907225   \n",
       "3       0.068266       1.421688      -0.250064      -0.480542      -0.907225   \n",
       "4       0.528757       1.815830      -0.250064      -0.480542      -0.907225   \n",
       "\n",
       "     ...      n-R5s90  n-R5s92   n-R5s93  n-R5s94   n-R5s95   n-R5s96  \\\n",
       "0    ...    -0.041451      0.0 -0.041451      0.0 -0.041451 -0.071736   \n",
       "1    ...    -0.041451      0.0 -0.041451      0.0 -0.041451 -0.071736   \n",
       "2    ...    -0.041451      0.0 -0.041451      0.0 -0.041451 -0.071736   \n",
       "3    ...    -0.041451      0.0 -0.041451      0.0 -0.041451 -0.071736   \n",
       "4    ...    -0.041451      0.0 -0.041451      0.0 -0.041451 -0.071736   \n",
       "\n",
       "    n-R5s97  n-R5s98  n-TSaga9  n-TStga1  \n",
       "0 -0.041451      0.0       0.0 -0.071903  \n",
       "1 -0.041451      0.0       0.0 -0.071903  \n",
       "2 -0.041451      0.0       0.0 -0.071903  \n",
       "3 -0.041451      0.0       0.0 -0.071903  \n",
       "4 -0.041451      0.0       0.0 -0.071903  \n",
       "\n",
       "[5 rows x 46455 columns]"
      ]
     },
     "execution_count": 44,
     "metadata": {},
     "output_type": "execute_result"
    }
   ],
   "source": [
    "ex00.head()"
   ]
  },
  {
   "cell_type": "code",
   "execution_count": 45,
   "metadata": {},
   "outputs": [
    {
     "name": "stdout",
     "output_type": "stream",
     "text": [
      "<class 'pandas.core.frame.DataFrame'>\n",
      "RangeIndex: 582 entries, 0 to 581\n",
      "Columns: 46455 entries, spot_UID to n-TStga1\n",
      "dtypes: float32(46454), object(1)\n",
      "memory usage: 103.1+ MB\n"
     ]
    }
   ],
   "source": [
    "ex00.info()"
   ]
  },
  {
   "cell_type": "code",
   "execution_count": 46,
   "metadata": {},
   "outputs": [
    {
     "name": "stdout",
     "output_type": "stream",
     "text": [
      "CPU times: user 76.9 ms, sys: 29 µs, total: 77 ms\n",
      "Wall time: 75.9 ms\n"
     ]
    }
   ],
   "source": [
    "%%time\n",
    "meta00 = read_meta(0)"
   ]
  },
  {
   "cell_type": "code",
   "execution_count": 47,
   "metadata": {},
   "outputs": [
    {
     "data": {
      "text/plain": [
       "(1155, 300)"
      ]
     },
     "execution_count": 47,
     "metadata": {},
     "output_type": "execute_result"
    }
   ],
   "source": [
    "meta00.shape"
   ]
  },
  {
   "cell_type": "code",
   "execution_count": 49,
   "metadata": {},
   "outputs": [
    {
     "data": {
      "text/html": [
       "<div>\n",
       "<style scoped>\n",
       "    .dataframe tbody tr th:only-of-type {\n",
       "        vertical-align: middle;\n",
       "    }\n",
       "\n",
       "    .dataframe tbody tr th {\n",
       "        vertical-align: top;\n",
       "    }\n",
       "\n",
       "    .dataframe thead th {\n",
       "        text-align: right;\n",
       "    }\n",
       "</style>\n",
       "<table border=\"1\" class=\"dataframe\">\n",
       "  <thead>\n",
       "    <tr style=\"text-align: right;\">\n",
       "      <th></th>\n",
       "      <th>spot_UID</th>\n",
       "      <th>spot_ID</th>\n",
       "      <th>spot_X</th>\n",
       "      <th>spot_Y</th>\n",
       "      <th>AB1_Mean_Yen</th>\n",
       "      <th>AB1_Median_Yen</th>\n",
       "      <th>AB1_IntDen_Yen</th>\n",
       "      <th>AB1_StdDev_Yen</th>\n",
       "      <th>AB1_area_Yen</th>\n",
       "      <th>AB1_Cell_Number_Yen</th>\n",
       "      <th>...</th>\n",
       "      <th>AT_FB_HY_200</th>\n",
       "      <th>filter</th>\n",
       "      <th>filter_200</th>\n",
       "      <th>Region_predict</th>\n",
       "      <th>microglia</th>\n",
       "      <th>neuron</th>\n",
       "      <th>astrocyte</th>\n",
       "      <th>oligodendrocyte</th>\n",
       "      <th>endothelial</th>\n",
       "      <th>interneuron</th>\n",
       "    </tr>\n",
       "  </thead>\n",
       "  <tbody>\n",
       "    <tr>\n",
       "      <th>0</th>\n",
       "      <td>B02_D1__22_1</td>\n",
       "      <td>1</td>\n",
       "      <td>6479.730957</td>\n",
       "      <td>116.635033</td>\n",
       "      <td>0.0</td>\n",
       "      <td>0</td>\n",
       "      <td>0.0</td>\n",
       "      <td>0.0</td>\n",
       "      <td>0.0</td>\n",
       "      <td>0</td>\n",
       "      <td>...</td>\n",
       "      <td>0.000000</td>\n",
       "      <td>1</td>\n",
       "      <td>1</td>\n",
       "      <td>unknown</td>\n",
       "      <td>NaN</td>\n",
       "      <td>NaN</td>\n",
       "      <td>NaN</td>\n",
       "      <td>NaN</td>\n",
       "      <td>NaN</td>\n",
       "      <td>NaN</td>\n",
       "    </tr>\n",
       "    <tr>\n",
       "      <th>1</th>\n",
       "      <td>B02_D1__33_1</td>\n",
       "      <td>2</td>\n",
       "      <td>9816.688477</td>\n",
       "      <td>120.182419</td>\n",
       "      <td>0.0</td>\n",
       "      <td>0</td>\n",
       "      <td>0.0</td>\n",
       "      <td>0.0</td>\n",
       "      <td>0.0</td>\n",
       "      <td>0</td>\n",
       "      <td>...</td>\n",
       "      <td>0.000000</td>\n",
       "      <td>1</td>\n",
       "      <td>1</td>\n",
       "      <td>unknown</td>\n",
       "      <td>NaN</td>\n",
       "      <td>NaN</td>\n",
       "      <td>NaN</td>\n",
       "      <td>NaN</td>\n",
       "      <td>NaN</td>\n",
       "      <td>NaN</td>\n",
       "    </tr>\n",
       "    <tr>\n",
       "      <th>2</th>\n",
       "      <td>B02_D1__11_1</td>\n",
       "      <td>3</td>\n",
       "      <td>3141.386963</td>\n",
       "      <td>125.373672</td>\n",
       "      <td>0.0</td>\n",
       "      <td>0</td>\n",
       "      <td>0.0</td>\n",
       "      <td>0.0</td>\n",
       "      <td>0.0</td>\n",
       "      <td>0</td>\n",
       "      <td>...</td>\n",
       "      <td>0.008773</td>\n",
       "      <td>1</td>\n",
       "      <td>1</td>\n",
       "      <td>unknown</td>\n",
       "      <td>NaN</td>\n",
       "      <td>NaN</td>\n",
       "      <td>NaN</td>\n",
       "      <td>NaN</td>\n",
       "      <td>NaN</td>\n",
       "      <td>NaN</td>\n",
       "    </tr>\n",
       "    <tr>\n",
       "      <th>3</th>\n",
       "      <td>B02_D1__29_1</td>\n",
       "      <td>4</td>\n",
       "      <td>8612.235352</td>\n",
       "      <td>125.077896</td>\n",
       "      <td>0.0</td>\n",
       "      <td>0</td>\n",
       "      <td>0.0</td>\n",
       "      <td>0.0</td>\n",
       "      <td>0.0</td>\n",
       "      <td>0</td>\n",
       "      <td>...</td>\n",
       "      <td>0.005332</td>\n",
       "      <td>1</td>\n",
       "      <td>1</td>\n",
       "      <td>AT_HY</td>\n",
       "      <td>NaN</td>\n",
       "      <td>NaN</td>\n",
       "      <td>NaN</td>\n",
       "      <td>NaN</td>\n",
       "      <td>NaN</td>\n",
       "      <td>NaN</td>\n",
       "    </tr>\n",
       "    <tr>\n",
       "      <th>4</th>\n",
       "      <td>B02_D1__27_1</td>\n",
       "      <td>5</td>\n",
       "      <td>8018.597168</td>\n",
       "      <td>125.602509</td>\n",
       "      <td>0.0</td>\n",
       "      <td>0</td>\n",
       "      <td>0.0</td>\n",
       "      <td>0.0</td>\n",
       "      <td>0.0</td>\n",
       "      <td>0</td>\n",
       "      <td>...</td>\n",
       "      <td>0.003575</td>\n",
       "      <td>1</td>\n",
       "      <td>1</td>\n",
       "      <td>unknown</td>\n",
       "      <td>NaN</td>\n",
       "      <td>NaN</td>\n",
       "      <td>NaN</td>\n",
       "      <td>NaN</td>\n",
       "      <td>NaN</td>\n",
       "      <td>NaN</td>\n",
       "    </tr>\n",
       "  </tbody>\n",
       "</table>\n",
       "<p>5 rows × 300 columns</p>\n",
       "</div>"
      ],
      "text/plain": [
       "       spot_UID  spot_ID       spot_X      spot_Y  AB1_Mean_Yen  \\\n",
       "0  B02_D1__22_1        1  6479.730957  116.635033           0.0   \n",
       "1  B02_D1__33_1        2  9816.688477  120.182419           0.0   \n",
       "2  B02_D1__11_1        3  3141.386963  125.373672           0.0   \n",
       "3  B02_D1__29_1        4  8612.235352  125.077896           0.0   \n",
       "4  B02_D1__27_1        5  8018.597168  125.602509           0.0   \n",
       "\n",
       "   AB1_Median_Yen  AB1_IntDen_Yen  AB1_StdDev_Yen  AB1_area_Yen  \\\n",
       "0               0             0.0             0.0           0.0   \n",
       "1               0             0.0             0.0           0.0   \n",
       "2               0             0.0             0.0           0.0   \n",
       "3               0             0.0             0.0           0.0   \n",
       "4               0             0.0             0.0           0.0   \n",
       "\n",
       "   AB1_Cell_Number_Yen     ...       AT_FB_HY_200  filter  filter_200  \\\n",
       "0                    0     ...           0.000000       1           1   \n",
       "1                    0     ...           0.000000       1           1   \n",
       "2                    0     ...           0.008773       1           1   \n",
       "3                    0     ...           0.005332       1           1   \n",
       "4                    0     ...           0.003575       1           1   \n",
       "\n",
       "   Region_predict  microglia  neuron  astrocyte  oligodendrocyte  endothelial  \\\n",
       "0         unknown        NaN     NaN        NaN              NaN          NaN   \n",
       "1         unknown        NaN     NaN        NaN              NaN          NaN   \n",
       "2         unknown        NaN     NaN        NaN              NaN          NaN   \n",
       "3           AT_HY        NaN     NaN        NaN              NaN          NaN   \n",
       "4         unknown        NaN     NaN        NaN              NaN          NaN   \n",
       "\n",
       "   interneuron  \n",
       "0          NaN  \n",
       "1          NaN  \n",
       "2          NaN  \n",
       "3          NaN  \n",
       "4          NaN  \n",
       "\n",
       "[5 rows x 300 columns]"
      ]
     },
     "execution_count": 49,
     "metadata": {},
     "output_type": "execute_result"
    }
   ],
   "source": [
    "meta00.head()"
   ]
  },
  {
   "cell_type": "markdown",
   "metadata": {},
   "source": [
    "* check which columns are all zero -> NONE\n",
    "* https://stackoverflow.com/questions/26053849/counting-non-zero-values-in-each-column-of-a-dataframe-in-python"
   ]
  },
  {
   "cell_type": "code",
   "execution_count": 17,
   "metadata": {},
   "outputs": [],
   "source": [
    "ex00_count_nonzero = ex00.astype(bool).sum(axis=0)"
   ]
  },
  {
   "cell_type": "code",
   "execution_count": 18,
   "metadata": {},
   "outputs": [],
   "source": [
    "ex00_count_nonzero_df =  pd.DataFrame(ex00_count_nonzero, columns=['count'])"
   ]
  },
  {
   "cell_type": "code",
   "execution_count": 19,
   "metadata": {},
   "outputs": [
    {
     "data": {
      "text/plain": [
       "count    0\n",
       "dtype: int64"
      ]
     },
     "execution_count": 19,
     "metadata": {},
     "output_type": "execute_result"
    }
   ],
   "source": [
    "ex00_count_nonzero_df[ex00_count_nonzero_df['count'] == 0].count()"
   ]
  },
  {
   "cell_type": "markdown",
   "metadata": {},
   "source": [
    "---\n",
    "\n",
    "# Aggregate all into a unified DataFrame"
   ]
  },
  {
   "cell_type": "code",
   "execution_count": 60,
   "metadata": {},
   "outputs": [],
   "source": [
    "def merge_dfs(ex_df, meta_df):\n",
    "    return ex_df \\\n",
    "        .merge(meta_df, on=SPOT_UID, how='inner') \\\n",
    "        .merge(slides_meta, on=SAMPLE_ID)"
   ]
  },
  {
   "cell_type": "code",
   "execution_count": 61,
   "metadata": {},
   "outputs": [
    {
     "name": "stdout",
     "output_type": "stream",
     "text": [
      "<class 'pandas.core.frame.DataFrame'>\n",
      "Int64Index: 582 entries, 0 to 581\n",
      "Columns: 46757 entries, spot_UID to age_months\n",
      "dtypes: float32(46454), float64(234), int64(65), object(4)\n",
      "memory usage: 104.5+ MB\n"
     ]
    }
   ],
   "source": [
    "merge_ex_meta(ex00, meta00).info()"
   ]
  },
  {
   "cell_type": "code",
   "execution_count": null,
   "metadata": {},
   "outputs": [
    {
     "name": "stdout",
     "output_type": "stream",
     "text": [
      "reading slide B02_D1\n",
      "reading slide B02_E1\n",
      "reading slide B03_C2\n",
      "reading slide B03_D2\n",
      "reading slide B04_D1\n",
      "reading slide B04_E1\n",
      "reading slide B05_D2\n",
      "reading slide B05_E2\n",
      "reading slide B06_E1\n",
      "reading slide B07_C2\n",
      "reading slide N02_C1\n",
      "reading slide N02_D1\n",
      "reading slide N03_C2\n",
      "reading slide N03_D2\n",
      "reading slide N04_D1\n",
      "reading slide N04_E1\n",
      "reading slide N05_C2\n",
      "reading slide N05_D2\n",
      "reading slide N06_D2\n",
      "reading slide N07_C1\n"
     ]
    }
   ],
   "source": [
    "acc = []\n",
    "for idx in range(0,20):\n",
    "    print(\"reading slide {}\".format(slides[idx]))\n",
    "    \n",
    "    ex_df = read_expression(idx)\n",
    "    meta_df = read_meta(idx)\n",
    "    acc.append(merge_dfs(ex_df, meta_df))"
   ]
  },
  {
   "cell_type": "code",
   "execution_count": null,
   "metadata": {},
   "outputs": [],
   "source": []
  },
  {
   "cell_type": "code",
   "execution_count": 66,
   "metadata": {},
   "outputs": [],
   "source": [
    "all = pd.concat(acc)"
   ]
  },
  {
   "cell_type": "code",
   "execution_count": 67,
   "metadata": {},
   "outputs": [
    {
     "data": {
      "text/plain": [
       "(10327, 46757)"
      ]
     },
     "execution_count": 67,
     "metadata": {},
     "output_type": "execute_result"
    }
   ],
   "source": [
    "all.shape"
   ]
  },
  {
   "cell_type": "markdown",
   "metadata": {},
   "source": [
    "* merge all data and write to Parquet\n",
    "* `-rwxrwxrwx 1 root root 525366216 Mar  7 22:43 st_full`\n",
    "* ~0.52 GB"
   ]
  },
  {
   "cell_type": "code",
   "execution_count": 69,
   "metadata": {},
   "outputs": [
    {
     "name": "stdout",
     "output_type": "stream",
     "text": [
      "CPU times: user 28.8 s, sys: 5.02 s, total: 33.9 s\n",
      "Wall time: 43.3 s\n"
     ]
    }
   ],
   "source": [
    "%%time\n",
    "all.to_parquet(st_full, engine='pyarrow', compression='snappy')"
   ]
  },
  {
   "cell_type": "code",
   "execution_count": null,
   "metadata": {},
   "outputs": [],
   "source": []
  }
 ],
 "metadata": {
  "kernelspec": {
   "display_name": "Python [default]",
   "language": "python",
   "name": "python3"
  },
  "language_info": {
   "codemirror_mode": {
    "name": "ipython",
    "version": 3
   },
   "file_extension": ".py",
   "mimetype": "text/x-python",
   "name": "python",
   "nbconvert_exporter": "python",
   "pygments_lexer": "ipython3",
   "version": "3.5.2"
  }
 },
 "nbformat": 4,
 "nbformat_minor": 2
}
