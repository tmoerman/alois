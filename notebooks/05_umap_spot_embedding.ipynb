{
 "cells": [
  {
   "cell_type": "markdown",
   "metadata": {},
   "source": [
    "# 05 :: UMAP embedding of the spots"
   ]
  },
  {
   "cell_type": "code",
   "execution_count": 2,
   "metadata": {},
   "outputs": [],
   "source": [
    "from umap import UMAP"
   ]
  },
  {
   "cell_type": "code",
   "execution_count": 6,
   "metadata": {},
   "outputs": [],
   "source": [
    "# %load common.py\n",
    "import pandas as pd\n",
    "import numpy as np\n",
    "import os\n",
    "\n",
    "import matplotlib as mpl\n",
    "import matplotlib.pyplot as plt\n",
    "import seaborn as sns\n",
    "\n",
    "sns.set(style=\"whitegrid\")\n",
    "\n",
    "# Commonly used constants.\n",
    "\n",
    "slides = [\n",
    "    'B02_D1', 'B02_E1', 'B03_C2', 'B03_D2', 'B04_D1',\n",
    "    'B04_E1', 'B05_D2', 'B05_E2', 'B06_E1', 'B07_C2',\n",
    "    'N02_C1', 'N02_D1', 'N03_C2', 'N03_D2', 'N04_D1',\n",
    "    'N04_E1', 'N05_C2', 'N05_D2', 'N06_D2', 'N07_C1']\n",
    "\n",
    "GT = 'GT'\n",
    "YEN = 'AB1_StdDev_Yen'\n",
    "REGION = 'Region_predict'\n",
    "ASTROCYTE = 'astrocyte'\n",
    "NEURON = 'neuron'\n",
    "INTERNEURON = 'interneuron'\n",
    "AGE = 'age'\n",
    "DAYS = 'age_days'\n",
    "MONTHS = 'age_months'\n",
    "AGE_GT ='age_GT'\n",
    "SAMPLE_ID = 'sampleID'\n",
    "SPOT_UID = 'spot_UID'\n",
    "SLIDE_ID = 'slide_ID'\n",
    "\n",
    "# The merged data file in Parquet format.\n",
    "\n",
    "parquet = '/media/tmo/data/work/datasets/02_ST/parquet/'\n",
    "st_full = parquet + 'st_full'\n",
    "\n",
    "def read_full(path=st_full):\n",
    "    return pd.read_parquet(st_full)\n",
    "\n",
    "def enrich(full):\n",
    "    # Add age column (young, old)\n",
    "    full[AGE] = np.where(full[MONTHS] < 10, 'young', 'old')\n",
    "    \n",
    "    # Add combined column age_GT.\n",
    "    full[AGE_GT] = full[[AGE, GT]].apply(lambda x: '_'.join(x), axis=1)\n",
    "    \n",
    "    # parse slide ID\n",
    "    full['slide_ID'] = full[SPOT_UID].apply(lambda x: str(x).split('__')[0])\n",
    "    \n",
    "    return full\n",
    "\n",
    "def read_enriched(path=st_full):\n",
    "    return enrich(read_full(path))\n",
    "    \n",
    "# TODO\n",
    "# * add 'coarse_region' that joins regions with <500 entries in them into one region OTHER"
   ]
  },
  {
   "cell_type": "code",
   "execution_count": 7,
   "metadata": {},
   "outputs": [],
   "source": [
    "full = read_enriched()"
   ]
  },
  {
   "cell_type": "code",
   "execution_count": 8,
   "metadata": {},
   "outputs": [],
   "source": [
    "n_genes = 46454"
   ]
  },
  {
   "cell_type": "code",
   "execution_count": 9,
   "metadata": {},
   "outputs": [],
   "source": [
    "gene_cols = full.columns[1:n_genes+1]"
   ]
  },
  {
   "cell_type": "code",
   "execution_count": 10,
   "metadata": {},
   "outputs": [],
   "source": [
    "ex_matrix = full[gene_cols].as_matrix()"
   ]
  },
  {
   "cell_type": "code",
   "execution_count": 11,
   "metadata": {},
   "outputs": [
    {
     "data": {
      "text/plain": [
       "(10327, 46454)"
      ]
     },
     "execution_count": 11,
     "metadata": {},
     "output_type": "execute_result"
    }
   ],
   "source": [
    "ex_matrix.shape"
   ]
  },
  {
   "cell_type": "markdown",
   "metadata": {},
   "source": [
    "---"
   ]
  },
  {
   "cell_type": "markdown",
   "metadata": {},
   "source": [
    "* unfortunately, UMAP is single-threaded"
   ]
  },
  {
   "cell_type": "code",
   "execution_count": null,
   "metadata": {},
   "outputs": [],
   "source": [
    "%%time\n",
    "embedding = UMAP(n_neighbors=5,\n",
    "                 min_dist=0.3,\n",
    "                 metric='euclidean').fit_transform(ex_matrix)"
   ]
  },
  {
   "cell_type": "code",
   "execution_count": null,
   "metadata": {},
   "outputs": [],
   "source": []
  },
  {
   "cell_type": "code",
   "execution_count": null,
   "metadata": {},
   "outputs": [],
   "source": []
  },
  {
   "cell_type": "code",
   "execution_count": null,
   "metadata": {},
   "outputs": [],
   "source": []
  },
  {
   "cell_type": "code",
   "execution_count": null,
   "metadata": {},
   "outputs": [],
   "source": []
  }
 ],
 "metadata": {
  "kernelspec": {
   "display_name": "Python [default]",
   "language": "python",
   "name": "python3"
  },
  "language_info": {
   "codemirror_mode": {
    "name": "ipython",
    "version": 3
   },
   "file_extension": ".py",
   "mimetype": "text/x-python",
   "name": "python",
   "nbconvert_exporter": "python",
   "pygments_lexer": "ipython3",
   "version": "3.5.2"
  }
 },
 "nbformat": 4,
 "nbformat_minor": 2
}
